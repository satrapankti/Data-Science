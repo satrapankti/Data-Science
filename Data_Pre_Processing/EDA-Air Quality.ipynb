{
 "cells": [
  {
   "cell_type": "code",
   "execution_count": 1,
   "id": "deff5885",
   "metadata": {},
   "outputs": [],
   "source": [
    "!pip install pandas_profiling\n",
    "!pip install sweetviz"
   ]
  },
  {
   "cell_type": "code",
   "execution_count": 56,
   "id": "475033dc",
   "metadata": {},
   "outputs": [],
   "source": [
    "import pandas as pd\n",
    "import numpy as np\n",
    "import seaborn as sns\n",
    "import pandas_profiling as pp\n",
    "import sweetviz as sv"
   ]
  },
  {
   "cell_type": "markdown",
   "id": "42b34ddd",
   "metadata": {},
   "source": [
    "# EDA"
   ]
  },
  {
   "cell_type": "code",
   "execution_count": 3,
   "id": "a348a871",
   "metadata": {},
   "outputs": [],
   "source": [
    "clean = pd.read_csv(\"/data_clean.csv\")"
   ]
  },
  {
   "cell_type": "code",
   "execution_count": 4,
   "id": "0ee38377",
   "metadata": {},
   "outputs": [
    {
     "data": {
      "text/html": [
       "<div>\n",
       "<style scoped>\n",
       "    .dataframe tbody tr th:only-of-type {\n",
       "        vertical-align: middle;\n",
       "    }\n",
       "\n",
       "    .dataframe tbody tr th {\n",
       "        vertical-align: top;\n",
       "    }\n",
       "\n",
       "    .dataframe thead th {\n",
       "        text-align: right;\n",
       "    }\n",
       "</style>\n",
       "<table border=\"1\" class=\"dataframe\">\n",
       "  <thead>\n",
       "    <tr style=\"text-align: right;\">\n",
       "      <th></th>\n",
       "      <th>Unnamed: 0</th>\n",
       "      <th>Ozone</th>\n",
       "      <th>Solar.R</th>\n",
       "      <th>Wind</th>\n",
       "      <th>Temp C</th>\n",
       "      <th>Month</th>\n",
       "      <th>Day</th>\n",
       "      <th>Year</th>\n",
       "      <th>Temp</th>\n",
       "      <th>Weather</th>\n",
       "    </tr>\n",
       "  </thead>\n",
       "  <tbody>\n",
       "    <tr>\n",
       "      <th>0</th>\n",
       "      <td>1</td>\n",
       "      <td>41.0</td>\n",
       "      <td>190.0</td>\n",
       "      <td>7.4</td>\n",
       "      <td>67</td>\n",
       "      <td>5</td>\n",
       "      <td>1</td>\n",
       "      <td>2010</td>\n",
       "      <td>67</td>\n",
       "      <td>S</td>\n",
       "    </tr>\n",
       "    <tr>\n",
       "      <th>1</th>\n",
       "      <td>2</td>\n",
       "      <td>36.0</td>\n",
       "      <td>118.0</td>\n",
       "      <td>8.0</td>\n",
       "      <td>72</td>\n",
       "      <td>5</td>\n",
       "      <td>2</td>\n",
       "      <td>2010</td>\n",
       "      <td>72</td>\n",
       "      <td>C</td>\n",
       "    </tr>\n",
       "    <tr>\n",
       "      <th>2</th>\n",
       "      <td>3</td>\n",
       "      <td>12.0</td>\n",
       "      <td>149.0</td>\n",
       "      <td>12.6</td>\n",
       "      <td>74</td>\n",
       "      <td>5</td>\n",
       "      <td>3</td>\n",
       "      <td>2010</td>\n",
       "      <td>74</td>\n",
       "      <td>PS</td>\n",
       "    </tr>\n",
       "    <tr>\n",
       "      <th>3</th>\n",
       "      <td>4</td>\n",
       "      <td>18.0</td>\n",
       "      <td>313.0</td>\n",
       "      <td>11.5</td>\n",
       "      <td>62</td>\n",
       "      <td>5</td>\n",
       "      <td>4</td>\n",
       "      <td>2010</td>\n",
       "      <td>62</td>\n",
       "      <td>S</td>\n",
       "    </tr>\n",
       "    <tr>\n",
       "      <th>4</th>\n",
       "      <td>5</td>\n",
       "      <td>NaN</td>\n",
       "      <td>NaN</td>\n",
       "      <td>14.3</td>\n",
       "      <td>56</td>\n",
       "      <td>5</td>\n",
       "      <td>5</td>\n",
       "      <td>2010</td>\n",
       "      <td>56</td>\n",
       "      <td>S</td>\n",
       "    </tr>\n",
       "  </tbody>\n",
       "</table>\n",
       "</div>"
      ],
      "text/plain": [
       "   Unnamed: 0  Ozone  Solar.R  Wind Temp C Month  Day  Year  Temp Weather\n",
       "0           1   41.0    190.0   7.4     67     5    1  2010    67       S\n",
       "1           2   36.0    118.0   8.0     72     5    2  2010    72       C\n",
       "2           3   12.0    149.0  12.6     74     5    3  2010    74      PS\n",
       "3           4   18.0    313.0  11.5     62     5    4  2010    62       S\n",
       "4           5    NaN      NaN  14.3     56     5    5  2010    56       S"
      ]
     },
     "execution_count": 4,
     "metadata": {},
     "output_type": "execute_result"
    }
   ],
   "source": [
    "clean.head()"
   ]
  },
  {
   "cell_type": "code",
   "execution_count": 5,
   "id": "237b8dea",
   "metadata": {},
   "outputs": [
    {
     "data": {
      "text/plain": [
       "pandas.core.frame.DataFrame"
      ]
     },
     "execution_count": 5,
     "metadata": {},
     "output_type": "execute_result"
    }
   ],
   "source": [
    "type(clean)  # to check the data structure"
   ]
  },
  {
   "cell_type": "code",
   "execution_count": 6,
   "id": "818d262d",
   "metadata": {},
   "outputs": [
    {
     "data": {
      "text/plain": [
       "(158, 10)"
      ]
     },
     "execution_count": 6,
     "metadata": {},
     "output_type": "execute_result"
    }
   ],
   "source": [
    "clean.shape   # r,c"
   ]
  },
  {
   "cell_type": "code",
   "execution_count": 7,
   "id": "a6d20621",
   "metadata": {},
   "outputs": [
    {
     "data": {
      "text/plain": [
       "Unnamed: 0      int64\n",
       "Ozone         float64\n",
       "Solar.R       float64\n",
       "Wind          float64\n",
       "Temp C         object\n",
       "Month          object\n",
       "Day             int64\n",
       "Year            int64\n",
       "Temp            int64\n",
       "Weather        object\n",
       "dtype: object"
      ]
     },
     "execution_count": 7,
     "metadata": {},
     "output_type": "execute_result"
    }
   ],
   "source": [
    "clean.dtypes  # object means mix data"
   ]
  },
  {
   "cell_type": "code",
   "execution_count": 8,
   "id": "7ebf2b29",
   "metadata": {},
   "outputs": [
    {
     "name": "stdout",
     "output_type": "stream",
     "text": [
      "<class 'pandas.core.frame.DataFrame'>\n",
      "RangeIndex: 158 entries, 0 to 157\n",
      "Data columns (total 10 columns):\n",
      " #   Column      Non-Null Count  Dtype  \n",
      "---  ------      --------------  -----  \n",
      " 0   Unnamed: 0  158 non-null    int64  \n",
      " 1   Ozone       120 non-null    float64\n",
      " 2   Solar.R     151 non-null    float64\n",
      " 3   Wind        158 non-null    float64\n",
      " 4   Temp C      158 non-null    object \n",
      " 5   Month       158 non-null    object \n",
      " 6   Day         158 non-null    int64  \n",
      " 7   Year        158 non-null    int64  \n",
      " 8   Temp        158 non-null    int64  \n",
      " 9   Weather     155 non-null    object \n",
      "dtypes: float64(3), int64(4), object(3)\n",
      "memory usage: 12.5+ KB\n"
     ]
    }
   ],
   "source": [
    "clean.info() #check not null as per total entries"
   ]
  },
  {
   "cell_type": "code",
   "execution_count": 9,
   "id": "2d768b39",
   "metadata": {},
   "outputs": [
    {
     "data": {
      "text/html": [
       "<div>\n",
       "<style scoped>\n",
       "    .dataframe tbody tr th:only-of-type {\n",
       "        vertical-align: middle;\n",
       "    }\n",
       "\n",
       "    .dataframe tbody tr th {\n",
       "        vertical-align: top;\n",
       "    }\n",
       "\n",
       "    .dataframe thead th {\n",
       "        text-align: right;\n",
       "    }\n",
       "</style>\n",
       "<table border=\"1\" class=\"dataframe\">\n",
       "  <thead>\n",
       "    <tr style=\"text-align: right;\">\n",
       "      <th></th>\n",
       "      <th>Ozone</th>\n",
       "      <th>Solar.R</th>\n",
       "      <th>Wind</th>\n",
       "      <th>Temp C</th>\n",
       "      <th>Month</th>\n",
       "      <th>Day</th>\n",
       "      <th>Year</th>\n",
       "      <th>Temp</th>\n",
       "      <th>Weather</th>\n",
       "    </tr>\n",
       "  </thead>\n",
       "  <tbody>\n",
       "    <tr>\n",
       "      <th>153</th>\n",
       "      <td>41.0</td>\n",
       "      <td>190.0</td>\n",
       "      <td>7.4</td>\n",
       "      <td>67</td>\n",
       "      <td>5</td>\n",
       "      <td>1</td>\n",
       "      <td>2010</td>\n",
       "      <td>67</td>\n",
       "      <td>C</td>\n",
       "    </tr>\n",
       "    <tr>\n",
       "      <th>154</th>\n",
       "      <td>30.0</td>\n",
       "      <td>193.0</td>\n",
       "      <td>6.9</td>\n",
       "      <td>70</td>\n",
       "      <td>9</td>\n",
       "      <td>26</td>\n",
       "      <td>2010</td>\n",
       "      <td>70</td>\n",
       "      <td>PS</td>\n",
       "    </tr>\n",
       "    <tr>\n",
       "      <th>155</th>\n",
       "      <td>NaN</td>\n",
       "      <td>145.0</td>\n",
       "      <td>13.2</td>\n",
       "      <td>77</td>\n",
       "      <td>9</td>\n",
       "      <td>27</td>\n",
       "      <td>2010</td>\n",
       "      <td>77</td>\n",
       "      <td>S</td>\n",
       "    </tr>\n",
       "    <tr>\n",
       "      <th>156</th>\n",
       "      <td>14.0</td>\n",
       "      <td>191.0</td>\n",
       "      <td>14.3</td>\n",
       "      <td>75</td>\n",
       "      <td>9</td>\n",
       "      <td>28</td>\n",
       "      <td>2010</td>\n",
       "      <td>75</td>\n",
       "      <td>S</td>\n",
       "    </tr>\n",
       "    <tr>\n",
       "      <th>157</th>\n",
       "      <td>18.0</td>\n",
       "      <td>131.0</td>\n",
       "      <td>8.0</td>\n",
       "      <td>76</td>\n",
       "      <td>9</td>\n",
       "      <td>29</td>\n",
       "      <td>2010</td>\n",
       "      <td>76</td>\n",
       "      <td>C</td>\n",
       "    </tr>\n",
       "  </tbody>\n",
       "</table>\n",
       "</div>"
      ],
      "text/plain": [
       "     Ozone  Solar.R  Wind Temp C Month  Day  Year  Temp Weather\n",
       "153   41.0    190.0   7.4     67     5    1  2010    67       C\n",
       "154   30.0    193.0   6.9     70     9   26  2010    70      PS\n",
       "155    NaN    145.0  13.2     77     9   27  2010    77       S\n",
       "156   14.0    191.0  14.3     75     9   28  2010    75       S\n",
       "157   18.0    131.0   8.0     76     9   29  2010    76       C"
      ]
     },
     "execution_count": 9,
     "metadata": {},
     "output_type": "execute_result"
    }
   ],
   "source": [
    "clean2=clean.iloc[:,1:]  # to remove column 1 -Data Clean\n",
    "clean2.tail()"
   ]
  },
  {
   "cell_type": "code",
   "execution_count": 10,
   "id": "0629dd5e",
   "metadata": {},
   "outputs": [
    {
     "data": {
      "text/html": [
       "<div>\n",
       "<style scoped>\n",
       "    .dataframe tbody tr th:only-of-type {\n",
       "        vertical-align: middle;\n",
       "    }\n",
       "\n",
       "    .dataframe tbody tr th {\n",
       "        vertical-align: top;\n",
       "    }\n",
       "\n",
       "    .dataframe thead th {\n",
       "        text-align: right;\n",
       "    }\n",
       "</style>\n",
       "<table border=\"1\" class=\"dataframe\">\n",
       "  <thead>\n",
       "    <tr style=\"text-align: right;\">\n",
       "      <th></th>\n",
       "      <th>Ozone</th>\n",
       "      <th>Solar.R</th>\n",
       "      <th>Wind</th>\n",
       "      <th>Temp C</th>\n",
       "      <th>Month</th>\n",
       "      <th>Day</th>\n",
       "      <th>Year</th>\n",
       "      <th>Temp</th>\n",
       "      <th>Weather</th>\n",
       "    </tr>\n",
       "  </thead>\n",
       "  <tbody>\n",
       "    <tr>\n",
       "      <th>0</th>\n",
       "      <td>41.0</td>\n",
       "      <td>190.0</td>\n",
       "      <td>7.4</td>\n",
       "      <td>67</td>\n",
       "      <td>5</td>\n",
       "      <td>1</td>\n",
       "      <td>2010</td>\n",
       "      <td>67</td>\n",
       "      <td>S</td>\n",
       "    </tr>\n",
       "    <tr>\n",
       "      <th>1</th>\n",
       "      <td>36.0</td>\n",
       "      <td>118.0</td>\n",
       "      <td>8.0</td>\n",
       "      <td>72</td>\n",
       "      <td>5</td>\n",
       "      <td>2</td>\n",
       "      <td>2010</td>\n",
       "      <td>72</td>\n",
       "      <td>C</td>\n",
       "    </tr>\n",
       "    <tr>\n",
       "      <th>2</th>\n",
       "      <td>12.0</td>\n",
       "      <td>149.0</td>\n",
       "      <td>12.6</td>\n",
       "      <td>74</td>\n",
       "      <td>5</td>\n",
       "      <td>3</td>\n",
       "      <td>2010</td>\n",
       "      <td>74</td>\n",
       "      <td>PS</td>\n",
       "    </tr>\n",
       "    <tr>\n",
       "      <th>3</th>\n",
       "      <td>18.0</td>\n",
       "      <td>313.0</td>\n",
       "      <td>11.5</td>\n",
       "      <td>62</td>\n",
       "      <td>5</td>\n",
       "      <td>4</td>\n",
       "      <td>2010</td>\n",
       "      <td>62</td>\n",
       "      <td>S</td>\n",
       "    </tr>\n",
       "    <tr>\n",
       "      <th>4</th>\n",
       "      <td>NaN</td>\n",
       "      <td>NaN</td>\n",
       "      <td>14.3</td>\n",
       "      <td>56</td>\n",
       "      <td>5</td>\n",
       "      <td>5</td>\n",
       "      <td>2010</td>\n",
       "      <td>56</td>\n",
       "      <td>S</td>\n",
       "    </tr>\n",
       "  </tbody>\n",
       "</table>\n",
       "</div>"
      ],
      "text/plain": [
       "   Ozone  Solar.R  Wind Temp C Month  Day  Year  Temp Weather\n",
       "0   41.0    190.0   7.4     67     5    1  2010    67       S\n",
       "1   36.0    118.0   8.0     72     5    2  2010    72       C\n",
       "2   12.0    149.0  12.6     74     5    3  2010    74      PS\n",
       "3   18.0    313.0  11.5     62     5    4  2010    62       S\n",
       "4    NaN      NaN  14.3     56     5    5  2010    56       S"
      ]
     },
     "execution_count": 10,
     "metadata": {},
     "output_type": "execute_result"
    }
   ],
   "source": [
    "#The method df.copy() is used here so that any changes made in new DataFrame don't get reflected in the original one\n",
    "dclean=clean2.copy()\n",
    "dclean.head()"
   ]
  },
  {
   "cell_type": "markdown",
   "id": "54503467",
   "metadata": {},
   "source": [
    "## Conversion of dtypes"
   ]
  },
  {
   "cell_type": "code",
   "execution_count": 11,
   "id": "8eb2c52b",
   "metadata": {},
   "outputs": [],
   "source": [
    "#treating columns where python assigned \"object\" dtype due to ambiguity in data\n",
    "# coerce will introduce NA values for non numeric data in the columns\n",
    "dclean['Month']=pd.to_numeric(dclean['Month'],errors='coerce')\n",
    "dclean['Temp C']=pd.to_numeric(dclean['Temp C'],errors='coerce')\n",
    "dclean['Weather']=dclean['Weather'].astype('category')           #dclean['Wind']=dclean['Wind'].astype('int64')"
   ]
  },
  {
   "cell_type": "code",
   "execution_count": 12,
   "id": "700ecd79",
   "metadata": {},
   "outputs": [
    {
     "data": {
      "text/plain": [
       "array([ 5.,  5.,  5.,  5.,  5.,  5.,  5.,  5.,  5.,  5.,  5.,  5.,  5.,\n",
       "        5.,  5.,  5.,  5.,  5.,  5.,  5.,  5.,  5.,  5., nan,  5.,  5.,\n",
       "        5.,  5.,  5.,  5.,  5.,  6.,  6.,  6.,  6.,  6.,  6.,  6.,  6.,\n",
       "        6.,  6.,  6.,  6.,  6.,  6.,  6.,  6.,  6.,  6.,  6.,  6.,  6.,\n",
       "        6.,  6.,  6.,  6.,  6.,  6.,  6.,  6.,  6.,  7.,  7.,  7.,  7.,\n",
       "        7.,  7.,  7.,  7.,  7.,  7.,  7.,  7.,  7.,  7.,  7.,  7.,  7.,\n",
       "        7.,  7.,  7.,  7.,  7.,  7.,  7.,  7.,  7.,  7.,  7.,  7.,  7.,\n",
       "        7.,  8.,  8.,  8.,  8.,  8.,  8.,  8.,  8.,  8.,  8.,  8.,  8.,\n",
       "        8.,  8.,  8.,  8.,  8.,  8.,  8.,  8.,  8.,  8.,  8.,  8.,  8.,\n",
       "        8.,  8.,  8.,  8.,  8.,  8.,  9.,  9.,  9.,  9.,  9.,  9.,  9.,\n",
       "        9.,  9.,  9.,  9.,  9.,  9.,  9.,  9.,  9.,  9.,  9.,  9.,  9.,\n",
       "        9.,  9.,  9.,  9.,  9.,  9.,  9.,  9.,  9.,  9.,  5.,  9.,  9.,\n",
       "        9.,  9.])"
      ]
     },
     "execution_count": 12,
     "metadata": {},
     "output_type": "execute_result"
    }
   ],
   "source": [
    "dclean.Month.values"
   ]
  },
  {
   "cell_type": "code",
   "execution_count": 13,
   "id": "858ec30a",
   "metadata": {},
   "outputs": [
    {
     "data": {
      "text/plain": [
       "['S', 'C', 'PS', 'S', 'S', ..., 'C', 'PS', 'S', 'S', 'C']\n",
       "Length: 158\n",
       "Categories (3, object): ['C', 'PS', 'S']"
      ]
     },
     "execution_count": 13,
     "metadata": {},
     "output_type": "execute_result"
    }
   ],
   "source": [
    "dclean[\"Weather\"].values"
   ]
  },
  {
   "cell_type": "code",
   "execution_count": 14,
   "id": "c1146bf4",
   "metadata": {},
   "outputs": [
    {
     "name": "stdout",
     "output_type": "stream",
     "text": [
      "<class 'pandas.core.frame.DataFrame'>\n",
      "RangeIndex: 158 entries, 0 to 157\n",
      "Data columns (total 9 columns):\n",
      " #   Column   Non-Null Count  Dtype   \n",
      "---  ------   --------------  -----   \n",
      " 0   Ozone    120 non-null    float64 \n",
      " 1   Solar.R  151 non-null    float64 \n",
      " 2   Wind     158 non-null    float64 \n",
      " 3   Temp C   157 non-null    float64 \n",
      " 4   Month    157 non-null    float64 \n",
      " 5   Day      158 non-null    int64   \n",
      " 6   Year     158 non-null    int64   \n",
      " 7   Temp     158 non-null    int64   \n",
      " 8   Weather  155 non-null    category\n",
      "dtypes: category(1), float64(5), int64(3)\n",
      "memory usage: 10.3 KB\n"
     ]
    }
   ],
   "source": [
    "dclean.info()"
   ]
  },
  {
   "cell_type": "markdown",
   "id": "a64f0fb4",
   "metadata": {},
   "source": [
    "## Duplicates"
   ]
  },
  {
   "cell_type": "code",
   "execution_count": 15,
   "id": "1d01090c",
   "metadata": {},
   "outputs": [
    {
     "data": {
      "text/plain": [
       "0      False\n",
       "1      False\n",
       "2      False\n",
       "3      False\n",
       "4      False\n",
       "       ...  \n",
       "153    False\n",
       "154    False\n",
       "155    False\n",
       "156     True\n",
       "157    False\n",
       "Length: 158, dtype: bool"
      ]
     },
     "execution_count": 15,
     "metadata": {},
     "output_type": "execute_result"
    }
   ],
   "source": [
    "# will return bool which one is duplicated\n",
    "dclean.duplicated()"
   ]
  },
  {
   "cell_type": "code",
   "execution_count": 16,
   "id": "aa8a17d1",
   "metadata": {},
   "outputs": [
    {
     "data": {
      "text/plain": [
       "(1, 9)"
      ]
     },
     "execution_count": 16,
     "metadata": {},
     "output_type": "execute_result"
    }
   ],
   "source": [
    "#Count of duplicated rows\n",
    "dclean[dclean.duplicated()].shape"
   ]
  },
  {
   "cell_type": "code",
   "execution_count": 17,
   "id": "fad08e94",
   "metadata": {},
   "outputs": [
    {
     "data": {
      "text/html": [
       "<div>\n",
       "<style scoped>\n",
       "    .dataframe tbody tr th:only-of-type {\n",
       "        vertical-align: middle;\n",
       "    }\n",
       "\n",
       "    .dataframe tbody tr th {\n",
       "        vertical-align: top;\n",
       "    }\n",
       "\n",
       "    .dataframe thead th {\n",
       "        text-align: right;\n",
       "    }\n",
       "</style>\n",
       "<table border=\"1\" class=\"dataframe\">\n",
       "  <thead>\n",
       "    <tr style=\"text-align: right;\">\n",
       "      <th></th>\n",
       "      <th>Ozone</th>\n",
       "      <th>Solar.R</th>\n",
       "      <th>Wind</th>\n",
       "      <th>Temp C</th>\n",
       "      <th>Month</th>\n",
       "      <th>Day</th>\n",
       "      <th>Year</th>\n",
       "      <th>Temp</th>\n",
       "      <th>Weather</th>\n",
       "    </tr>\n",
       "  </thead>\n",
       "  <tbody>\n",
       "    <tr>\n",
       "      <th>156</th>\n",
       "      <td>14.0</td>\n",
       "      <td>191.0</td>\n",
       "      <td>14.3</td>\n",
       "      <td>75.0</td>\n",
       "      <td>9.0</td>\n",
       "      <td>28</td>\n",
       "      <td>2010</td>\n",
       "      <td>75</td>\n",
       "      <td>S</td>\n",
       "    </tr>\n",
       "  </tbody>\n",
       "</table>\n",
       "</div>"
      ],
      "text/plain": [
       "     Ozone  Solar.R  Wind  Temp C  Month  Day  Year  Temp Weather\n",
       "156   14.0    191.0  14.3    75.0    9.0   28  2010    75       S"
      ]
     },
     "execution_count": 17,
     "metadata": {},
     "output_type": "execute_result"
    }
   ],
   "source": [
    "#Print the duplicated rows\n",
    "dclean[dclean.duplicated()]"
   ]
  },
  {
   "cell_type": "code",
   "execution_count": 18,
   "id": "bf10bf97",
   "metadata": {},
   "outputs": [],
   "source": [
    "#Drop duplicate rows\n",
    "dc1=dclean.drop_duplicates()"
   ]
  },
  {
   "cell_type": "code",
   "execution_count": 19,
   "id": "4b5bcfef",
   "metadata": {},
   "outputs": [
    {
     "data": {
      "text/plain": [
       "(157, 9)"
      ]
     },
     "execution_count": 19,
     "metadata": {},
     "output_type": "execute_result"
    }
   ],
   "source": [
    "#verified that the row has been deleted\n",
    "dc1.shape"
   ]
  },
  {
   "cell_type": "markdown",
   "id": "2da2b085",
   "metadata": {},
   "source": [
    "## Drop columns"
   ]
  },
  {
   "cell_type": "code",
   "execution_count": 20,
   "id": "cb2f729b",
   "metadata": {},
   "outputs": [
    {
     "data": {
      "text/html": [
       "<div>\n",
       "<style scoped>\n",
       "    .dataframe tbody tr th:only-of-type {\n",
       "        vertical-align: middle;\n",
       "    }\n",
       "\n",
       "    .dataframe tbody tr th {\n",
       "        vertical-align: top;\n",
       "    }\n",
       "\n",
       "    .dataframe thead th {\n",
       "        text-align: right;\n",
       "    }\n",
       "</style>\n",
       "<table border=\"1\" class=\"dataframe\">\n",
       "  <thead>\n",
       "    <tr style=\"text-align: right;\">\n",
       "      <th></th>\n",
       "      <th>Ozone</th>\n",
       "      <th>Solar.R</th>\n",
       "      <th>Wind</th>\n",
       "      <th>Month</th>\n",
       "      <th>Day</th>\n",
       "      <th>Year</th>\n",
       "      <th>Temp</th>\n",
       "      <th>Weather</th>\n",
       "    </tr>\n",
       "  </thead>\n",
       "  <tbody>\n",
       "    <tr>\n",
       "      <th>0</th>\n",
       "      <td>41.0</td>\n",
       "      <td>190.0</td>\n",
       "      <td>7.4</td>\n",
       "      <td>5.0</td>\n",
       "      <td>1</td>\n",
       "      <td>2010</td>\n",
       "      <td>67</td>\n",
       "      <td>S</td>\n",
       "    </tr>\n",
       "    <tr>\n",
       "      <th>1</th>\n",
       "      <td>36.0</td>\n",
       "      <td>118.0</td>\n",
       "      <td>8.0</td>\n",
       "      <td>5.0</td>\n",
       "      <td>2</td>\n",
       "      <td>2010</td>\n",
       "      <td>72</td>\n",
       "      <td>C</td>\n",
       "    </tr>\n",
       "    <tr>\n",
       "      <th>2</th>\n",
       "      <td>12.0</td>\n",
       "      <td>149.0</td>\n",
       "      <td>12.6</td>\n",
       "      <td>5.0</td>\n",
       "      <td>3</td>\n",
       "      <td>2010</td>\n",
       "      <td>74</td>\n",
       "      <td>PS</td>\n",
       "    </tr>\n",
       "    <tr>\n",
       "      <th>3</th>\n",
       "      <td>18.0</td>\n",
       "      <td>313.0</td>\n",
       "      <td>11.5</td>\n",
       "      <td>5.0</td>\n",
       "      <td>4</td>\n",
       "      <td>2010</td>\n",
       "      <td>62</td>\n",
       "      <td>S</td>\n",
       "    </tr>\n",
       "    <tr>\n",
       "      <th>4</th>\n",
       "      <td>NaN</td>\n",
       "      <td>NaN</td>\n",
       "      <td>14.3</td>\n",
       "      <td>5.0</td>\n",
       "      <td>5</td>\n",
       "      <td>2010</td>\n",
       "      <td>56</td>\n",
       "      <td>S</td>\n",
       "    </tr>\n",
       "  </tbody>\n",
       "</table>\n",
       "</div>"
      ],
      "text/plain": [
       "   Ozone  Solar.R  Wind  Month  Day  Year  Temp Weather\n",
       "0   41.0    190.0   7.4    5.0    1  2010    67       S\n",
       "1   36.0    118.0   8.0    5.0    2  2010    72       C\n",
       "2   12.0    149.0  12.6    5.0    3  2010    74      PS\n",
       "3   18.0    313.0  11.5    5.0    4  2010    62       S\n",
       "4    NaN      NaN  14.3    5.0    5  2010    56       S"
      ]
     },
     "execution_count": 20,
     "metadata": {},
     "output_type": "execute_result"
    }
   ],
   "source": [
    "dc2=dc1.drop('Temp C',axis=1)\n",
    "dc2.head()"
   ]
  },
  {
   "cell_type": "markdown",
   "id": "7b7b1d0d",
   "metadata": {},
   "source": [
    "## Rename the columns"
   ]
  },
  {
   "cell_type": "code",
   "execution_count": 21,
   "id": "21ae409f",
   "metadata": {},
   "outputs": [
    {
     "data": {
      "text/html": [
       "<div>\n",
       "<style scoped>\n",
       "    .dataframe tbody tr th:only-of-type {\n",
       "        vertical-align: middle;\n",
       "    }\n",
       "\n",
       "    .dataframe tbody tr th {\n",
       "        vertical-align: top;\n",
       "    }\n",
       "\n",
       "    .dataframe thead th {\n",
       "        text-align: right;\n",
       "    }\n",
       "</style>\n",
       "<table border=\"1\" class=\"dataframe\">\n",
       "  <thead>\n",
       "    <tr style=\"text-align: right;\">\n",
       "      <th></th>\n",
       "      <th>Ozone</th>\n",
       "      <th>Solar</th>\n",
       "      <th>Wind</th>\n",
       "      <th>Month</th>\n",
       "      <th>Day</th>\n",
       "      <th>Year</th>\n",
       "      <th>Temp</th>\n",
       "      <th>Weather</th>\n",
       "    </tr>\n",
       "  </thead>\n",
       "  <tbody>\n",
       "    <tr>\n",
       "      <th>0</th>\n",
       "      <td>41.0</td>\n",
       "      <td>190.0</td>\n",
       "      <td>7.4</td>\n",
       "      <td>5.0</td>\n",
       "      <td>1</td>\n",
       "      <td>2010</td>\n",
       "      <td>67</td>\n",
       "      <td>S</td>\n",
       "    </tr>\n",
       "    <tr>\n",
       "      <th>1</th>\n",
       "      <td>36.0</td>\n",
       "      <td>118.0</td>\n",
       "      <td>8.0</td>\n",
       "      <td>5.0</td>\n",
       "      <td>2</td>\n",
       "      <td>2010</td>\n",
       "      <td>72</td>\n",
       "      <td>C</td>\n",
       "    </tr>\n",
       "    <tr>\n",
       "      <th>2</th>\n",
       "      <td>12.0</td>\n",
       "      <td>149.0</td>\n",
       "      <td>12.6</td>\n",
       "      <td>5.0</td>\n",
       "      <td>3</td>\n",
       "      <td>2010</td>\n",
       "      <td>74</td>\n",
       "      <td>PS</td>\n",
       "    </tr>\n",
       "    <tr>\n",
       "      <th>3</th>\n",
       "      <td>18.0</td>\n",
       "      <td>313.0</td>\n",
       "      <td>11.5</td>\n",
       "      <td>5.0</td>\n",
       "      <td>4</td>\n",
       "      <td>2010</td>\n",
       "      <td>62</td>\n",
       "      <td>S</td>\n",
       "    </tr>\n",
       "    <tr>\n",
       "      <th>4</th>\n",
       "      <td>NaN</td>\n",
       "      <td>NaN</td>\n",
       "      <td>14.3</td>\n",
       "      <td>5.0</td>\n",
       "      <td>5</td>\n",
       "      <td>2010</td>\n",
       "      <td>56</td>\n",
       "      <td>S</td>\n",
       "    </tr>\n",
       "  </tbody>\n",
       "</table>\n",
       "</div>"
      ],
      "text/plain": [
       "   Ozone  Solar  Wind  Month  Day  Year  Temp Weather\n",
       "0   41.0  190.0   7.4    5.0    1  2010    67       S\n",
       "1   36.0  118.0   8.0    5.0    2  2010    72       C\n",
       "2   12.0  149.0  12.6    5.0    3  2010    74      PS\n",
       "3   18.0  313.0  11.5    5.0    4  2010    62       S\n",
       "4    NaN    NaN  14.3    5.0    5  2010    56       S"
      ]
     },
     "execution_count": 21,
     "metadata": {},
     "output_type": "execute_result"
    }
   ],
   "source": [
    "#rename the Solar column\n",
    "dc3= dc2.rename({'Solar.R': 'Solar'}, axis=1)\n",
    "dc3.head()"
   ]
  },
  {
   "cell_type": "markdown",
   "id": "b6197c3e",
   "metadata": {},
   "source": [
    "## Outlier Detection"
   ]
  },
  {
   "cell_type": "code",
   "execution_count": 22,
   "id": "5be872f0",
   "metadata": {},
   "outputs": [
    {
     "data": {
      "image/png": "[encoded data removed]",
      "text/plain": [
       "<Figure size 432x288 with 1 Axes>"
      ]
     },
     "metadata": {
      "needs_background": "light"
     },
     "output_type": "display_data"
    }
   ],
   "source": [
    "# histogram of Ozone\n",
    "dc3['Ozone'].hist();"
   ]
  },
  {
   "cell_type": "code",
   "execution_count": 23,
   "id": "398bfd76",
   "metadata": {},
   "outputs": [
    {
     "data": {
      "image/png": "[encoded data removed]",
      "text/plain": [
       "<Figure size 432x288 with 1 Axes>"
      ]
     },
     "metadata": {
      "needs_background": "light"
     },
     "output_type": "display_data"
    }
   ],
   "source": [
    "#Box plot\n",
    "dc3.boxplot(column=['Ozone']);"
   ]
  },
  {
   "cell_type": "code",
   "execution_count": 24,
   "id": "f3bca075",
   "metadata": {},
   "outputs": [
    {
     "data": {
      "text/plain": [
       "count    119.000000\n",
       "mean      41.815126\n",
       "std       32.659249\n",
       "min        1.000000\n",
       "25%       18.000000\n",
       "50%       31.000000\n",
       "75%       62.000000\n",
       "max      168.000000\n",
       "Name: Ozone, dtype: float64"
      ]
     },
     "execution_count": 24,
     "metadata": {},
     "output_type": "execute_result"
    }
   ],
   "source": [
    "#Descriptive stat\n",
    "dc3['Ozone'].describe()"
   ]
  },
  {
   "cell_type": "code",
   "execution_count": 25,
   "id": "228bfa4e",
   "metadata": {},
   "outputs": [
    {
     "data": {
      "image/png": "[encoded data removed]",
      "text/plain": [
       "<Figure size 432x288 with 1 Axes>"
      ]
     },
     "metadata": {
      "needs_background": "light"
     },
     "output_type": "display_data"
    }
   ],
   "source": [
    "#Bar plot\n",
    "dc3['Weather'].value_counts().plot.bar();"
   ]
  },
  {
   "cell_type": "markdown",
   "id": "ebb008cc",
   "metadata": {},
   "source": [
    "## Missing Values and Imputation"
   ]
  },
  {
   "cell_type": "code",
   "execution_count": 26,
   "id": "aea34466",
   "metadata": {},
   "outputs": [
    {
     "data": {
      "image/png": "[encoded data removed]",
      "text/plain": [
       "<Figure size 432x288 with 2 Axes>"
      ]
     },
     "metadata": {
      "needs_background": "light"
     },
     "output_type": "display_data"
    }
   ],
   "source": [
    "cols = dc3.columns \n",
    "colours = ['lightblue', 'red'] # specify the colours - red is missing. blue is not missing.\n",
    "sns.heatmap(dc3[cols].isnull(),cmap=sns.color_palette(colours));"
   ]
  },
  {
   "cell_type": "code",
   "execution_count": 27,
   "id": "2ae28fdf",
   "metadata": {},
   "outputs": [
    {
     "data": {
      "text/html": [
       "<div>\n",
       "<style scoped>\n",
       "    .dataframe tbody tr th:only-of-type {\n",
       "        vertical-align: middle;\n",
       "    }\n",
       "\n",
       "    .dataframe tbody tr th {\n",
       "        vertical-align: top;\n",
       "    }\n",
       "\n",
       "    .dataframe thead th {\n",
       "        text-align: right;\n",
       "    }\n",
       "</style>\n",
       "<table border=\"1\" class=\"dataframe\">\n",
       "  <thead>\n",
       "    <tr style=\"text-align: right;\">\n",
       "      <th></th>\n",
       "      <th>Ozone</th>\n",
       "      <th>Solar</th>\n",
       "      <th>Wind</th>\n",
       "      <th>Month</th>\n",
       "      <th>Day</th>\n",
       "      <th>Year</th>\n",
       "      <th>Temp</th>\n",
       "      <th>Weather</th>\n",
       "    </tr>\n",
       "  </thead>\n",
       "  <tbody>\n",
       "    <tr>\n",
       "      <th>4</th>\n",
       "      <td>NaN</td>\n",
       "      <td>NaN</td>\n",
       "      <td>14.3</td>\n",
       "      <td>5.0</td>\n",
       "      <td>5</td>\n",
       "      <td>2010</td>\n",
       "      <td>56</td>\n",
       "      <td>S</td>\n",
       "    </tr>\n",
       "    <tr>\n",
       "      <th>5</th>\n",
       "      <td>28.0</td>\n",
       "      <td>NaN</td>\n",
       "      <td>14.9</td>\n",
       "      <td>5.0</td>\n",
       "      <td>6</td>\n",
       "      <td>2010</td>\n",
       "      <td>66</td>\n",
       "      <td>C</td>\n",
       "    </tr>\n",
       "    <tr>\n",
       "      <th>9</th>\n",
       "      <td>NaN</td>\n",
       "      <td>194.0</td>\n",
       "      <td>8.6</td>\n",
       "      <td>5.0</td>\n",
       "      <td>10</td>\n",
       "      <td>2010</td>\n",
       "      <td>69</td>\n",
       "      <td>S</td>\n",
       "    </tr>\n",
       "    <tr>\n",
       "      <th>10</th>\n",
       "      <td>7.0</td>\n",
       "      <td>NaN</td>\n",
       "      <td>6.9</td>\n",
       "      <td>5.0</td>\n",
       "      <td>11</td>\n",
       "      <td>2010</td>\n",
       "      <td>74</td>\n",
       "      <td>C</td>\n",
       "    </tr>\n",
       "    <tr>\n",
       "      <th>23</th>\n",
       "      <td>32.0</td>\n",
       "      <td>92.0</td>\n",
       "      <td>12.0</td>\n",
       "      <td>NaN</td>\n",
       "      <td>24</td>\n",
       "      <td>2010</td>\n",
       "      <td>61</td>\n",
       "      <td>C</td>\n",
       "    </tr>\n",
       "  </tbody>\n",
       "</table>\n",
       "</div>"
      ],
      "text/plain": [
       "    Ozone  Solar  Wind  Month  Day  Year  Temp Weather\n",
       "4     NaN    NaN  14.3    5.0    5  2010    56       S\n",
       "5    28.0    NaN  14.9    5.0    6  2010    66       C\n",
       "9     NaN  194.0   8.6    5.0   10  2010    69       S\n",
       "10    7.0    NaN   6.9    5.0   11  2010    74       C\n",
       "23   32.0   92.0  12.0    NaN   24  2010    61       C"
      ]
     },
     "execution_count": 27,
     "metadata": {},
     "output_type": "execute_result"
    }
   ],
   "source": [
    "dc3[dc3.isnull().any(axis=1)].head()"
   ]
  },
  {
   "cell_type": "code",
   "execution_count": 28,
   "id": "01e19e02",
   "metadata": {},
   "outputs": [
    {
     "data": {
      "text/plain": [
       "Ozone      38\n",
       "Solar       7\n",
       "Wind        0\n",
       "Month       1\n",
       "Day         0\n",
       "Year        0\n",
       "Temp        0\n",
       "Weather     3\n",
       "dtype: int64"
      ]
     },
     "execution_count": 28,
     "metadata": {},
     "output_type": "execute_result"
    }
   ],
   "source": [
    "dc3.isnull().sum()"
   ]
  },
  {
   "cell_type": "code",
   "execution_count": 29,
   "id": "2a8605d0",
   "metadata": {},
   "outputs": [
    {
     "name": "stdout",
     "output_type": "stream",
     "text": [
      "41.81512605042017\n"
     ]
    }
   ],
   "source": [
    "#Mean Imputation ->replacing NA in numeric values with mean of the data\n",
    "mean = dc3['Ozone'].mean()\n",
    "print(mean)"
   ]
  },
  {
   "cell_type": "code",
   "execution_count": 30,
   "id": "1f0cd716",
   "metadata": {},
   "outputs": [
    {
     "data": {
      "text/html": [
       "<div>\n",
       "<style scoped>\n",
       "    .dataframe tbody tr th:only-of-type {\n",
       "        vertical-align: middle;\n",
       "    }\n",
       "\n",
       "    .dataframe tbody tr th {\n",
       "        vertical-align: top;\n",
       "    }\n",
       "\n",
       "    .dataframe thead th {\n",
       "        text-align: right;\n",
       "    }\n",
       "</style>\n",
       "<table border=\"1\" class=\"dataframe\">\n",
       "  <thead>\n",
       "    <tr style=\"text-align: right;\">\n",
       "      <th></th>\n",
       "      <th>Ozone</th>\n",
       "      <th>Solar</th>\n",
       "      <th>Wind</th>\n",
       "      <th>Month</th>\n",
       "      <th>Day</th>\n",
       "      <th>Year</th>\n",
       "      <th>Temp</th>\n",
       "      <th>Weather</th>\n",
       "    </tr>\n",
       "  </thead>\n",
       "  <tbody>\n",
       "    <tr>\n",
       "      <th>0</th>\n",
       "      <td>41.000000</td>\n",
       "      <td>190.0</td>\n",
       "      <td>7.4</td>\n",
       "      <td>5.0</td>\n",
       "      <td>1</td>\n",
       "      <td>2010</td>\n",
       "      <td>67</td>\n",
       "      <td>S</td>\n",
       "    </tr>\n",
       "    <tr>\n",
       "      <th>1</th>\n",
       "      <td>36.000000</td>\n",
       "      <td>118.0</td>\n",
       "      <td>8.0</td>\n",
       "      <td>5.0</td>\n",
       "      <td>2</td>\n",
       "      <td>2010</td>\n",
       "      <td>72</td>\n",
       "      <td>C</td>\n",
       "    </tr>\n",
       "    <tr>\n",
       "      <th>2</th>\n",
       "      <td>12.000000</td>\n",
       "      <td>149.0</td>\n",
       "      <td>12.6</td>\n",
       "      <td>5.0</td>\n",
       "      <td>3</td>\n",
       "      <td>2010</td>\n",
       "      <td>74</td>\n",
       "      <td>PS</td>\n",
       "    </tr>\n",
       "    <tr>\n",
       "      <th>3</th>\n",
       "      <td>18.000000</td>\n",
       "      <td>313.0</td>\n",
       "      <td>11.5</td>\n",
       "      <td>5.0</td>\n",
       "      <td>4</td>\n",
       "      <td>2010</td>\n",
       "      <td>62</td>\n",
       "      <td>S</td>\n",
       "    </tr>\n",
       "    <tr>\n",
       "      <th>4</th>\n",
       "      <td>41.815126</td>\n",
       "      <td>NaN</td>\n",
       "      <td>14.3</td>\n",
       "      <td>5.0</td>\n",
       "      <td>5</td>\n",
       "      <td>2010</td>\n",
       "      <td>56</td>\n",
       "      <td>S</td>\n",
       "    </tr>\n",
       "    <tr>\n",
       "      <th>...</th>\n",
       "      <td>...</td>\n",
       "      <td>...</td>\n",
       "      <td>...</td>\n",
       "      <td>...</td>\n",
       "      <td>...</td>\n",
       "      <td>...</td>\n",
       "      <td>...</td>\n",
       "      <td>...</td>\n",
       "    </tr>\n",
       "    <tr>\n",
       "      <th>152</th>\n",
       "      <td>20.000000</td>\n",
       "      <td>223.0</td>\n",
       "      <td>11.5</td>\n",
       "      <td>9.0</td>\n",
       "      <td>30</td>\n",
       "      <td>2010</td>\n",
       "      <td>68</td>\n",
       "      <td>S</td>\n",
       "    </tr>\n",
       "    <tr>\n",
       "      <th>153</th>\n",
       "      <td>41.000000</td>\n",
       "      <td>190.0</td>\n",
       "      <td>7.4</td>\n",
       "      <td>5.0</td>\n",
       "      <td>1</td>\n",
       "      <td>2010</td>\n",
       "      <td>67</td>\n",
       "      <td>C</td>\n",
       "    </tr>\n",
       "    <tr>\n",
       "      <th>154</th>\n",
       "      <td>30.000000</td>\n",
       "      <td>193.0</td>\n",
       "      <td>6.9</td>\n",
       "      <td>9.0</td>\n",
       "      <td>26</td>\n",
       "      <td>2010</td>\n",
       "      <td>70</td>\n",
       "      <td>PS</td>\n",
       "    </tr>\n",
       "    <tr>\n",
       "      <th>155</th>\n",
       "      <td>41.815126</td>\n",
       "      <td>145.0</td>\n",
       "      <td>13.2</td>\n",
       "      <td>9.0</td>\n",
       "      <td>27</td>\n",
       "      <td>2010</td>\n",
       "      <td>77</td>\n",
       "      <td>S</td>\n",
       "    </tr>\n",
       "    <tr>\n",
       "      <th>157</th>\n",
       "      <td>18.000000</td>\n",
       "      <td>131.0</td>\n",
       "      <td>8.0</td>\n",
       "      <td>9.0</td>\n",
       "      <td>29</td>\n",
       "      <td>2010</td>\n",
       "      <td>76</td>\n",
       "      <td>C</td>\n",
       "    </tr>\n",
       "  </tbody>\n",
       "</table>\n",
       "<p>157 rows × 8 columns</p>\n",
       "</div>"
      ],
      "text/plain": [
       "         Ozone  Solar  Wind  Month  Day  Year  Temp Weather\n",
       "0    41.000000  190.0   7.4    5.0    1  2010    67       S\n",
       "1    36.000000  118.0   8.0    5.0    2  2010    72       C\n",
       "2    12.000000  149.0  12.6    5.0    3  2010    74      PS\n",
       "3    18.000000  313.0  11.5    5.0    4  2010    62       S\n",
       "4    41.815126    NaN  14.3    5.0    5  2010    56       S\n",
       "..         ...    ...   ...    ...  ...   ...   ...     ...\n",
       "152  20.000000  223.0  11.5    9.0   30  2010    68       S\n",
       "153  41.000000  190.0   7.4    5.0    1  2010    67       C\n",
       "154  30.000000  193.0   6.9    9.0   26  2010    70      PS\n",
       "155  41.815126  145.0  13.2    9.0   27  2010    77       S\n",
       "157  18.000000  131.0   8.0    9.0   29  2010    76       C\n",
       "\n",
       "[157 rows x 8 columns]"
      ]
     },
     "execution_count": 30,
     "metadata": {},
     "output_type": "execute_result"
    }
   ],
   "source": [
    "dc3['Ozone'] = dc3['Ozone'].fillna(mean)\n",
    "dc3"
   ]
  },
  {
   "cell_type": "code",
   "execution_count": 31,
   "id": "2dd7a13f",
   "metadata": {},
   "outputs": [
    {
     "data": {
      "text/html": [
       "<div>\n",
       "<style scoped>\n",
       "    .dataframe tbody tr th:only-of-type {\n",
       "        vertical-align: middle;\n",
       "    }\n",
       "\n",
       "    .dataframe tbody tr th {\n",
       "        vertical-align: top;\n",
       "    }\n",
       "\n",
       "    .dataframe thead th {\n",
       "        text-align: right;\n",
       "    }\n",
       "</style>\n",
       "<table border=\"1\" class=\"dataframe\">\n",
       "  <thead>\n",
       "    <tr style=\"text-align: right;\">\n",
       "      <th></th>\n",
       "      <th>Ozone</th>\n",
       "      <th>Solar</th>\n",
       "      <th>Wind</th>\n",
       "      <th>Month</th>\n",
       "      <th>Day</th>\n",
       "      <th>Year</th>\n",
       "      <th>Temp</th>\n",
       "      <th>Weather</th>\n",
       "    </tr>\n",
       "  </thead>\n",
       "  <tbody>\n",
       "    <tr>\n",
       "      <th>0</th>\n",
       "      <td>41.000000</td>\n",
       "      <td>190.000000</td>\n",
       "      <td>7.4</td>\n",
       "      <td>5.0</td>\n",
       "      <td>1</td>\n",
       "      <td>2010</td>\n",
       "      <td>67</td>\n",
       "      <td>S</td>\n",
       "    </tr>\n",
       "    <tr>\n",
       "      <th>1</th>\n",
       "      <td>36.000000</td>\n",
       "      <td>118.000000</td>\n",
       "      <td>8.0</td>\n",
       "      <td>5.0</td>\n",
       "      <td>2</td>\n",
       "      <td>2010</td>\n",
       "      <td>72</td>\n",
       "      <td>C</td>\n",
       "    </tr>\n",
       "    <tr>\n",
       "      <th>2</th>\n",
       "      <td>12.000000</td>\n",
       "      <td>149.000000</td>\n",
       "      <td>12.6</td>\n",
       "      <td>5.0</td>\n",
       "      <td>3</td>\n",
       "      <td>2010</td>\n",
       "      <td>74</td>\n",
       "      <td>PS</td>\n",
       "    </tr>\n",
       "    <tr>\n",
       "      <th>3</th>\n",
       "      <td>18.000000</td>\n",
       "      <td>313.000000</td>\n",
       "      <td>11.5</td>\n",
       "      <td>5.0</td>\n",
       "      <td>4</td>\n",
       "      <td>2010</td>\n",
       "      <td>62</td>\n",
       "      <td>S</td>\n",
       "    </tr>\n",
       "    <tr>\n",
       "      <th>4</th>\n",
       "      <td>41.815126</td>\n",
       "      <td>185.366667</td>\n",
       "      <td>14.3</td>\n",
       "      <td>5.0</td>\n",
       "      <td>5</td>\n",
       "      <td>2010</td>\n",
       "      <td>56</td>\n",
       "      <td>S</td>\n",
       "    </tr>\n",
       "    <tr>\n",
       "      <th>...</th>\n",
       "      <td>...</td>\n",
       "      <td>...</td>\n",
       "      <td>...</td>\n",
       "      <td>...</td>\n",
       "      <td>...</td>\n",
       "      <td>...</td>\n",
       "      <td>...</td>\n",
       "      <td>...</td>\n",
       "    </tr>\n",
       "    <tr>\n",
       "      <th>152</th>\n",
       "      <td>20.000000</td>\n",
       "      <td>223.000000</td>\n",
       "      <td>11.5</td>\n",
       "      <td>9.0</td>\n",
       "      <td>30</td>\n",
       "      <td>2010</td>\n",
       "      <td>68</td>\n",
       "      <td>S</td>\n",
       "    </tr>\n",
       "    <tr>\n",
       "      <th>153</th>\n",
       "      <td>41.000000</td>\n",
       "      <td>190.000000</td>\n",
       "      <td>7.4</td>\n",
       "      <td>5.0</td>\n",
       "      <td>1</td>\n",
       "      <td>2010</td>\n",
       "      <td>67</td>\n",
       "      <td>C</td>\n",
       "    </tr>\n",
       "    <tr>\n",
       "      <th>154</th>\n",
       "      <td>30.000000</td>\n",
       "      <td>193.000000</td>\n",
       "      <td>6.9</td>\n",
       "      <td>9.0</td>\n",
       "      <td>26</td>\n",
       "      <td>2010</td>\n",
       "      <td>70</td>\n",
       "      <td>PS</td>\n",
       "    </tr>\n",
       "    <tr>\n",
       "      <th>155</th>\n",
       "      <td>41.815126</td>\n",
       "      <td>145.000000</td>\n",
       "      <td>13.2</td>\n",
       "      <td>9.0</td>\n",
       "      <td>27</td>\n",
       "      <td>2010</td>\n",
       "      <td>77</td>\n",
       "      <td>S</td>\n",
       "    </tr>\n",
       "    <tr>\n",
       "      <th>157</th>\n",
       "      <td>18.000000</td>\n",
       "      <td>131.000000</td>\n",
       "      <td>8.0</td>\n",
       "      <td>9.0</td>\n",
       "      <td>29</td>\n",
       "      <td>2010</td>\n",
       "      <td>76</td>\n",
       "      <td>C</td>\n",
       "    </tr>\n",
       "  </tbody>\n",
       "</table>\n",
       "<p>157 rows × 8 columns</p>\n",
       "</div>"
      ],
      "text/plain": [
       "         Ozone       Solar  Wind  Month  Day  Year  Temp Weather\n",
       "0    41.000000  190.000000   7.4    5.0    1  2010    67       S\n",
       "1    36.000000  118.000000   8.0    5.0    2  2010    72       C\n",
       "2    12.000000  149.000000  12.6    5.0    3  2010    74      PS\n",
       "3    18.000000  313.000000  11.5    5.0    4  2010    62       S\n",
       "4    41.815126  185.366667  14.3    5.0    5  2010    56       S\n",
       "..         ...         ...   ...    ...  ...   ...   ...     ...\n",
       "152  20.000000  223.000000  11.5    9.0   30  2010    68       S\n",
       "153  41.000000  190.000000   7.4    5.0    1  2010    67       C\n",
       "154  30.000000  193.000000   6.9    9.0   26  2010    70      PS\n",
       "155  41.815126  145.000000  13.2    9.0   27  2010    77       S\n",
       "157  18.000000  131.000000   8.0    9.0   29  2010    76       C\n",
       "\n",
       "[157 rows x 8 columns]"
      ]
     },
     "execution_count": 31,
     "metadata": {},
     "output_type": "execute_result"
    }
   ],
   "source": [
    "mean1=dc3['Solar'].mean()\n",
    "dc3['Solar']=dc3['Solar'].fillna(mean1)\n",
    "dc3"
   ]
  },
  {
   "cell_type": "code",
   "execution_count": 32,
   "id": "e71582a7",
   "metadata": {},
   "outputs": [
    {
     "data": {
      "text/html": [
       "<div>\n",
       "<style scoped>\n",
       "    .dataframe tbody tr th:only-of-type {\n",
       "        vertical-align: middle;\n",
       "    }\n",
       "\n",
       "    .dataframe tbody tr th {\n",
       "        vertical-align: top;\n",
       "    }\n",
       "\n",
       "    .dataframe thead th {\n",
       "        text-align: right;\n",
       "    }\n",
       "</style>\n",
       "<table border=\"1\" class=\"dataframe\">\n",
       "  <thead>\n",
       "    <tr style=\"text-align: right;\">\n",
       "      <th></th>\n",
       "      <th>Ozone</th>\n",
       "      <th>Solar</th>\n",
       "      <th>Wind</th>\n",
       "      <th>Month</th>\n",
       "      <th>Day</th>\n",
       "      <th>Year</th>\n",
       "      <th>Temp</th>\n",
       "      <th>Weather</th>\n",
       "    </tr>\n",
       "  </thead>\n",
       "  <tbody>\n",
       "    <tr>\n",
       "      <th>0</th>\n",
       "      <td>41.000000</td>\n",
       "      <td>190.000000</td>\n",
       "      <td>7.4</td>\n",
       "      <td>5.0</td>\n",
       "      <td>1</td>\n",
       "      <td>2010</td>\n",
       "      <td>67</td>\n",
       "      <td>S</td>\n",
       "    </tr>\n",
       "    <tr>\n",
       "      <th>1</th>\n",
       "      <td>36.000000</td>\n",
       "      <td>118.000000</td>\n",
       "      <td>8.0</td>\n",
       "      <td>5.0</td>\n",
       "      <td>2</td>\n",
       "      <td>2010</td>\n",
       "      <td>72</td>\n",
       "      <td>C</td>\n",
       "    </tr>\n",
       "    <tr>\n",
       "      <th>2</th>\n",
       "      <td>12.000000</td>\n",
       "      <td>149.000000</td>\n",
       "      <td>12.6</td>\n",
       "      <td>5.0</td>\n",
       "      <td>3</td>\n",
       "      <td>2010</td>\n",
       "      <td>74</td>\n",
       "      <td>PS</td>\n",
       "    </tr>\n",
       "    <tr>\n",
       "      <th>3</th>\n",
       "      <td>18.000000</td>\n",
       "      <td>313.000000</td>\n",
       "      <td>11.5</td>\n",
       "      <td>5.0</td>\n",
       "      <td>4</td>\n",
       "      <td>2010</td>\n",
       "      <td>62</td>\n",
       "      <td>S</td>\n",
       "    </tr>\n",
       "    <tr>\n",
       "      <th>4</th>\n",
       "      <td>41.815126</td>\n",
       "      <td>185.366667</td>\n",
       "      <td>14.3</td>\n",
       "      <td>5.0</td>\n",
       "      <td>5</td>\n",
       "      <td>2010</td>\n",
       "      <td>56</td>\n",
       "      <td>S</td>\n",
       "    </tr>\n",
       "    <tr>\n",
       "      <th>...</th>\n",
       "      <td>...</td>\n",
       "      <td>...</td>\n",
       "      <td>...</td>\n",
       "      <td>...</td>\n",
       "      <td>...</td>\n",
       "      <td>...</td>\n",
       "      <td>...</td>\n",
       "      <td>...</td>\n",
       "    </tr>\n",
       "    <tr>\n",
       "      <th>152</th>\n",
       "      <td>20.000000</td>\n",
       "      <td>223.000000</td>\n",
       "      <td>11.5</td>\n",
       "      <td>9.0</td>\n",
       "      <td>30</td>\n",
       "      <td>2010</td>\n",
       "      <td>68</td>\n",
       "      <td>S</td>\n",
       "    </tr>\n",
       "    <tr>\n",
       "      <th>153</th>\n",
       "      <td>41.000000</td>\n",
       "      <td>190.000000</td>\n",
       "      <td>7.4</td>\n",
       "      <td>5.0</td>\n",
       "      <td>1</td>\n",
       "      <td>2010</td>\n",
       "      <td>67</td>\n",
       "      <td>C</td>\n",
       "    </tr>\n",
       "    <tr>\n",
       "      <th>154</th>\n",
       "      <td>30.000000</td>\n",
       "      <td>193.000000</td>\n",
       "      <td>6.9</td>\n",
       "      <td>9.0</td>\n",
       "      <td>26</td>\n",
       "      <td>2010</td>\n",
       "      <td>70</td>\n",
       "      <td>PS</td>\n",
       "    </tr>\n",
       "    <tr>\n",
       "      <th>155</th>\n",
       "      <td>41.815126</td>\n",
       "      <td>145.000000</td>\n",
       "      <td>13.2</td>\n",
       "      <td>9.0</td>\n",
       "      <td>27</td>\n",
       "      <td>2010</td>\n",
       "      <td>77</td>\n",
       "      <td>S</td>\n",
       "    </tr>\n",
       "    <tr>\n",
       "      <th>157</th>\n",
       "      <td>18.000000</td>\n",
       "      <td>131.000000</td>\n",
       "      <td>8.0</td>\n",
       "      <td>9.0</td>\n",
       "      <td>29</td>\n",
       "      <td>2010</td>\n",
       "      <td>76</td>\n",
       "      <td>C</td>\n",
       "    </tr>\n",
       "  </tbody>\n",
       "</table>\n",
       "<p>157 rows × 8 columns</p>\n",
       "</div>"
      ],
      "text/plain": [
       "         Ozone       Solar  Wind  Month  Day  Year  Temp Weather\n",
       "0    41.000000  190.000000   7.4    5.0    1  2010    67       S\n",
       "1    36.000000  118.000000   8.0    5.0    2  2010    72       C\n",
       "2    12.000000  149.000000  12.6    5.0    3  2010    74      PS\n",
       "3    18.000000  313.000000  11.5    5.0    4  2010    62       S\n",
       "4    41.815126  185.366667  14.3    5.0    5  2010    56       S\n",
       "..         ...         ...   ...    ...  ...   ...   ...     ...\n",
       "152  20.000000  223.000000  11.5    9.0   30  2010    68       S\n",
       "153  41.000000  190.000000   7.4    5.0    1  2010    67       C\n",
       "154  30.000000  193.000000   6.9    9.0   26  2010    70      PS\n",
       "155  41.815126  145.000000  13.2    9.0   27  2010    77       S\n",
       "157  18.000000  131.000000   8.0    9.0   29  2010    76       C\n",
       "\n",
       "[157 rows x 8 columns]"
      ]
     },
     "execution_count": 32,
     "metadata": {},
     "output_type": "execute_result"
    }
   ],
   "source": [
    "mean2=dc3['Month'].mean()\n",
    "dc3['Month']=dc3['Month'].fillna(mean2)\n",
    "dc3"
   ]
  },
  {
   "cell_type": "code",
   "execution_count": 33,
   "id": "12fae762",
   "metadata": {},
   "outputs": [],
   "source": [
    "#Missing value imputation for categorical vlaue\n",
    "#Get the object columns\n",
    "obj_columns=dc3[['Weather']]"
   ]
  },
  {
   "cell_type": "code",
   "execution_count": 34,
   "id": "a8e7858b",
   "metadata": {},
   "outputs": [
    {
     "data": {
      "text/plain": [
       "Weather    3\n",
       "dtype: int64"
      ]
     },
     "execution_count": 34,
     "metadata": {},
     "output_type": "execute_result"
    }
   ],
   "source": [
    "obj_columns.isnull().sum()"
   ]
  },
  {
   "cell_type": "code",
   "execution_count": 35,
   "id": "ef36dcba",
   "metadata": {},
   "outputs": [],
   "source": [
    "#Missing value imputation for categorical vlaue\n",
    "obj_columns=obj_columns.fillna(obj_columns.mode().iloc[0])"
   ]
  },
  {
   "cell_type": "code",
   "execution_count": 36,
   "id": "3c3b6203",
   "metadata": {},
   "outputs": [
    {
     "data": {
      "text/plain": [
       "Weather    0\n",
       "dtype: int64"
      ]
     },
     "execution_count": 36,
     "metadata": {},
     "output_type": "execute_result"
    }
   ],
   "source": [
    "obj_columns.isnull().sum()"
   ]
  },
  {
   "cell_type": "code",
   "execution_count": 37,
   "id": "f0c2264c",
   "metadata": {},
   "outputs": [
    {
     "data": {
      "text/plain": [
       "(157, 8)"
      ]
     },
     "execution_count": 37,
     "metadata": {},
     "output_type": "execute_result"
    }
   ],
   "source": [
    "dc3.shape"
   ]
  },
  {
   "cell_type": "code",
   "execution_count": 38,
   "id": "6b5cbb3a",
   "metadata": {
    "scrolled": true
   },
   "outputs": [
    {
     "data": {
      "text/plain": [
       "(157, 1)"
      ]
     },
     "execution_count": 38,
     "metadata": {},
     "output_type": "execute_result"
    }
   ],
   "source": [
    "obj_columns.shape"
   ]
  },
  {
   "cell_type": "code",
   "execution_count": 39,
   "id": "68989c3c",
   "metadata": {},
   "outputs": [
    {
     "data": {
      "text/plain": [
       "Ozone      0\n",
       "Solar      0\n",
       "Wind       0\n",
       "Month      0\n",
       "Day        0\n",
       "Year       0\n",
       "Temp       0\n",
       "Weather    3\n",
       "dtype: int64"
      ]
     },
     "execution_count": 39,
     "metadata": {},
     "output_type": "execute_result"
    }
   ],
   "source": [
    "dc3.isnull().sum()"
   ]
  },
  {
   "cell_type": "code",
   "execution_count": 40,
   "id": "48ee5cb9",
   "metadata": {
    "collapsed": true
   },
   "outputs": [
    {
     "data": {
      "text/html": [
       "<div>\n",
       "<style scoped>\n",
       "    .dataframe tbody tr th:only-of-type {\n",
       "        vertical-align: middle;\n",
       "    }\n",
       "\n",
       "    .dataframe tbody tr th {\n",
       "        vertical-align: top;\n",
       "    }\n",
       "\n",
       "    .dataframe thead th {\n",
       "        text-align: right;\n",
       "    }\n",
       "</style>\n",
       "<table border=\"1\" class=\"dataframe\">\n",
       "  <thead>\n",
       "    <tr style=\"text-align: right;\">\n",
       "      <th></th>\n",
       "      <th>Ozone</th>\n",
       "      <th>Solar</th>\n",
       "      <th>Wind</th>\n",
       "      <th>Month</th>\n",
       "      <th>Day</th>\n",
       "      <th>Year</th>\n",
       "      <th>Temp</th>\n",
       "    </tr>\n",
       "  </thead>\n",
       "  <tbody>\n",
       "    <tr>\n",
       "      <th>0</th>\n",
       "      <td>41.000000</td>\n",
       "      <td>190.000000</td>\n",
       "      <td>7.4</td>\n",
       "      <td>5.0</td>\n",
       "      <td>1</td>\n",
       "      <td>2010</td>\n",
       "      <td>67</td>\n",
       "    </tr>\n",
       "    <tr>\n",
       "      <th>1</th>\n",
       "      <td>36.000000</td>\n",
       "      <td>118.000000</td>\n",
       "      <td>8.0</td>\n",
       "      <td>5.0</td>\n",
       "      <td>2</td>\n",
       "      <td>2010</td>\n",
       "      <td>72</td>\n",
       "    </tr>\n",
       "    <tr>\n",
       "      <th>2</th>\n",
       "      <td>12.000000</td>\n",
       "      <td>149.000000</td>\n",
       "      <td>12.6</td>\n",
       "      <td>5.0</td>\n",
       "      <td>3</td>\n",
       "      <td>2010</td>\n",
       "      <td>74</td>\n",
       "    </tr>\n",
       "    <tr>\n",
       "      <th>3</th>\n",
       "      <td>18.000000</td>\n",
       "      <td>313.000000</td>\n",
       "      <td>11.5</td>\n",
       "      <td>5.0</td>\n",
       "      <td>4</td>\n",
       "      <td>2010</td>\n",
       "      <td>62</td>\n",
       "    </tr>\n",
       "    <tr>\n",
       "      <th>4</th>\n",
       "      <td>41.815126</td>\n",
       "      <td>185.366667</td>\n",
       "      <td>14.3</td>\n",
       "      <td>5.0</td>\n",
       "      <td>5</td>\n",
       "      <td>2010</td>\n",
       "      <td>56</td>\n",
       "    </tr>\n",
       "  </tbody>\n",
       "</table>\n",
       "</div>"
      ],
      "text/plain": [
       "       Ozone       Solar  Wind  Month  Day  Year  Temp\n",
       "0  41.000000  190.000000   7.4    5.0    1  2010    67\n",
       "1  36.000000  118.000000   8.0    5.0    2  2010    72\n",
       "2  12.000000  149.000000  12.6    5.0    3  2010    74\n",
       "3  18.000000  313.000000  11.5    5.0    4  2010    62\n",
       "4  41.815126  185.366667  14.3    5.0    5  2010    56"
      ]
     },
     "execution_count": 40,
     "metadata": {},
     "output_type": "execute_result"
    }
   ],
   "source": [
    "# drop the weather colm(with NA) in order to append the imputed weather colm to original data frame\n",
    "# check if data frame has been dropped\n",
    "dc4=dc3.iloc[:,:7]\n",
    "dc4.head()"
   ]
  },
  {
   "cell_type": "code",
   "execution_count": 41,
   "id": "353b734e",
   "metadata": {},
   "outputs": [
    {
     "data": {
      "text/html": [
       "<div>\n",
       "<style scoped>\n",
       "    .dataframe tbody tr th:only-of-type {\n",
       "        vertical-align: middle;\n",
       "    }\n",
       "\n",
       "    .dataframe tbody tr th {\n",
       "        vertical-align: top;\n",
       "    }\n",
       "\n",
       "    .dataframe thead th {\n",
       "        text-align: right;\n",
       "    }\n",
       "</style>\n",
       "<table border=\"1\" class=\"dataframe\">\n",
       "  <thead>\n",
       "    <tr style=\"text-align: right;\">\n",
       "      <th></th>\n",
       "      <th>Ozone</th>\n",
       "      <th>Solar</th>\n",
       "      <th>Wind</th>\n",
       "      <th>Month</th>\n",
       "      <th>Day</th>\n",
       "      <th>Year</th>\n",
       "      <th>Temp</th>\n",
       "      <th>Weather</th>\n",
       "    </tr>\n",
       "  </thead>\n",
       "  <tbody>\n",
       "    <tr>\n",
       "      <th>0</th>\n",
       "      <td>41.000000</td>\n",
       "      <td>190.000000</td>\n",
       "      <td>7.4</td>\n",
       "      <td>5.0</td>\n",
       "      <td>1</td>\n",
       "      <td>2010</td>\n",
       "      <td>67</td>\n",
       "      <td>S</td>\n",
       "    </tr>\n",
       "    <tr>\n",
       "      <th>1</th>\n",
       "      <td>36.000000</td>\n",
       "      <td>118.000000</td>\n",
       "      <td>8.0</td>\n",
       "      <td>5.0</td>\n",
       "      <td>2</td>\n",
       "      <td>2010</td>\n",
       "      <td>72</td>\n",
       "      <td>C</td>\n",
       "    </tr>\n",
       "    <tr>\n",
       "      <th>2</th>\n",
       "      <td>12.000000</td>\n",
       "      <td>149.000000</td>\n",
       "      <td>12.6</td>\n",
       "      <td>5.0</td>\n",
       "      <td>3</td>\n",
       "      <td>2010</td>\n",
       "      <td>74</td>\n",
       "      <td>PS</td>\n",
       "    </tr>\n",
       "    <tr>\n",
       "      <th>3</th>\n",
       "      <td>18.000000</td>\n",
       "      <td>313.000000</td>\n",
       "      <td>11.5</td>\n",
       "      <td>5.0</td>\n",
       "      <td>4</td>\n",
       "      <td>2010</td>\n",
       "      <td>62</td>\n",
       "      <td>S</td>\n",
       "    </tr>\n",
       "    <tr>\n",
       "      <th>4</th>\n",
       "      <td>41.815126</td>\n",
       "      <td>185.366667</td>\n",
       "      <td>14.3</td>\n",
       "      <td>5.0</td>\n",
       "      <td>5</td>\n",
       "      <td>2010</td>\n",
       "      <td>56</td>\n",
       "      <td>S</td>\n",
       "    </tr>\n",
       "    <tr>\n",
       "      <th>...</th>\n",
       "      <td>...</td>\n",
       "      <td>...</td>\n",
       "      <td>...</td>\n",
       "      <td>...</td>\n",
       "      <td>...</td>\n",
       "      <td>...</td>\n",
       "      <td>...</td>\n",
       "      <td>...</td>\n",
       "    </tr>\n",
       "    <tr>\n",
       "      <th>152</th>\n",
       "      <td>20.000000</td>\n",
       "      <td>223.000000</td>\n",
       "      <td>11.5</td>\n",
       "      <td>9.0</td>\n",
       "      <td>30</td>\n",
       "      <td>2010</td>\n",
       "      <td>68</td>\n",
       "      <td>S</td>\n",
       "    </tr>\n",
       "    <tr>\n",
       "      <th>153</th>\n",
       "      <td>41.000000</td>\n",
       "      <td>190.000000</td>\n",
       "      <td>7.4</td>\n",
       "      <td>5.0</td>\n",
       "      <td>1</td>\n",
       "      <td>2010</td>\n",
       "      <td>67</td>\n",
       "      <td>C</td>\n",
       "    </tr>\n",
       "    <tr>\n",
       "      <th>154</th>\n",
       "      <td>30.000000</td>\n",
       "      <td>193.000000</td>\n",
       "      <td>6.9</td>\n",
       "      <td>9.0</td>\n",
       "      <td>26</td>\n",
       "      <td>2010</td>\n",
       "      <td>70</td>\n",
       "      <td>PS</td>\n",
       "    </tr>\n",
       "    <tr>\n",
       "      <th>155</th>\n",
       "      <td>41.815126</td>\n",
       "      <td>145.000000</td>\n",
       "      <td>13.2</td>\n",
       "      <td>9.0</td>\n",
       "      <td>27</td>\n",
       "      <td>2010</td>\n",
       "      <td>77</td>\n",
       "      <td>S</td>\n",
       "    </tr>\n",
       "    <tr>\n",
       "      <th>157</th>\n",
       "      <td>18.000000</td>\n",
       "      <td>131.000000</td>\n",
       "      <td>8.0</td>\n",
       "      <td>9.0</td>\n",
       "      <td>29</td>\n",
       "      <td>2010</td>\n",
       "      <td>76</td>\n",
       "      <td>C</td>\n",
       "    </tr>\n",
       "  </tbody>\n",
       "</table>\n",
       "<p>157 rows × 8 columns</p>\n",
       "</div>"
      ],
      "text/plain": [
       "         Ozone       Solar  Wind  Month  Day  Year  Temp Weather\n",
       "0    41.000000  190.000000   7.4    5.0    1  2010    67       S\n",
       "1    36.000000  118.000000   8.0    5.0    2  2010    72       C\n",
       "2    12.000000  149.000000  12.6    5.0    3  2010    74      PS\n",
       "3    18.000000  313.000000  11.5    5.0    4  2010    62       S\n",
       "4    41.815126  185.366667  14.3    5.0    5  2010    56       S\n",
       "..         ...         ...   ...    ...  ...   ...   ...     ...\n",
       "152  20.000000  223.000000  11.5    9.0   30  2010    68       S\n",
       "153  41.000000  190.000000   7.4    5.0    1  2010    67       C\n",
       "154  30.000000  193.000000   6.9    9.0   26  2010    70      PS\n",
       "155  41.815126  145.000000  13.2    9.0   27  2010    77       S\n",
       "157  18.000000  131.000000   8.0    9.0   29  2010    76       C\n",
       "\n",
       "[157 rows x 8 columns]"
      ]
     },
     "execution_count": 41,
     "metadata": {},
     "output_type": "execute_result"
    }
   ],
   "source": [
    "#append the data set with no NA and replaced modal colm\n",
    "dc4=pd.concat([dc4,obj_columns],axis=1)\n",
    "dc4"
   ]
  },
  {
   "cell_type": "code",
   "execution_count": 42,
   "id": "9613b1a2",
   "metadata": {},
   "outputs": [
    {
     "data": {
      "text/plain": [
       "(157, 8)"
      ]
     },
     "execution_count": 42,
     "metadata": {},
     "output_type": "execute_result"
    }
   ],
   "source": [
    "dc4.shape"
   ]
  },
  {
   "cell_type": "code",
   "execution_count": 43,
   "id": "ffacfe6a",
   "metadata": {},
   "outputs": [
    {
     "data": {
      "text/plain": [
       "Ozone      0\n",
       "Solar      0\n",
       "Wind       0\n",
       "Month      0\n",
       "Day        0\n",
       "Year       0\n",
       "Temp       0\n",
       "Weather    0\n",
       "dtype: int64"
      ]
     },
     "execution_count": 43,
     "metadata": {},
     "output_type": "execute_result"
    }
   ],
   "source": [
    "dc4.isnull().sum()"
   ]
  },
  {
   "cell_type": "markdown",
   "id": "4d612d8e",
   "metadata": {},
   "source": [
    "## Scatter plot and Correlation analysis"
   ]
  },
  {
   "cell_type": "code",
   "execution_count": 44,
   "id": "35257131",
   "metadata": {},
   "outputs": [
    {
     "data": {
      "image/png": "[encoded data removed]",
      "text/plain": [
       "<Figure size 1260x1260 with 56 Axes>"
      ]
     },
     "metadata": {
      "needs_background": "light"
     },
     "output_type": "display_data"
    }
   ],
   "source": [
    "# Create the default pairplot\n",
    "sns.pairplot(dc3);"
   ]
  },
  {
   "cell_type": "code",
   "execution_count": 45,
   "id": "30f53e03",
   "metadata": {},
   "outputs": [
    {
     "data": {
      "text/html": [
       "<div>\n",
       "<style scoped>\n",
       "    .dataframe tbody tr th:only-of-type {\n",
       "        vertical-align: middle;\n",
       "    }\n",
       "\n",
       "    .dataframe tbody tr th {\n",
       "        vertical-align: top;\n",
       "    }\n",
       "\n",
       "    .dataframe thead th {\n",
       "        text-align: right;\n",
       "    }\n",
       "</style>\n",
       "<table border=\"1\" class=\"dataframe\">\n",
       "  <thead>\n",
       "    <tr style=\"text-align: right;\">\n",
       "      <th></th>\n",
       "      <th>Ozone</th>\n",
       "      <th>Solar</th>\n",
       "      <th>Wind</th>\n",
       "      <th>Month</th>\n",
       "      <th>Day</th>\n",
       "      <th>Year</th>\n",
       "      <th>Temp</th>\n",
       "    </tr>\n",
       "  </thead>\n",
       "  <tbody>\n",
       "    <tr>\n",
       "      <th>Ozone</th>\n",
       "      <td>1.000000</td>\n",
       "      <td>0.304559</td>\n",
       "      <td>-0.520004</td>\n",
       "      <td>0.132809</td>\n",
       "      <td>-0.021916</td>\n",
       "      <td>NaN</td>\n",
       "      <td>0.606500</td>\n",
       "    </tr>\n",
       "    <tr>\n",
       "      <th>Solar</th>\n",
       "      <td>0.304559</td>\n",
       "      <td>1.000000</td>\n",
       "      <td>-0.055874</td>\n",
       "      <td>-0.090564</td>\n",
       "      <td>-0.151007</td>\n",
       "      <td>NaN</td>\n",
       "      <td>0.260677</td>\n",
       "    </tr>\n",
       "    <tr>\n",
       "      <th>Wind</th>\n",
       "      <td>-0.520004</td>\n",
       "      <td>-0.055874</td>\n",
       "      <td>1.000000</td>\n",
       "      <td>-0.166029</td>\n",
       "      <td>0.029900</td>\n",
       "      <td>NaN</td>\n",
       "      <td>-0.441228</td>\n",
       "    </tr>\n",
       "    <tr>\n",
       "      <th>Month</th>\n",
       "      <td>0.132809</td>\n",
       "      <td>-0.090564</td>\n",
       "      <td>-0.166029</td>\n",
       "      <td>1.000000</td>\n",
       "      <td>0.049924</td>\n",
       "      <td>NaN</td>\n",
       "      <td>0.394420</td>\n",
       "    </tr>\n",
       "    <tr>\n",
       "      <th>Day</th>\n",
       "      <td>-0.021916</td>\n",
       "      <td>-0.151007</td>\n",
       "      <td>0.029900</td>\n",
       "      <td>0.049924</td>\n",
       "      <td>1.000000</td>\n",
       "      <td>NaN</td>\n",
       "      <td>-0.122787</td>\n",
       "    </tr>\n",
       "    <tr>\n",
       "      <th>Year</th>\n",
       "      <td>NaN</td>\n",
       "      <td>NaN</td>\n",
       "      <td>NaN</td>\n",
       "      <td>NaN</td>\n",
       "      <td>NaN</td>\n",
       "      <td>NaN</td>\n",
       "      <td>NaN</td>\n",
       "    </tr>\n",
       "    <tr>\n",
       "      <th>Temp</th>\n",
       "      <td>0.606500</td>\n",
       "      <td>0.260677</td>\n",
       "      <td>-0.441228</td>\n",
       "      <td>0.394420</td>\n",
       "      <td>-0.122787</td>\n",
       "      <td>NaN</td>\n",
       "      <td>1.000000</td>\n",
       "    </tr>\n",
       "  </tbody>\n",
       "</table>\n",
       "</div>"
      ],
      "text/plain": [
       "          Ozone     Solar      Wind     Month       Day  Year      Temp\n",
       "Ozone  1.000000  0.304559 -0.520004  0.132809 -0.021916   NaN  0.606500\n",
       "Solar  0.304559  1.000000 -0.055874 -0.090564 -0.151007   NaN  0.260677\n",
       "Wind  -0.520004 -0.055874  1.000000 -0.166029  0.029900   NaN -0.441228\n",
       "Month  0.132809 -0.090564 -0.166029  1.000000  0.049924   NaN  0.394420\n",
       "Day   -0.021916 -0.151007  0.029900  0.049924  1.000000   NaN -0.122787\n",
       "Year        NaN       NaN       NaN       NaN       NaN   NaN       NaN\n",
       "Temp   0.606500  0.260677 -0.441228  0.394420 -0.122787   NaN  1.000000"
      ]
     },
     "execution_count": 45,
     "metadata": {},
     "output_type": "execute_result"
    }
   ],
   "source": [
    "#Correlation\n",
    "dc3.corr()"
   ]
  },
  {
   "cell_type": "markdown",
   "id": "bf3b0e4f",
   "metadata": {},
   "source": [
    "## Transformations"
   ]
  },
  {
   "cell_type": "markdown",
   "id": "09fdc3d5",
   "metadata": {},
   "source": [
    "### Dummy Variable"
   ]
  },
  {
   "cell_type": "code",
   "execution_count": 46,
   "id": "fd7ae162",
   "metadata": {},
   "outputs": [
    {
     "data": {
      "text/html": [
       "<div>\n",
       "<style scoped>\n",
       "    .dataframe tbody tr th:only-of-type {\n",
       "        vertical-align: middle;\n",
       "    }\n",
       "\n",
       "    .dataframe tbody tr th {\n",
       "        vertical-align: top;\n",
       "    }\n",
       "\n",
       "    .dataframe thead th {\n",
       "        text-align: right;\n",
       "    }\n",
       "</style>\n",
       "<table border=\"1\" class=\"dataframe\">\n",
       "  <thead>\n",
       "    <tr style=\"text-align: right;\">\n",
       "      <th></th>\n",
       "      <th>Ozone</th>\n",
       "      <th>Solar.R</th>\n",
       "      <th>Wind</th>\n",
       "      <th>Temp C</th>\n",
       "      <th>Month</th>\n",
       "      <th>Day</th>\n",
       "      <th>Year</th>\n",
       "      <th>Temp</th>\n",
       "      <th>Weather_C</th>\n",
       "      <th>Weather_PS</th>\n",
       "      <th>Weather_S</th>\n",
       "    </tr>\n",
       "  </thead>\n",
       "  <tbody>\n",
       "    <tr>\n",
       "      <th>0</th>\n",
       "      <td>41.0</td>\n",
       "      <td>190.0</td>\n",
       "      <td>7.4</td>\n",
       "      <td>67.0</td>\n",
       "      <td>5.0</td>\n",
       "      <td>1</td>\n",
       "      <td>2010</td>\n",
       "      <td>67</td>\n",
       "      <td>0</td>\n",
       "      <td>0</td>\n",
       "      <td>1</td>\n",
       "    </tr>\n",
       "    <tr>\n",
       "      <th>1</th>\n",
       "      <td>36.0</td>\n",
       "      <td>118.0</td>\n",
       "      <td>8.0</td>\n",
       "      <td>72.0</td>\n",
       "      <td>5.0</td>\n",
       "      <td>2</td>\n",
       "      <td>2010</td>\n",
       "      <td>72</td>\n",
       "      <td>1</td>\n",
       "      <td>0</td>\n",
       "      <td>0</td>\n",
       "    </tr>\n",
       "    <tr>\n",
       "      <th>2</th>\n",
       "      <td>12.0</td>\n",
       "      <td>149.0</td>\n",
       "      <td>12.6</td>\n",
       "      <td>74.0</td>\n",
       "      <td>5.0</td>\n",
       "      <td>3</td>\n",
       "      <td>2010</td>\n",
       "      <td>74</td>\n",
       "      <td>0</td>\n",
       "      <td>1</td>\n",
       "      <td>0</td>\n",
       "    </tr>\n",
       "    <tr>\n",
       "      <th>3</th>\n",
       "      <td>18.0</td>\n",
       "      <td>313.0</td>\n",
       "      <td>11.5</td>\n",
       "      <td>62.0</td>\n",
       "      <td>5.0</td>\n",
       "      <td>4</td>\n",
       "      <td>2010</td>\n",
       "      <td>62</td>\n",
       "      <td>0</td>\n",
       "      <td>0</td>\n",
       "      <td>1</td>\n",
       "    </tr>\n",
       "    <tr>\n",
       "      <th>4</th>\n",
       "      <td>NaN</td>\n",
       "      <td>NaN</td>\n",
       "      <td>14.3</td>\n",
       "      <td>56.0</td>\n",
       "      <td>5.0</td>\n",
       "      <td>5</td>\n",
       "      <td>2010</td>\n",
       "      <td>56</td>\n",
       "      <td>0</td>\n",
       "      <td>0</td>\n",
       "      <td>1</td>\n",
       "    </tr>\n",
       "    <tr>\n",
       "      <th>...</th>\n",
       "      <td>...</td>\n",
       "      <td>...</td>\n",
       "      <td>...</td>\n",
       "      <td>...</td>\n",
       "      <td>...</td>\n",
       "      <td>...</td>\n",
       "      <td>...</td>\n",
       "      <td>...</td>\n",
       "      <td>...</td>\n",
       "      <td>...</td>\n",
       "      <td>...</td>\n",
       "    </tr>\n",
       "    <tr>\n",
       "      <th>153</th>\n",
       "      <td>41.0</td>\n",
       "      <td>190.0</td>\n",
       "      <td>7.4</td>\n",
       "      <td>67.0</td>\n",
       "      <td>5.0</td>\n",
       "      <td>1</td>\n",
       "      <td>2010</td>\n",
       "      <td>67</td>\n",
       "      <td>1</td>\n",
       "      <td>0</td>\n",
       "      <td>0</td>\n",
       "    </tr>\n",
       "    <tr>\n",
       "      <th>154</th>\n",
       "      <td>30.0</td>\n",
       "      <td>193.0</td>\n",
       "      <td>6.9</td>\n",
       "      <td>70.0</td>\n",
       "      <td>9.0</td>\n",
       "      <td>26</td>\n",
       "      <td>2010</td>\n",
       "      <td>70</td>\n",
       "      <td>0</td>\n",
       "      <td>1</td>\n",
       "      <td>0</td>\n",
       "    </tr>\n",
       "    <tr>\n",
       "      <th>155</th>\n",
       "      <td>NaN</td>\n",
       "      <td>145.0</td>\n",
       "      <td>13.2</td>\n",
       "      <td>77.0</td>\n",
       "      <td>9.0</td>\n",
       "      <td>27</td>\n",
       "      <td>2010</td>\n",
       "      <td>77</td>\n",
       "      <td>0</td>\n",
       "      <td>0</td>\n",
       "      <td>1</td>\n",
       "    </tr>\n",
       "    <tr>\n",
       "      <th>156</th>\n",
       "      <td>14.0</td>\n",
       "      <td>191.0</td>\n",
       "      <td>14.3</td>\n",
       "      <td>75.0</td>\n",
       "      <td>9.0</td>\n",
       "      <td>28</td>\n",
       "      <td>2010</td>\n",
       "      <td>75</td>\n",
       "      <td>0</td>\n",
       "      <td>0</td>\n",
       "      <td>1</td>\n",
       "    </tr>\n",
       "    <tr>\n",
       "      <th>157</th>\n",
       "      <td>18.0</td>\n",
       "      <td>131.0</td>\n",
       "      <td>8.0</td>\n",
       "      <td>76.0</td>\n",
       "      <td>9.0</td>\n",
       "      <td>29</td>\n",
       "      <td>2010</td>\n",
       "      <td>76</td>\n",
       "      <td>1</td>\n",
       "      <td>0</td>\n",
       "      <td>0</td>\n",
       "    </tr>\n",
       "  </tbody>\n",
       "</table>\n",
       "<p>158 rows × 11 columns</p>\n",
       "</div>"
      ],
      "text/plain": [
       "     Ozone  Solar.R  Wind  Temp C  Month  Day  Year  Temp  Weather_C  \\\n",
       "0     41.0    190.0   7.4    67.0    5.0    1  2010    67          0   \n",
       "1     36.0    118.0   8.0    72.0    5.0    2  2010    72          1   \n",
       "2     12.0    149.0  12.6    74.0    5.0    3  2010    74          0   \n",
       "3     18.0    313.0  11.5    62.0    5.0    4  2010    62          0   \n",
       "4      NaN      NaN  14.3    56.0    5.0    5  2010    56          0   \n",
       "..     ...      ...   ...     ...    ...  ...   ...   ...        ...   \n",
       "153   41.0    190.0   7.4    67.0    5.0    1  2010    67          1   \n",
       "154   30.0    193.0   6.9    70.0    9.0   26  2010    70          0   \n",
       "155    NaN    145.0  13.2    77.0    9.0   27  2010    77          0   \n",
       "156   14.0    191.0  14.3    75.0    9.0   28  2010    75          0   \n",
       "157   18.0    131.0   8.0    76.0    9.0   29  2010    76          1   \n",
       "\n",
       "     Weather_PS  Weather_S  \n",
       "0             0          1  \n",
       "1             0          0  \n",
       "2             1          0  \n",
       "3             0          1  \n",
       "4             0          1  \n",
       "..          ...        ...  \n",
       "153           0          0  \n",
       "154           1          0  \n",
       "155           0          1  \n",
       "156           0          1  \n",
       "157           0          0  \n",
       "\n",
       "[158 rows x 11 columns]"
      ]
     },
     "execution_count": 46,
     "metadata": {},
     "output_type": "execute_result"
    }
   ],
   "source": [
    "#Creating dummy variable for Weather column(1 hot encoding)\n",
    "dc4=pd.get_dummies(dclean,columns=['Weather'])\n",
    "dc4"
   ]
  },
  {
   "cell_type": "code",
   "execution_count": 47,
   "id": "1a054b41",
   "metadata": {},
   "outputs": [],
   "source": [
    "dc4=dc4.dropna()"
   ]
  },
  {
   "cell_type": "markdown",
   "id": "d1f2a918",
   "metadata": {},
   "source": [
    "### Normalization of the data"
   ]
  },
  {
   "cell_type": "code",
   "execution_count": 48,
   "id": "061c2a9b",
   "metadata": {},
   "outputs": [],
   "source": [
    "from numpy import set_printoptions\n",
    "from sklearn.preprocessing import MinMaxScaler"
   ]
  },
  {
   "cell_type": "code",
   "execution_count": 49,
   "id": "acdf7e9e",
   "metadata": {},
   "outputs": [
    {
     "data": {
      "text/plain": [
       "array([[ 41. , 190. ,   7.4, ...,   0. ,   0. ,   1. ],\n",
       "       [ 36. , 118. ,   8. , ...,   1. ,   0. ,   0. ],\n",
       "       [ 12. , 149. ,  12.6, ...,   0. ,   1. ,   0. ],\n",
       "       ...,\n",
       "       [ 30. , 193. ,   6.9, ...,   0. ,   1. ,   0. ],\n",
       "       [ 14. , 191. ,  14.3, ...,   0. ,   0. ,   1. ],\n",
       "       [ 18. , 131. ,   8. , ...,   1. ,   0. ,   0. ]])"
      ]
     },
     "execution_count": 49,
     "metadata": {},
     "output_type": "execute_result"
    }
   ],
   "source": [
    "dc4.values"
   ]
  },
  {
   "cell_type": "code",
   "execution_count": 50,
   "id": "798e63d0",
   "metadata": {},
   "outputs": [
    {
     "name": "stdout",
     "output_type": "stream",
     "text": [
      "[[0.24 0.56 0.3  0.   0.  ]\n",
      " [0.21 0.34 0.33 0.   0.03]\n",
      " [0.07 0.43 0.57 0.   0.07]\n",
      " [0.1  0.94 0.52 0.   0.1 ]\n",
      " [0.24 0.55 0.66 0.   0.13]]\n"
     ]
    }
   ],
   "source": [
    "array = dc3.values\n",
    "\n",
    "scaler = MinMaxScaler(feature_range=(0,1))\n",
    "rescaledX = scaler.fit_transform(array[:,0:5])\n",
    "\n",
    "#transformed data\n",
    "set_printoptions(precision=2) # precision is no. of decimal value\n",
    "print(rescaledX[0:5,:])\n"
   ]
  },
  {
   "cell_type": "markdown",
   "id": "49b8b2a8",
   "metadata": {},
   "source": [
    "## Standardize data (Z-Score)"
   ]
  },
  {
   "cell_type": "code",
   "execution_count": 51,
   "id": "d6446208",
   "metadata": {},
   "outputs": [],
   "source": [
    "# (0 mean, 1 stdev)\n",
    "from sklearn.preprocessing import StandardScaler"
   ]
  },
  {
   "cell_type": "code",
   "execution_count": 52,
   "id": "12fb47dd",
   "metadata": {},
   "outputs": [
    {
     "name": "stdout",
     "output_type": "stream",
     "text": [
      "[[-0.02  0.05 -0.71 -1.15 -1.53 -1.7   0.   -1.15 -0.64 -0.68  1.28]\n",
      " [-0.17 -0.75 -0.54 -0.62 -1.53 -1.59  0.   -0.62  1.57 -0.68 -0.78]\n",
      " [-0.9  -0.41  0.77 -0.4  -1.53 -1.48  0.   -0.4  -0.64  1.47 -0.78]\n",
      " [-0.72  1.43  0.45 -1.69 -1.53 -1.36  0.   -1.69 -0.64 -0.68  1.28]\n",
      " [-0.57  1.27 -0.37 -1.37 -1.53 -1.02  0.   -1.37 -0.64  1.47 -0.78]]\n"
     ]
    }
   ],
   "source": [
    "array = dc4.values\n",
    "scaler = StandardScaler().fit(array)\n",
    "rescaledX = scaler.transform(array)\n",
    "\n",
    "# summarize transformed data\n",
    "set_printoptions(precision=2)\n",
    "print(rescaledX[0:5,:])"
   ]
  },
  {
   "cell_type": "markdown",
   "id": "8411ac4f",
   "metadata": {},
   "source": [
    "## Speed up the EDA process (Auto EDA)"
   ]
  },
  {
   "cell_type": "code",
   "execution_count": 58,
   "id": "5667b414",
   "metadata": {},
   "outputs": [
    {
     "data": {
      "application/vnd.jupyter.widget-view+json": {
       "model_id": "557dc34d448245519e501cbfe2f04d51",
       "version_major": 2,
       "version_minor": 0
      },
      "text/plain": [
       "Summarize dataset:   0%|          | 0/22 [00:00<?, ?it/s]"
      ]
     },
     "metadata": {},
     "output_type": "display_data"
    },
    {
     "data": {
      "application/vnd.jupyter.widget-view+json": {
       "model_id": "c66b0b3218024907a093c8bc4936fbc2",
       "version_major": 2,
       "version_minor": 0
      },
      "text/plain": [
       "Generate report structure:   0%|          | 0/1 [00:00<?, ?it/s]"
      ]
     },
     "metadata": {},
     "output_type": "display_data"
    },
    {
     "data": {
      "application/vnd.jupyter.widget-view+json": {
       "model_id": "63d3fc10f8ca46f7934b27db1c769ede",
       "version_major": 2,
       "version_minor": 0
      },
      "text/plain": [
       "Render HTML:   0%|          | 0/1 [00:00<?, ?it/s]"
      ]
     },
     "metadata": {},
     "output_type": "display_data"
    },
    {
     "data": {
      "application/vnd.jupyter.widget-view+json": {
       "model_id": "d0a1f77e63084e2f94c53616dc257d6e",
       "version_major": 2,
       "version_minor": 0
      },
      "text/plain": [
       "Export report to file:   0%|          | 0/1 [00:00<?, ?it/s]"
      ]
     },
     "metadata": {},
     "output_type": "display_data"
    }
   ],
   "source": [
    "EDA_report= pp.ProfileReport(dclean)\n",
    "EDA_report.to_file(output_file='ppedareport.html')"
   ]
  },
  {
   "cell_type": "code",
   "execution_count": 54,
   "id": "007d212e",
   "metadata": {},
   "outputs": [
    {
     "data": {
      "application/vnd.jupyter.widget-view+json": {
       "model_id": "f7e7274ad8724206b4801c82a8454be6",
       "version_major": 2,
       "version_minor": 0
      },
      "text/plain": [
       "                                             |                                             | [  0%]   00:00 ->…"
      ]
     },
     "metadata": {},
     "output_type": "display_data"
    },
    {
     "name": "stdout",
     "output_type": "stream",
     "text": [
      "Report 6.svedareport.html was generated! NOTEBOOK/COLAB USERS: the web browser MAY not pop up, regardless, the report IS saved in your notebook/colab files.\n"
     ]
    }
   ],
   "source": [
    "sweet_report = sv.analyze(dclean)\n",
    "sweet_report.show_html('svedareport.html')"
   ]
  },
  {
   "cell_type": "code",
   "execution_count": 55,
   "id": "fe46523a",
   "metadata": {},
   "outputs": [],
   "source": [
    "#will be saved in your default directory or location"
   ]
  }
 ],
 "metadata": {
  "kernelspec": {
   "display_name": "Python 3",
   "language": "python",
   "name": "python3"
  },
  "language_info": {
   "codemirror_mode": {
    "name": "ipython",
    "version": 3
   },
   "file_extension": ".py",
   "mimetype": "text/x-python",
   "name": "python",
   "nbconvert_exporter": "python",
   "pygments_lexer": "ipython3",
   "version": "3.8.8"
  }
 },
 "nbformat": 4,
 "nbformat_minor": 5
}
