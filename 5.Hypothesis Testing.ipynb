{
 "cells": [
  {
   "cell_type": "code",
   "execution_count": 1,
   "id": "e06615eb",
   "metadata": {},
   "outputs": [],
   "source": [
    "from scipy import stats\n",
    "import pandas as pd\n",
    "import numpy as np"
   ]
  },
  {
   "cell_type": "markdown",
   "id": "c5ab9078",
   "metadata": {},
   "source": [
    "# Hypothesis Testing"
   ]
  },
  {
   "cell_type": "markdown",
   "id": "a3fa6c42",
   "metadata": {},
   "source": [
    "Procedure to calculate Hypothesis-"
   ]
  },
  {
   "cell_type": "code",
   "execution_count": 2,
   "id": "be11cead",
   "metadata": {},
   "outputs": [],
   "source": [
    "#1.define the hypothesis- h0:null hypothesis ; ha/h1:alternate hypothesis\n",
    "#2.select the test statistics\n",
    "#3.z-test-> α= (x̄-μ) / (σ/√n)   ;  t-test-> t= (x̄-μ) / (s/√n)\n",
    "#4.compute the z/t-values\n",
    "#5.find the probablilty for the z/t-value,p-value\n",
    "#6.compare p-value with α (α =0.05) -> p<α -reject null hypothesis(H0)/ accept H1 ; p>α -fail to reject null hypothesis(H0)"
   ]
  },
  {
   "cell_type": "markdown",
   "id": "781ec73f",
   "metadata": {},
   "source": [
    "# 1 Sample 1 Tail"
   ]
  },
  {
   "cell_type": "markdown",
   "id": "1e420889",
   "metadata": {},
   "source": [
    "Super Market Example-"
   ]
  },
  {
   "cell_type": "code",
   "execution_count": 1,
   "id": "9b22c467",
   "metadata": {},
   "outputs": [],
   "source": [
    "#H0->μ ≤120 ;H1->μ>120 ;x̄=130 ;μ=120 ;s=40 ;n=80 ->> t-test"
   ]
  },
  {
   "cell_type": "code",
   "execution_count": 4,
   "id": "b6e86200",
   "metadata": {},
   "outputs": [
    {
     "data": {
      "text/plain": [
       "2.23606797749979"
      ]
     },
     "execution_count": 4,
     "metadata": {},
     "output_type": "execute_result"
    }
   ],
   "source": [
    "(130-120)/(40/np.sqrt(80))  # t-test"
   ]
  },
  {
   "cell_type": "code",
   "execution_count": 5,
   "id": "2a500792",
   "metadata": {},
   "outputs": [
    {
     "data": {
      "text/plain": [
       "0.014292908802574056"
      ]
     },
     "execution_count": 5,
     "metadata": {},
     "output_type": "execute_result"
    }
   ],
   "source": [
    "1-stats.t.cdf(2.23,79)#probabilty of t / p-value"
   ]
  },
  {
   "cell_type": "markdown",
   "id": "e8f669df",
   "metadata": {},
   "source": [
    "p<α ;0.014< 0.050 ->> Reject H0 null hypo /Accept H1,therefore we should launch the card"
   ]
  },
  {
   "cell_type": "markdown",
   "id": "63a727a1",
   "metadata": {},
   "source": [
    "# 1 Sample 2 Tail"
   ]
  },
  {
   "cell_type": "markdown",
   "id": "f5b3e521",
   "metadata": {},
   "source": [
    "Call Center Example-"
   ]
  },
  {
   "cell_type": "code",
   "execution_count": 2,
   "id": "802895e1",
   "metadata": {},
   "outputs": [],
   "source": [
    "#H0->μ=4 ;H1->μ≠4 ;x̄=given ;μ=4 ;s=3 ;n=50 ->> t-test"
   ]
  },
  {
   "cell_type": "code",
   "execution_count": 21,
   "id": "f4503bbb",
   "metadata": {},
   "outputs": [],
   "source": [
    "#for 2 tail probability-> 2*stats.t.cdf(-__,df)\n",
    "#irrespective of sign of z/t value it should be -ve"
   ]
  },
  {
   "cell_type": "code",
   "execution_count": 46,
   "id": "31a13f6b",
   "metadata": {},
   "outputs": [],
   "source": [
    "#for x̄=3.7"
   ]
  },
  {
   "cell_type": "code",
   "execution_count": 7,
   "id": "070bb5f7",
   "metadata": {},
   "outputs": [
    {
     "data": {
      "text/plain": [
       "-0.7071067811865471"
      ]
     },
     "execution_count": 7,
     "metadata": {},
     "output_type": "execute_result"
    }
   ],
   "source": [
    "(3.7-4)/(3/np.sqrt(50))"
   ]
  },
  {
   "cell_type": "code",
   "execution_count": 61,
   "id": "466c07d1",
   "metadata": {},
   "outputs": [
    {
     "data": {
      "text/plain": [
       "0.48106953595078283"
      ]
     },
     "execution_count": 61,
     "metadata": {},
     "output_type": "execute_result"
    }
   ],
   "source": [
    "2*stats.t.cdf(-0.71,49)"
   ]
  },
  {
   "cell_type": "code",
   "execution_count": 47,
   "id": "912ea505",
   "metadata": {},
   "outputs": [],
   "source": [
    "# for x̄=4.6"
   ]
  },
  {
   "cell_type": "code",
   "execution_count": 9,
   "id": "a6c799f4",
   "metadata": {},
   "outputs": [
    {
     "data": {
      "text/plain": [
       "1.4142135623730943"
      ]
     },
     "execution_count": 9,
     "metadata": {},
     "output_type": "execute_result"
    }
   ],
   "source": [
    "(4.6-4)/(3/np.sqrt(50))"
   ]
  },
  {
   "cell_type": "code",
   "execution_count": 62,
   "id": "146edf72",
   "metadata": {},
   "outputs": [
    {
     "data": {
      "text/plain": [
       "0.1619391884812146"
      ]
     },
     "execution_count": 62,
     "metadata": {},
     "output_type": "execute_result"
    }
   ],
   "source": [
    "2*stats.t.cdf(-1.42,49)"
   ]
  }
 ],
 "metadata": {
  "kernelspec": {
   "display_name": "Python 3",
   "language": "python",
   "name": "python3"
  },
  "language_info": {
   "codemirror_mode": {
    "name": "ipython",
    "version": 3
   },
   "file_extension": ".py",
   "mimetype": "text/x-python",
   "name": "python",
   "nbconvert_exporter": "python",
   "pygments_lexer": "ipython3",
   "version": "3.8.8"
  }
 },
 "nbformat": 4,
 "nbformat_minor": 5
}
