{
 "cells": [
  {
   "cell_type": "code",
   "execution_count": 1,
   "id": "ce1d8181",
   "metadata": {},
   "outputs": [],
   "source": [
    "import pandas as pd\n",
    "import numpy as np\n",
    "from scipy import stats\n",
    "import matplotlib.pyplot as plt\n",
    "import seaborn as sn\n",
    "%matplotlib inline\n",
    "\n",
    "import warnings\n",
    "warnings.filterwarnings(\"ignore\")"
   ]
  },
  {
   "cell_type": "code",
   "execution_count": 5,
   "id": "93ba0ead",
   "metadata": {},
   "outputs": [
    {
     "data": {
      "text/plain": [
       "0.8413447460685429"
      ]
     },
     "execution_count": 5,
     "metadata": {},
     "output_type": "execute_result"
    }
   ],
   "source": [
    "stats.norm.cdf(70,60,10)"
   ]
  },
  {
   "cell_type": "code",
   "execution_count": 6,
   "id": "6bde2eb8",
   "metadata": {},
   "outputs": [
    {
     "data": {
      "text/plain": [
       "0.14254260383881612"
      ]
     },
     "execution_count": 6,
     "metadata": {},
     "output_type": "execute_result"
    }
   ],
   "source": [
    "stats.norm.cdf(680,711,29)"
   ]
  },
  {
   "cell_type": "code",
   "execution_count": 7,
   "id": "a368a8e0",
   "metadata": {},
   "outputs": [
    {
     "data": {
      "text/plain": [
       "0.5267111786415019"
      ]
     },
     "execution_count": 7,
     "metadata": {},
     "output_type": "execute_result"
    }
   ],
   "source": [
    "stats.norm.cdf(740,711,29)-stats.norm.cdf(697,711,29)"
   ]
  },
  {
   "cell_type": "markdown",
   "id": "f8d4c315",
   "metadata": {},
   "source": [
    "# Stock Price (BEML & GLAXO)"
   ]
  },
  {
   "cell_type": "code",
   "execution_count": 2,
   "id": "26c829a8",
   "metadata": {},
   "outputs": [
    {
     "data": {
      "text/html": [
       "<div>\n",
       "<style scoped>\n",
       "    .dataframe tbody tr th:only-of-type {\n",
       "        vertical-align: middle;\n",
       "    }\n",
       "\n",
       "    .dataframe tbody tr th {\n",
       "        vertical-align: top;\n",
       "    }\n",
       "\n",
       "    .dataframe thead th {\n",
       "        text-align: right;\n",
       "    }\n",
       "</style>\n",
       "<table border=\"1\" class=\"dataframe\">\n",
       "  <thead>\n",
       "    <tr style=\"text-align: right;\">\n",
       "      <th></th>\n",
       "      <th>Date</th>\n",
       "      <th>Open</th>\n",
       "      <th>High</th>\n",
       "      <th>Low</th>\n",
       "      <th>Last</th>\n",
       "      <th>Close</th>\n",
       "      <th>Total Trade Quantity</th>\n",
       "      <th>Turnover (Lacs)</th>\n",
       "    </tr>\n",
       "  </thead>\n",
       "  <tbody>\n",
       "    <tr>\n",
       "      <th>0</th>\n",
       "      <td>2010-01-04</td>\n",
       "      <td>1613.00</td>\n",
       "      <td>1629.10</td>\n",
       "      <td>1602.00</td>\n",
       "      <td>1629.0</td>\n",
       "      <td>1625.65</td>\n",
       "      <td>9365.0</td>\n",
       "      <td>151.74</td>\n",
       "    </tr>\n",
       "    <tr>\n",
       "      <th>1</th>\n",
       "      <td>2010-01-05</td>\n",
       "      <td>1639.95</td>\n",
       "      <td>1639.95</td>\n",
       "      <td>1611.05</td>\n",
       "      <td>1620.0</td>\n",
       "      <td>1616.80</td>\n",
       "      <td>38148.0</td>\n",
       "      <td>622.58</td>\n",
       "    </tr>\n",
       "    <tr>\n",
       "      <th>2</th>\n",
       "      <td>2010-01-06</td>\n",
       "      <td>1618.00</td>\n",
       "      <td>1644.00</td>\n",
       "      <td>1617.00</td>\n",
       "      <td>1639.0</td>\n",
       "      <td>1638.50</td>\n",
       "      <td>36519.0</td>\n",
       "      <td>595.09</td>\n",
       "    </tr>\n",
       "    <tr>\n",
       "      <th>3</th>\n",
       "      <td>2010-01-07</td>\n",
       "      <td>1645.00</td>\n",
       "      <td>1654.00</td>\n",
       "      <td>1636.00</td>\n",
       "      <td>1648.0</td>\n",
       "      <td>1648.70</td>\n",
       "      <td>12809.0</td>\n",
       "      <td>211.00</td>\n",
       "    </tr>\n",
       "    <tr>\n",
       "      <th>4</th>\n",
       "      <td>2010-01-08</td>\n",
       "      <td>1650.00</td>\n",
       "      <td>1650.00</td>\n",
       "      <td>1626.55</td>\n",
       "      <td>1640.0</td>\n",
       "      <td>1639.80</td>\n",
       "      <td>28035.0</td>\n",
       "      <td>459.11</td>\n",
       "    </tr>\n",
       "  </tbody>\n",
       "</table>\n",
       "</div>"
      ],
      "text/plain": [
       "         Date     Open     High      Low    Last    Close  \\\n",
       "0  2010-01-04  1613.00  1629.10  1602.00  1629.0  1625.65   \n",
       "1  2010-01-05  1639.95  1639.95  1611.05  1620.0  1616.80   \n",
       "2  2010-01-06  1618.00  1644.00  1617.00  1639.0  1638.50   \n",
       "3  2010-01-07  1645.00  1654.00  1636.00  1648.0  1648.70   \n",
       "4  2010-01-08  1650.00  1650.00  1626.55  1640.0  1639.80   \n",
       "\n",
       "   Total Trade Quantity  Turnover (Lacs)  \n",
       "0                9365.0           151.74  \n",
       "1               38148.0           622.58  \n",
       "2               36519.0           595.09  \n",
       "3               12809.0           211.00  \n",
       "4               28035.0           459.11  "
      ]
     },
     "execution_count": 2,
     "metadata": {},
     "output_type": "execute_result"
    }
   ],
   "source": [
    "glaxo=pd.read_csv(\"/4.GLAXO.csv\")\n",
    "glaxo.head()"
   ]
  },
  {
   "cell_type": "code",
   "execution_count": 3,
   "id": "51692573",
   "metadata": {
    "scrolled": true
   },
   "outputs": [
    {
     "data": {
      "text/html": [
       "<div>\n",
       "<style scoped>\n",
       "    .dataframe tbody tr th:only-of-type {\n",
       "        vertical-align: middle;\n",
       "    }\n",
       "\n",
       "    .dataframe tbody tr th {\n",
       "        vertical-align: top;\n",
       "    }\n",
       "\n",
       "    .dataframe thead th {\n",
       "        text-align: right;\n",
       "    }\n",
       "</style>\n",
       "<table border=\"1\" class=\"dataframe\">\n",
       "  <thead>\n",
       "    <tr style=\"text-align: right;\">\n",
       "      <th></th>\n",
       "      <th>Date</th>\n",
       "      <th>Open</th>\n",
       "      <th>High</th>\n",
       "      <th>Low</th>\n",
       "      <th>Last</th>\n",
       "      <th>Close</th>\n",
       "      <th>Total Trade Quantity</th>\n",
       "      <th>Turnover (Lacs)</th>\n",
       "    </tr>\n",
       "  </thead>\n",
       "  <tbody>\n",
       "    <tr>\n",
       "      <th>0</th>\n",
       "      <td>2010-01-04</td>\n",
       "      <td>1121.0</td>\n",
       "      <td>1151.00</td>\n",
       "      <td>1121.00</td>\n",
       "      <td>1134.0</td>\n",
       "      <td>1135.60</td>\n",
       "      <td>101651.0</td>\n",
       "      <td>1157.18</td>\n",
       "    </tr>\n",
       "    <tr>\n",
       "      <th>1</th>\n",
       "      <td>2010-01-05</td>\n",
       "      <td>1146.8</td>\n",
       "      <td>1149.00</td>\n",
       "      <td>1128.75</td>\n",
       "      <td>1135.0</td>\n",
       "      <td>1134.60</td>\n",
       "      <td>59504.0</td>\n",
       "      <td>676.47</td>\n",
       "    </tr>\n",
       "    <tr>\n",
       "      <th>2</th>\n",
       "      <td>2010-01-06</td>\n",
       "      <td>1140.0</td>\n",
       "      <td>1164.25</td>\n",
       "      <td>1130.05</td>\n",
       "      <td>1137.0</td>\n",
       "      <td>1139.60</td>\n",
       "      <td>128908.0</td>\n",
       "      <td>1482.84</td>\n",
       "    </tr>\n",
       "    <tr>\n",
       "      <th>3</th>\n",
       "      <td>2010-01-07</td>\n",
       "      <td>1142.0</td>\n",
       "      <td>1159.40</td>\n",
       "      <td>1119.20</td>\n",
       "      <td>1141.0</td>\n",
       "      <td>1144.15</td>\n",
       "      <td>117871.0</td>\n",
       "      <td>1352.98</td>\n",
       "    </tr>\n",
       "    <tr>\n",
       "      <th>4</th>\n",
       "      <td>2010-01-08</td>\n",
       "      <td>1156.0</td>\n",
       "      <td>1172.00</td>\n",
       "      <td>1140.00</td>\n",
       "      <td>1141.2</td>\n",
       "      <td>1144.05</td>\n",
       "      <td>170063.0</td>\n",
       "      <td>1971.42</td>\n",
       "    </tr>\n",
       "  </tbody>\n",
       "</table>\n",
       "</div>"
      ],
      "text/plain": [
       "         Date    Open     High      Low    Last    Close  \\\n",
       "0  2010-01-04  1121.0  1151.00  1121.00  1134.0  1135.60   \n",
       "1  2010-01-05  1146.8  1149.00  1128.75  1135.0  1134.60   \n",
       "2  2010-01-06  1140.0  1164.25  1130.05  1137.0  1139.60   \n",
       "3  2010-01-07  1142.0  1159.40  1119.20  1141.0  1144.15   \n",
       "4  2010-01-08  1156.0  1172.00  1140.00  1141.2  1144.05   \n",
       "\n",
       "   Total Trade Quantity  Turnover (Lacs)  \n",
       "0              101651.0          1157.18  \n",
       "1               59504.0           676.47  \n",
       "2              128908.0          1482.84  \n",
       "3              117871.0          1352.98  \n",
       "4              170063.0          1971.42  "
      ]
     },
     "execution_count": 3,
     "metadata": {},
     "output_type": "execute_result"
    }
   ],
   "source": [
    "beml=pd.read_csv(\"/4.BEML.csv\")\n",
    "beml.head()"
   ]
  },
  {
   "cell_type": "markdown",
   "id": "91309def",
   "metadata": {},
   "source": [
    "The DataFrames have a date column, so we can create a DatetimeIndex index from this column Date. It will ensure that the rows are sorted by time in ascending order."
   ]
  },
  {
   "cell_type": "code",
   "execution_count": 11,
   "id": "71db2e33",
   "metadata": {},
   "outputs": [],
   "source": [
    "glaxo = glaxo.set_index(pd.DatetimeIndex(glaxo['Date']))\n",
    "beml = beml.set_index(pd.DatetimeIndex(beml['Date'])) # to set date column as index column to calculate gains"
   ]
  },
  {
   "cell_type": "code",
   "execution_count": 12,
   "id": "f337ada7",
   "metadata": {},
   "outputs": [
    {
     "data": {
      "text/html": [
       "<div>\n",
       "<style scoped>\n",
       "    .dataframe tbody tr th:only-of-type {\n",
       "        vertical-align: middle;\n",
       "    }\n",
       "\n",
       "    .dataframe tbody tr th {\n",
       "        vertical-align: top;\n",
       "    }\n",
       "\n",
       "    .dataframe thead th {\n",
       "        text-align: right;\n",
       "    }\n",
       "</style>\n",
       "<table border=\"1\" class=\"dataframe\">\n",
       "  <thead>\n",
       "    <tr style=\"text-align: right;\">\n",
       "      <th></th>\n",
       "      <th>Date</th>\n",
       "      <th>Open</th>\n",
       "      <th>High</th>\n",
       "      <th>Low</th>\n",
       "      <th>Last</th>\n",
       "      <th>Close</th>\n",
       "      <th>Total Trade Quantity</th>\n",
       "      <th>Turnover (Lacs)</th>\n",
       "    </tr>\n",
       "    <tr>\n",
       "      <th>Date</th>\n",
       "      <th></th>\n",
       "      <th></th>\n",
       "      <th></th>\n",
       "      <th></th>\n",
       "      <th></th>\n",
       "      <th></th>\n",
       "      <th></th>\n",
       "      <th></th>\n",
       "    </tr>\n",
       "  </thead>\n",
       "  <tbody>\n",
       "    <tr>\n",
       "      <th>2010-01-04</th>\n",
       "      <td>2010-01-04</td>\n",
       "      <td>1613.00</td>\n",
       "      <td>1629.10</td>\n",
       "      <td>1602.00</td>\n",
       "      <td>1629.0</td>\n",
       "      <td>1625.65</td>\n",
       "      <td>9365.0</td>\n",
       "      <td>151.74</td>\n",
       "    </tr>\n",
       "    <tr>\n",
       "      <th>2010-01-05</th>\n",
       "      <td>2010-01-05</td>\n",
       "      <td>1639.95</td>\n",
       "      <td>1639.95</td>\n",
       "      <td>1611.05</td>\n",
       "      <td>1620.0</td>\n",
       "      <td>1616.80</td>\n",
       "      <td>38148.0</td>\n",
       "      <td>622.58</td>\n",
       "    </tr>\n",
       "    <tr>\n",
       "      <th>2010-01-06</th>\n",
       "      <td>2010-01-06</td>\n",
       "      <td>1618.00</td>\n",
       "      <td>1644.00</td>\n",
       "      <td>1617.00</td>\n",
       "      <td>1639.0</td>\n",
       "      <td>1638.50</td>\n",
       "      <td>36519.0</td>\n",
       "      <td>595.09</td>\n",
       "    </tr>\n",
       "    <tr>\n",
       "      <th>2010-01-07</th>\n",
       "      <td>2010-01-07</td>\n",
       "      <td>1645.00</td>\n",
       "      <td>1654.00</td>\n",
       "      <td>1636.00</td>\n",
       "      <td>1648.0</td>\n",
       "      <td>1648.70</td>\n",
       "      <td>12809.0</td>\n",
       "      <td>211.00</td>\n",
       "    </tr>\n",
       "    <tr>\n",
       "      <th>2010-01-08</th>\n",
       "      <td>2010-01-08</td>\n",
       "      <td>1650.00</td>\n",
       "      <td>1650.00</td>\n",
       "      <td>1626.55</td>\n",
       "      <td>1640.0</td>\n",
       "      <td>1639.80</td>\n",
       "      <td>28035.0</td>\n",
       "      <td>459.11</td>\n",
       "    </tr>\n",
       "  </tbody>\n",
       "</table>\n",
       "</div>"
      ],
      "text/plain": [
       "                  Date     Open     High      Low    Last    Close  \\\n",
       "Date                                                                 \n",
       "2010-01-04  2010-01-04  1613.00  1629.10  1602.00  1629.0  1625.65   \n",
       "2010-01-05  2010-01-05  1639.95  1639.95  1611.05  1620.0  1616.80   \n",
       "2010-01-06  2010-01-06  1618.00  1644.00  1617.00  1639.0  1638.50   \n",
       "2010-01-07  2010-01-07  1645.00  1654.00  1636.00  1648.0  1648.70   \n",
       "2010-01-08  2010-01-08  1650.00  1650.00  1626.55  1640.0  1639.80   \n",
       "\n",
       "            Total Trade Quantity  Turnover (Lacs)  \n",
       "Date                                               \n",
       "2010-01-04                9365.0           151.74  \n",
       "2010-01-05               38148.0           622.58  \n",
       "2010-01-06               36519.0           595.09  \n",
       "2010-01-07               12809.0           211.00  \n",
       "2010-01-08               28035.0           459.11  "
      ]
     },
     "execution_count": 12,
     "metadata": {},
     "output_type": "execute_result"
    }
   ],
   "source": [
    "glaxo.head()"
   ]
  },
  {
   "cell_type": "code",
   "execution_count": 15,
   "id": "06ca9603",
   "metadata": {},
   "outputs": [],
   "source": [
    "# plot the price against time"
   ]
  },
  {
   "cell_type": "markdown",
   "id": "f80f33b4",
   "metadata": {},
   "source": [
    "Price Chart"
   ]
  },
  {
   "cell_type": "code",
   "execution_count": 19,
   "id": "82cc5b09",
   "metadata": {},
   "outputs": [
    {
     "data": {
      "image/png": "[encoded data removed]",
      "text/plain": [
       "<Figure size 432x288 with 1 Axes>"
      ]
     },
     "metadata": {
      "needs_background": "light"
     },
     "output_type": "display_data"
    }
   ],
   "source": [
    "plt.plot(glaxo.Close)\n",
    "plt.title(\"Glaxo\")\n",
    "plt.xlabel('Time')\n",
    "plt.ylabel('Close Price');"
   ]
  },
  {
   "cell_type": "code",
   "execution_count": 21,
   "id": "bf0ebd6b",
   "metadata": {},
   "outputs": [
    {
     "data": {
      "text/plain": [
       "Text(0, 0.5, 'Close Price')"
      ]
     },
     "execution_count": 21,
     "metadata": {},
     "output_type": "execute_result"
    },
    {
     "data": {
      "image/png": "[encoded data removed]",
      "text/plain": [
       "<Figure size 432x288 with 1 Axes>"
      ]
     },
     "metadata": {
      "needs_background": "light"
     },
     "output_type": "display_data"
    }
   ],
   "source": [
    "plt.plot(beml.Close)\n",
    "plt.title(\"BEML\")\n",
    "plt.xlabel('Time')\n",
    "plt.ylabel('Close Price')"
   ]
  },
  {
   "cell_type": "markdown",
   "id": "381f6d3d",
   "metadata": {},
   "source": [
    "Gains"
   ]
  },
  {
   "cell_type": "code",
   "execution_count": 26,
   "id": "1ec6d201",
   "metadata": {},
   "outputs": [],
   "source": [
    "# create the gain column using pct_() method\n",
    "# Gain= closing price(t)-closing price(t-1)/closing price(t-1)\n",
    "# drop first row since it is NaN"
   ]
  },
  {
   "cell_type": "code",
   "execution_count": 31,
   "id": "d2d52458",
   "metadata": {},
   "outputs": [],
   "source": [
    "glaxo['gain'] = glaxo.Close.pct_change(periods = 1)\n",
    "beml['gain'] = beml.Close.pct_change(periods = 1)"
   ]
  },
  {
   "cell_type": "code",
   "execution_count": 35,
   "id": "bca2dec4",
   "metadata": {},
   "outputs": [],
   "source": [
    "glaxo=glaxo.dropna()\n",
    "beml=beml.dropna()"
   ]
  },
  {
   "cell_type": "code",
   "execution_count": 36,
   "id": "2156d37f",
   "metadata": {},
   "outputs": [
    {
     "data": {
      "text/html": [
       "<div>\n",
       "<style scoped>\n",
       "    .dataframe tbody tr th:only-of-type {\n",
       "        vertical-align: middle;\n",
       "    }\n",
       "\n",
       "    .dataframe tbody tr th {\n",
       "        vertical-align: top;\n",
       "    }\n",
       "\n",
       "    .dataframe thead th {\n",
       "        text-align: right;\n",
       "    }\n",
       "</style>\n",
       "<table border=\"1\" class=\"dataframe\">\n",
       "  <thead>\n",
       "    <tr style=\"text-align: right;\">\n",
       "      <th></th>\n",
       "      <th>Date</th>\n",
       "      <th>Close</th>\n",
       "      <th>gain</th>\n",
       "    </tr>\n",
       "    <tr>\n",
       "      <th>Date</th>\n",
       "      <th></th>\n",
       "      <th></th>\n",
       "      <th></th>\n",
       "    </tr>\n",
       "  </thead>\n",
       "  <tbody>\n",
       "    <tr>\n",
       "      <th>2010-01-05</th>\n",
       "      <td>2010-01-05</td>\n",
       "      <td>1616.80</td>\n",
       "      <td>-0.005444</td>\n",
       "    </tr>\n",
       "    <tr>\n",
       "      <th>2010-01-06</th>\n",
       "      <td>2010-01-06</td>\n",
       "      <td>1638.50</td>\n",
       "      <td>0.013422</td>\n",
       "    </tr>\n",
       "    <tr>\n",
       "      <th>2010-01-07</th>\n",
       "      <td>2010-01-07</td>\n",
       "      <td>1648.70</td>\n",
       "      <td>0.006225</td>\n",
       "    </tr>\n",
       "    <tr>\n",
       "      <th>2010-01-08</th>\n",
       "      <td>2010-01-08</td>\n",
       "      <td>1639.80</td>\n",
       "      <td>-0.005398</td>\n",
       "    </tr>\n",
       "    <tr>\n",
       "      <th>2010-01-11</th>\n",
       "      <td>2010-01-11</td>\n",
       "      <td>1629.45</td>\n",
       "      <td>-0.006312</td>\n",
       "    </tr>\n",
       "  </tbody>\n",
       "</table>\n",
       "</div>"
      ],
      "text/plain": [
       "                  Date    Close      gain\n",
       "Date                                     \n",
       "2010-01-05  2010-01-05  1616.80 -0.005444\n",
       "2010-01-06  2010-01-06  1638.50  0.013422\n",
       "2010-01-07  2010-01-07  1648.70  0.006225\n",
       "2010-01-08  2010-01-08  1639.80 -0.005398\n",
       "2010-01-11  2010-01-11  1629.45 -0.006312"
      ]
     },
     "execution_count": 36,
     "metadata": {},
     "output_type": "execute_result"
    }
   ],
   "source": [
    "glaxo.head()  #gain column has been created"
   ]
  },
  {
   "cell_type": "markdown",
   "id": "f2a5f000",
   "metadata": {},
   "source": [
    "Plotting Gains"
   ]
  },
  {
   "cell_type": "code",
   "execution_count": 75,
   "id": "8bed40dc",
   "metadata": {},
   "outputs": [
    {
     "data": {
      "image/png": "[encoded data removed]",
      "text/plain": [
       "<Figure size 1224x288 with 2 Axes>"
      ]
     },
     "metadata": {
      "needs_background": "light"
     },
     "output_type": "display_data"
    }
   ],
   "source": [
    "# compared subplots\n",
    "fig = plt.figure(figsize=(17,4))\n",
    "plt.suptitle('Gains', size=20, y=1.07) \n",
    "\n",
    "plt.subplot(1,2,1)\n",
    "plt.title(\"Glaxo\")\n",
    "plt.plot(glaxo.index, glaxo.gain,color=\"limegreen\")\n",
    "plt.xlabel('Year')\n",
    "plt.ylabel('Gain');\n",
    "\n",
    "plt.subplot(1,2,2)\n",
    "plt.title(\"BEML\")\n",
    "plt.plot(beml.index,beml.gain,color=\"red\")\n",
    "plt.xlabel('Year')\n",
    "plt.ylabel('Gain');\n",
    "plt.show()"
   ]
  },
  {
   "cell_type": "code",
   "execution_count": 90,
   "id": "9b5a0421",
   "metadata": {},
   "outputs": [
    {
     "data": {
      "image/png": "[encoded data removed]",
      "text/plain": [
       "<Figure size 1224x288 with 2 Axes>"
      ]
     },
     "metadata": {
      "needs_background": "light"
     },
     "output_type": "display_data"
    }
   ],
   "source": [
    "#compared distbribution subplots\n",
    "fig = plt.figure(figsize=(17,4))\n",
    "plt.suptitle('Gains', size=20, y=1.07)\n",
    "\n",
    "plt.subplot(1,2,1)\n",
    "plt.title(\"Glaxo\")\n",
    "sn.distplot(glaxo.gain,color=\"green\")\n",
    "plt.xlabel('gain')\n",
    "plt.ylabel('Density')\n",
    "\n",
    "plt.subplot(1,2,2)\n",
    "plt.title(\"BEML\")\n",
    "sn.distplot(beml.gain,color=\"red\")\n",
    "plt.xlabel('gain')\n",
    "plt.ylabel('Density');"
   ]
  },
  {
   "cell_type": "markdown",
   "id": "25a47d51",
   "metadata": {},
   "source": [
    "Mean(μ) & Standard Deviation(σ)"
   ]
  },
  {
   "cell_type": "code",
   "execution_count": 108,
   "id": "6ce107c4",
   "metadata": {},
   "outputs": [
    {
     "name": "stdout",
     "output_type": "stream",
     "text": [
      "Mean: 0.0004\n",
      "Std: 0.0134\n"
     ]
    }
   ],
   "source": [
    "#Glaxo\n",
    "print('Mean:',round(glaxo.gain.mean(), 4))\n",
    "print('Std:',round(glaxo.gain.std(), 4))"
   ]
  },
  {
   "cell_type": "code",
   "execution_count": 109,
   "id": "a7998ef1",
   "metadata": {},
   "outputs": [
    {
     "name": "stdout",
     "output_type": "stream",
     "text": [
      "Mean: 0.0003\n",
      "Std: 0.0264\n"
     ]
    }
   ],
   "source": [
    "#BEML\n",
    "print('Mean:',round(beml.gain.mean(), 4))\n",
    "print('Std:',round(beml.gain.std(), 4))"
   ]
  },
  {
   "cell_type": "markdown",
   "id": "1d85de27",
   "metadata": {},
   "source": [
    "Probability of making 2% Loss or Higher"
   ]
  },
  {
   "cell_type": "code",
   "execution_count": 113,
   "id": "514eb0f2",
   "metadata": {},
   "outputs": [
    {
     "data": {
      "text/plain": [
       "0.06352488667177397"
      ]
     },
     "execution_count": 113,
     "metadata": {},
     "output_type": "execute_result"
    }
   ],
   "source": [
    "#Glaxo\n",
    "stats.norm.cdf(-0.02,glaxo.gain.mean(),glaxo.gain.std())"
   ]
  },
  {
   "cell_type": "code",
   "execution_count": 114,
   "id": "aecf8851",
   "metadata": {},
   "outputs": [
    {
     "data": {
      "text/plain": [
       "0.22155987503755292"
      ]
     },
     "execution_count": 114,
     "metadata": {},
     "output_type": "execute_result"
    }
   ],
   "source": [
    "#BEML\n",
    "stats.norm.cdf(-0.02,beml.gain.mean(),beml.gain.std())"
   ]
  },
  {
   "cell_type": "markdown",
   "id": "f0732584",
   "metadata": {},
   "source": [
    "Probability of making 2% Gain or Higher"
   ]
  },
  {
   "cell_type": "code",
   "execution_count": 117,
   "id": "96de2ae2",
   "metadata": {},
   "outputs": [
    {
     "data": {
      "text/plain": [
       "0.07104511457618568"
      ]
     },
     "execution_count": 117,
     "metadata": {},
     "output_type": "execute_result"
    }
   ],
   "source": [
    "#Glaxo\n",
    "1-stats.norm.cdf(0.02,glaxo.gain.mean(),glaxo.gain.std())"
   ]
  },
  {
   "cell_type": "code",
   "execution_count": 122,
   "id": "75e6094b",
   "metadata": {},
   "outputs": [
    {
     "data": {
      "text/plain": [
       "0.22769829484075343"
      ]
     },
     "execution_count": 122,
     "metadata": {},
     "output_type": "execute_result"
    }
   ],
   "source": [
    "#BEML\n",
    "1-stats.norm.cdf(0.02,beml.gain.mean(),beml.gain.std())"
   ]
  }
 ],
 "metadata": {
  "kernelspec": {
   "display_name": "Python 3",
   "language": "python",
   "name": "python3"
  },
  "language_info": {
   "codemirror_mode": {
    "name": "ipython",
    "version": 3
   },
   "file_extension": ".py",
   "mimetype": "text/x-python",
   "name": "python",
   "nbconvert_exporter": "python",
   "pygments_lexer": "ipython3",
   "version": "3.8.8"
  }
 },
 "nbformat": 4,
 "nbformat_minor": 5
}
