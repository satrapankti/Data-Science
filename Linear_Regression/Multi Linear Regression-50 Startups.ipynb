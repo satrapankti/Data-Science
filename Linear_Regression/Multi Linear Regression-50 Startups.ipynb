{
 "cells": [
  {
   "cell_type": "markdown",
   "id": "85c8f90e",
   "metadata": {},
   "source": [
    "# Multi-Linear Regression"
   ]
  },
  {
   "cell_type": "code",
   "execution_count": 1,
   "id": "2d7a9644",
   "metadata": {},
   "outputs": [],
   "source": [
    "import pandas as pd\n",
    "import numpy as np\n",
    "import matplotlib.pyplot as plt\n",
    "import seaborn as sns\n",
    "import statsmodels.api as sm\n",
    "import statsmodels.formula.api as smf\n",
    "from statsmodels.graphics.regressionplots import influence_plot"
   ]
  },
  {
   "cell_type": "markdown",
   "id": "4a1f4f6e",
   "metadata": {},
   "source": [
    "## 50 Startups"
   ]
  },
  {
   "cell_type": "code",
   "execution_count": 2,
   "id": "8f7cc9be",
   "metadata": {},
   "outputs": [
    {
     "data": {
      "text/html": [
       "<div>\n",
       "<style scoped>\n",
       "    .dataframe tbody tr th:only-of-type {\n",
       "        vertical-align: middle;\n",
       "    }\n",
       "\n",
       "    .dataframe tbody tr th {\n",
       "        vertical-align: top;\n",
       "    }\n",
       "\n",
       "    .dataframe thead th {\n",
       "        text-align: right;\n",
       "    }\n",
       "</style>\n",
       "<table border=\"1\" class=\"dataframe\">\n",
       "  <thead>\n",
       "    <tr style=\"text-align: right;\">\n",
       "      <th></th>\n",
       "      <th>R&amp;D Spend</th>\n",
       "      <th>Administration</th>\n",
       "      <th>Marketing Spend</th>\n",
       "      <th>State</th>\n",
       "      <th>Profit</th>\n",
       "    </tr>\n",
       "  </thead>\n",
       "  <tbody>\n",
       "    <tr>\n",
       "      <th>0</th>\n",
       "      <td>165349.20</td>\n",
       "      <td>136897.80</td>\n",
       "      <td>471784.10</td>\n",
       "      <td>New York</td>\n",
       "      <td>192261.83</td>\n",
       "    </tr>\n",
       "    <tr>\n",
       "      <th>1</th>\n",
       "      <td>162597.70</td>\n",
       "      <td>151377.59</td>\n",
       "      <td>443898.53</td>\n",
       "      <td>California</td>\n",
       "      <td>191792.06</td>\n",
       "    </tr>\n",
       "    <tr>\n",
       "      <th>2</th>\n",
       "      <td>153441.51</td>\n",
       "      <td>101145.55</td>\n",
       "      <td>407934.54</td>\n",
       "      <td>Florida</td>\n",
       "      <td>191050.39</td>\n",
       "    </tr>\n",
       "    <tr>\n",
       "      <th>3</th>\n",
       "      <td>144372.41</td>\n",
       "      <td>118671.85</td>\n",
       "      <td>383199.62</td>\n",
       "      <td>New York</td>\n",
       "      <td>182901.99</td>\n",
       "    </tr>\n",
       "    <tr>\n",
       "      <th>4</th>\n",
       "      <td>142107.34</td>\n",
       "      <td>91391.77</td>\n",
       "      <td>366168.42</td>\n",
       "      <td>Florida</td>\n",
       "      <td>166187.94</td>\n",
       "    </tr>\n",
       "  </tbody>\n",
       "</table>\n",
       "</div>"
      ],
      "text/plain": [
       "   R&D Spend  Administration  Marketing Spend       State     Profit\n",
       "0  165349.20       136897.80        471784.10    New York  192261.83\n",
       "1  162597.70       151377.59        443898.53  California  191792.06\n",
       "2  153441.51       101145.55        407934.54     Florida  191050.39\n",
       "3  144372.41       118671.85        383199.62    New York  182901.99\n",
       "4  142107.34        91391.77        366168.42     Florida  166187.94"
      ]
     },
     "execution_count": 2,
     "metadata": {},
     "output_type": "execute_result"
    }
   ],
   "source": [
    "start=pd.read_csv(\"E:/ExcelR/Assignments/Data Science Assignments/5.Multi Linear Regression/5.Multi Linear Regression/50_Startups.csv\")\n",
    "start.head()"
   ]
  },
  {
   "cell_type": "code",
   "execution_count": 3,
   "id": "e4e37601",
   "metadata": {},
   "outputs": [
    {
     "data": {
      "text/html": [
       "<div>\n",
       "<style scoped>\n",
       "    .dataframe tbody tr th:only-of-type {\n",
       "        vertical-align: middle;\n",
       "    }\n",
       "\n",
       "    .dataframe tbody tr th {\n",
       "        vertical-align: top;\n",
       "    }\n",
       "\n",
       "    .dataframe thead th {\n",
       "        text-align: right;\n",
       "    }\n",
       "</style>\n",
       "<table border=\"1\" class=\"dataframe\">\n",
       "  <thead>\n",
       "    <tr style=\"text-align: right;\">\n",
       "      <th></th>\n",
       "      <th>RnD</th>\n",
       "      <th>Admin</th>\n",
       "      <th>Marketing</th>\n",
       "      <th>State</th>\n",
       "      <th>Profit</th>\n",
       "    </tr>\n",
       "  </thead>\n",
       "  <tbody>\n",
       "    <tr>\n",
       "      <th>0</th>\n",
       "      <td>165349.20</td>\n",
       "      <td>136897.80</td>\n",
       "      <td>471784.10</td>\n",
       "      <td>New York</td>\n",
       "      <td>192261.83</td>\n",
       "    </tr>\n",
       "    <tr>\n",
       "      <th>1</th>\n",
       "      <td>162597.70</td>\n",
       "      <td>151377.59</td>\n",
       "      <td>443898.53</td>\n",
       "      <td>California</td>\n",
       "      <td>191792.06</td>\n",
       "    </tr>\n",
       "    <tr>\n",
       "      <th>2</th>\n",
       "      <td>153441.51</td>\n",
       "      <td>101145.55</td>\n",
       "      <td>407934.54</td>\n",
       "      <td>Florida</td>\n",
       "      <td>191050.39</td>\n",
       "    </tr>\n",
       "    <tr>\n",
       "      <th>3</th>\n",
       "      <td>144372.41</td>\n",
       "      <td>118671.85</td>\n",
       "      <td>383199.62</td>\n",
       "      <td>New York</td>\n",
       "      <td>182901.99</td>\n",
       "    </tr>\n",
       "    <tr>\n",
       "      <th>4</th>\n",
       "      <td>142107.34</td>\n",
       "      <td>91391.77</td>\n",
       "      <td>366168.42</td>\n",
       "      <td>Florida</td>\n",
       "      <td>166187.94</td>\n",
       "    </tr>\n",
       "  </tbody>\n",
       "</table>\n",
       "</div>"
      ],
      "text/plain": [
       "         RnD      Admin  Marketing       State     Profit\n",
       "0  165349.20  136897.80  471784.10    New York  192261.83\n",
       "1  162597.70  151377.59  443898.53  California  191792.06\n",
       "2  153441.51  101145.55  407934.54     Florida  191050.39\n",
       "3  144372.41  118671.85  383199.62    New York  182901.99\n",
       "4  142107.34   91391.77  366168.42     Florida  166187.94"
      ]
     },
     "execution_count": 3,
     "metadata": {},
     "output_type": "execute_result"
    }
   ],
   "source": [
    "start.rename(columns={\"R&D Spend\":\"RnD\",\"Administration\":\"Admin\",\"Marketing Spend\":\"Marketing\"}, inplace=True)\n",
    "start.head()"
   ]
  },
  {
   "cell_type": "code",
   "execution_count": 4,
   "id": "6d325100",
   "metadata": {},
   "outputs": [
    {
     "data": {
      "text/plain": [
       "(50, 5)"
      ]
     },
     "execution_count": 4,
     "metadata": {},
     "output_type": "execute_result"
    }
   ],
   "source": [
    "start.shape"
   ]
  },
  {
   "cell_type": "code",
   "execution_count": 5,
   "id": "dc1cd1fa",
   "metadata": {},
   "outputs": [
    {
     "data": {
      "text/plain": [
       "RnD          0\n",
       "Admin        0\n",
       "Marketing    0\n",
       "State        0\n",
       "Profit       0\n",
       "dtype: int64"
      ]
     },
     "execution_count": 5,
     "metadata": {},
     "output_type": "execute_result"
    }
   ],
   "source": [
    "start.isna().sum()"
   ]
  },
  {
   "cell_type": "code",
   "execution_count": 6,
   "id": "8fd3df52",
   "metadata": {},
   "outputs": [
    {
     "name": "stdout",
     "output_type": "stream",
     "text": [
      "<class 'pandas.core.frame.DataFrame'>\n",
      "RangeIndex: 50 entries, 0 to 49\n",
      "Data columns (total 5 columns):\n",
      " #   Column     Non-Null Count  Dtype  \n",
      "---  ------     --------------  -----  \n",
      " 0   RnD        50 non-null     float64\n",
      " 1   Admin      50 non-null     float64\n",
      " 2   Marketing  50 non-null     float64\n",
      " 3   State      50 non-null     object \n",
      " 4   Profit     50 non-null     float64\n",
      "dtypes: float64(4), object(1)\n",
      "memory usage: 2.1+ KB\n"
     ]
    }
   ],
   "source": [
    "start.info()"
   ]
  },
  {
   "cell_type": "code",
   "execution_count": 7,
   "id": "1627c1b7",
   "metadata": {},
   "outputs": [
    {
     "data": {
      "text/html": [
       "<div>\n",
       "<style scoped>\n",
       "    .dataframe tbody tr th:only-of-type {\n",
       "        vertical-align: middle;\n",
       "    }\n",
       "\n",
       "    .dataframe tbody tr th {\n",
       "        vertical-align: top;\n",
       "    }\n",
       "\n",
       "    .dataframe thead th {\n",
       "        text-align: right;\n",
       "    }\n",
       "</style>\n",
       "<table border=\"1\" class=\"dataframe\">\n",
       "  <thead>\n",
       "    <tr style=\"text-align: right;\">\n",
       "      <th></th>\n",
       "      <th>RnD</th>\n",
       "      <th>Admin</th>\n",
       "      <th>Marketing</th>\n",
       "      <th>State</th>\n",
       "      <th>Profit</th>\n",
       "    </tr>\n",
       "  </thead>\n",
       "  <tbody>\n",
       "  </tbody>\n",
       "</table>\n",
       "</div>"
      ],
      "text/plain": [
       "Empty DataFrame\n",
       "Columns: [RnD, Admin, Marketing, State, Profit]\n",
       "Index: []"
      ]
     },
     "execution_count": 7,
     "metadata": {},
     "output_type": "execute_result"
    }
   ],
   "source": [
    "#looking for duplicates\n",
    "start[start.duplicated()]"
   ]
  },
  {
   "cell_type": "code",
   "execution_count": 8,
   "id": "2f1e2018",
   "metadata": {},
   "outputs": [
    {
     "data": {
      "text/html": [
       "<div>\n",
       "<style scoped>\n",
       "    .dataframe tbody tr th:only-of-type {\n",
       "        vertical-align: middle;\n",
       "    }\n",
       "\n",
       "    .dataframe tbody tr th {\n",
       "        vertical-align: top;\n",
       "    }\n",
       "\n",
       "    .dataframe thead th {\n",
       "        text-align: right;\n",
       "    }\n",
       "</style>\n",
       "<table border=\"1\" class=\"dataframe\">\n",
       "  <thead>\n",
       "    <tr style=\"text-align: right;\">\n",
       "      <th></th>\n",
       "      <th>RnD</th>\n",
       "      <th>Admin</th>\n",
       "      <th>Marketing</th>\n",
       "      <th>Profit</th>\n",
       "    </tr>\n",
       "  </thead>\n",
       "  <tbody>\n",
       "    <tr>\n",
       "      <th>0</th>\n",
       "      <td>165349.20</td>\n",
       "      <td>136897.80</td>\n",
       "      <td>471784.10</td>\n",
       "      <td>192261.83</td>\n",
       "    </tr>\n",
       "    <tr>\n",
       "      <th>1</th>\n",
       "      <td>162597.70</td>\n",
       "      <td>151377.59</td>\n",
       "      <td>443898.53</td>\n",
       "      <td>191792.06</td>\n",
       "    </tr>\n",
       "    <tr>\n",
       "      <th>2</th>\n",
       "      <td>153441.51</td>\n",
       "      <td>101145.55</td>\n",
       "      <td>407934.54</td>\n",
       "      <td>191050.39</td>\n",
       "    </tr>\n",
       "    <tr>\n",
       "      <th>3</th>\n",
       "      <td>144372.41</td>\n",
       "      <td>118671.85</td>\n",
       "      <td>383199.62</td>\n",
       "      <td>182901.99</td>\n",
       "    </tr>\n",
       "    <tr>\n",
       "      <th>4</th>\n",
       "      <td>142107.34</td>\n",
       "      <td>91391.77</td>\n",
       "      <td>366168.42</td>\n",
       "      <td>166187.94</td>\n",
       "    </tr>\n",
       "  </tbody>\n",
       "</table>\n",
       "</div>"
      ],
      "text/plain": [
       "         RnD      Admin  Marketing     Profit\n",
       "0  165349.20  136897.80  471784.10  192261.83\n",
       "1  162597.70  151377.59  443898.53  191792.06\n",
       "2  153441.51  101145.55  407934.54  191050.39\n",
       "3  144372.41  118671.85  383199.62  182901.99\n",
       "4  142107.34   91391.77  366168.42  166187.94"
      ]
     },
     "execution_count": 8,
     "metadata": {},
     "output_type": "execute_result"
    }
   ],
   "source": [
    "#Droping 'State' Column as it is will not contribute to predict\n",
    "start = start.drop([\"State\"], axis = 1)\n",
    "start.head()"
   ]
  },
  {
   "cell_type": "code",
   "execution_count": 9,
   "id": "26291b28",
   "metadata": {
    "scrolled": true
   },
   "outputs": [
    {
     "data": {
      "text/html": [
       "<div>\n",
       "<style scoped>\n",
       "    .dataframe tbody tr th:only-of-type {\n",
       "        vertical-align: middle;\n",
       "    }\n",
       "\n",
       "    .dataframe tbody tr th {\n",
       "        vertical-align: top;\n",
       "    }\n",
       "\n",
       "    .dataframe thead th {\n",
       "        text-align: right;\n",
       "    }\n",
       "</style>\n",
       "<table border=\"1\" class=\"dataframe\">\n",
       "  <thead>\n",
       "    <tr style=\"text-align: right;\">\n",
       "      <th></th>\n",
       "      <th>RnD</th>\n",
       "      <th>Admin</th>\n",
       "      <th>Marketing</th>\n",
       "      <th>Profit</th>\n",
       "    </tr>\n",
       "  </thead>\n",
       "  <tbody>\n",
       "    <tr>\n",
       "      <th>RnD</th>\n",
       "      <td>1.000000</td>\n",
       "      <td>0.241955</td>\n",
       "      <td>0.724248</td>\n",
       "      <td>0.972900</td>\n",
       "    </tr>\n",
       "    <tr>\n",
       "      <th>Admin</th>\n",
       "      <td>0.241955</td>\n",
       "      <td>1.000000</td>\n",
       "      <td>-0.032154</td>\n",
       "      <td>0.200717</td>\n",
       "    </tr>\n",
       "    <tr>\n",
       "      <th>Marketing</th>\n",
       "      <td>0.724248</td>\n",
       "      <td>-0.032154</td>\n",
       "      <td>1.000000</td>\n",
       "      <td>0.747766</td>\n",
       "    </tr>\n",
       "    <tr>\n",
       "      <th>Profit</th>\n",
       "      <td>0.972900</td>\n",
       "      <td>0.200717</td>\n",
       "      <td>0.747766</td>\n",
       "      <td>1.000000</td>\n",
       "    </tr>\n",
       "  </tbody>\n",
       "</table>\n",
       "</div>"
      ],
      "text/plain": [
       "                RnD     Admin  Marketing    Profit\n",
       "RnD        1.000000  0.241955   0.724248  0.972900\n",
       "Admin      0.241955  1.000000  -0.032154  0.200717\n",
       "Marketing  0.724248 -0.032154   1.000000  0.747766\n",
       "Profit     0.972900  0.200717   0.747766  1.000000"
      ]
     },
     "execution_count": 9,
     "metadata": {},
     "output_type": "execute_result"
    }
   ],
   "source": [
    "start.corr()"
   ]
  },
  {
   "cell_type": "code",
   "execution_count": 10,
   "id": "13283cd8",
   "metadata": {},
   "outputs": [
    {
     "data": {
      "image/png": "[encoded data removed]",
      "text/plain": [
       "<Figure size 864x432 with 20 Axes>"
      ]
     },
     "metadata": {},
     "output_type": "display_data"
    }
   ],
   "source": [
    "sns.set_style(style='darkgrid')\n",
    "sns.pairplot(start,height=1.5,aspect=2);"
   ]
  },
  {
   "cell_type": "markdown",
   "id": "19ec6e42",
   "metadata": {},
   "source": [
    "### Preparing a Model"
   ]
  },
  {
   "cell_type": "code",
   "execution_count": 11,
   "id": "15e5760d",
   "metadata": {},
   "outputs": [],
   "source": [
    "#built model\n",
    "model=smf.ols(\"Profit~RnD+Admin+Marketing\",data=start).fit()"
   ]
  },
  {
   "cell_type": "code",
   "execution_count": 12,
   "id": "c71683b9",
   "metadata": {},
   "outputs": [
    {
     "data": {
      "text/plain": [
       "Intercept    50122.192990\n",
       "RnD              0.805715\n",
       "Admin           -0.026816\n",
       "Marketing        0.027228\n",
       "dtype: float64"
      ]
     },
     "execution_count": 12,
     "metadata": {},
     "output_type": "execute_result"
    }
   ],
   "source": [
    "#Coefficients\n",
    "model.params"
   ]
  },
  {
   "cell_type": "code",
   "execution_count": 13,
   "id": "abdf9f76",
   "metadata": {},
   "outputs": [
    {
     "name": "stdout",
     "output_type": "stream",
     "text": [
      "T_values is:  \n",
      " Intercept     7.626218\n",
      "RnD          17.846374\n",
      "Admin        -0.525507\n",
      "Marketing     1.655077\n",
      "dtype: float64 \n",
      " P_values is:  \n",
      " Intercept    1.057379e-09\n",
      "RnD          2.634968e-22\n",
      "Admin        6.017551e-01\n",
      "Marketing    1.047168e-01\n",
      "dtype: float64\n"
     ]
    }
   ],
   "source": [
    "#t and p-Values\n",
    "print(\"T_values is: \",\"\\n\",model.tvalues,\"\\n\",\"P_values is: \",'\\n', model.pvalues)"
   ]
  },
  {
   "cell_type": "markdown",
   "id": "7e7410b1",
   "metadata": {},
   "source": [
    "Hypothesis Testing for variable contribution-                                                                 \n",
    "**Assumptions & Test**                                                                                                         \n",
    "assuming the significance level is 5% and confidence level 95%                                                           \n",
    "∴ **α** = 5/100=0.05                                         \n",
    "Null Hypothesis(**h0**)         -> **ß1=0**,i.e. Variable is **Dependent** and contributing.                                   \n",
    "Alternate Hypothesis(**h1**) -> **ß1≠0**,i.e. Variable is **Independent** and not contributing.                                 "
   ]
  },
  {
   "cell_type": "code",
   "execution_count": 14,
   "id": "65e637af",
   "metadata": {},
   "outputs": [
    {
     "data": {
      "text/plain": [
       "Intercept     True\n",
       "RnD           True\n",
       "Admin        False\n",
       "Marketing    False\n",
       "dtype: bool"
      ]
     },
     "execution_count": 14,
     "metadata": {},
     "output_type": "execute_result"
    }
   ],
   "source": [
    "α=0.05\n",
    "model.pvalues<α"
   ]
  },
  {
   "cell_type": "markdown",
   "id": "3abf8c29",
   "metadata": {},
   "source": [
    "Here the p values for Admin and Marketing are greater than alpha value i.e **p>α**                                             \n",
    "**Which means we fail to reject the Null Hypothesis(h0) and reject the alternate Hypothesis(h1)**                         \n",
    "**∴ This proves that Admin and Marketing is zero and is Dependent.**                                         \n",
    "**But First we try Collinearity**"
   ]
  },
  {
   "cell_type": "markdown",
   "id": "7a434384",
   "metadata": {},
   "source": [
    "### Simple Linear Regression Models"
   ]
  },
  {
   "cell_type": "code",
   "execution_count": 15,
   "id": "1a0cd975",
   "metadata": {},
   "outputs": [
    {
     "name": "stdout",
     "output_type": "stream",
     "text": [
      "Intercept    3.040044\n",
      "Admin        1.419493\n",
      "dtype: float64 \n",
      " \n",
      " Intercept    0.003824\n",
      "Admin        0.162217\n",
      "dtype: float64\n"
     ]
    }
   ],
   "source": [
    "# to check SLR on insignificant variable individually and together\n",
    "ml_admin=smf.ols('Profit~Admin',data =start).fit()  \n",
    "#t and p-Values\n",
    "print(ml_admin.tvalues,'\\n','\\n',ml_admin.pvalues)  "
   ]
  },
  {
   "cell_type": "code",
   "execution_count": 16,
   "id": "22e1aff0",
   "metadata": {},
   "outputs": [
    {
     "name": "stdout",
     "output_type": "stream",
     "text": [
      "Intercept    7.808356\n",
      "Marketing    7.802657\n",
      "dtype: float64 \n",
      " \n",
      " Intercept    4.294735e-10\n",
      "Marketing    4.381073e-10\n",
      "dtype: float64\n"
     ]
    }
   ],
   "source": [
    "ml_market=smf.ols('Profit~Marketing',data =start).fit()  \n",
    "#t and p-Values\n",
    "print(ml_market.tvalues,'\\n','\\n',ml_market.pvalues)  "
   ]
  },
  {
   "cell_type": "code",
   "execution_count": 17,
   "id": "2e1145f6",
   "metadata": {},
   "outputs": [
    {
     "name": "stdout",
     "output_type": "stream",
     "text": [
      "Intercept    1.142741\n",
      "Admin        2.467779\n",
      "Marketing    8.281039\n",
      "dtype: float64 \n",
      " \n",
      " Intercept    2.589341e-01\n",
      "Admin        1.729198e-02\n",
      "Marketing    9.727245e-11\n",
      "dtype: float64\n"
     ]
    }
   ],
   "source": [
    "ml_am=smf.ols('Profit~Admin+Marketing',data =start).fit()  \n",
    "#t and p-Values\n",
    "print(ml_am.tvalues,'\\n','\\n',ml_am.pvalues)  "
   ]
  },
  {
   "cell_type": "markdown",
   "id": "5cec5d95",
   "metadata": {},
   "source": [
    "### Model Accuracy Metrics"
   ]
  },
  {
   "cell_type": "code",
   "execution_count": 18,
   "id": "e2c51778",
   "metadata": {},
   "outputs": [
    {
     "data": {
      "text/plain": [
       "(0.9507459940683246, 0.9475337762901719, 1058.7714985998055)"
      ]
     },
     "execution_count": 18,
     "metadata": {},
     "output_type": "execute_result"
    }
   ],
   "source": [
    "acc_1=model.rsquared,model.rsquared_adj,model.aic\n",
    "acc_1"
   ]
  },
  {
   "cell_type": "code",
   "execution_count": 19,
   "id": "d672aaa1",
   "metadata": {},
   "outputs": [
    {
     "data": {
      "text/html": [
       "<div>\n",
       "<style scoped>\n",
       "    .dataframe tbody tr th:only-of-type {\n",
       "        vertical-align: middle;\n",
       "    }\n",
       "\n",
       "    .dataframe tbody tr th {\n",
       "        vertical-align: top;\n",
       "    }\n",
       "\n",
       "    .dataframe thead th {\n",
       "        text-align: right;\n",
       "    }\n",
       "</style>\n",
       "<table border=\"1\" class=\"dataframe\">\n",
       "  <thead>\n",
       "    <tr style=\"text-align: right;\">\n",
       "      <th></th>\n",
       "      <th>RnD</th>\n",
       "      <th>Admin</th>\n",
       "      <th>Marketing</th>\n",
       "      <th>Profit</th>\n",
       "    </tr>\n",
       "  </thead>\n",
       "  <tbody>\n",
       "    <tr>\n",
       "      <th>0</th>\n",
       "      <td>165349.2</td>\n",
       "      <td>136897.8</td>\n",
       "      <td>471784.1</td>\n",
       "      <td>192261.83</td>\n",
       "    </tr>\n",
       "  </tbody>\n",
       "</table>\n",
       "</div>"
      ],
      "text/plain": [
       "        RnD     Admin  Marketing     Profit\n",
       "0  165349.2  136897.8   471784.1  192261.83"
      ]
     },
     "execution_count": 19,
     "metadata": {},
     "output_type": "execute_result"
    }
   ],
   "source": [
    "start.head(1)"
   ]
  },
  {
   "cell_type": "markdown",
   "id": "f69dd5e0",
   "metadata": {},
   "source": [
    "### Collinearity"
   ]
  },
  {
   "cell_type": "code",
   "execution_count": 20,
   "id": "d76f5455",
   "metadata": {},
   "outputs": [
    {
     "data": {
      "text/html": [
       "<div>\n",
       "<style scoped>\n",
       "    .dataframe tbody tr th:only-of-type {\n",
       "        vertical-align: middle;\n",
       "    }\n",
       "\n",
       "    .dataframe tbody tr th {\n",
       "        vertical-align: top;\n",
       "    }\n",
       "\n",
       "    .dataframe thead th {\n",
       "        text-align: right;\n",
       "    }\n",
       "</style>\n",
       "<table border=\"1\" class=\"dataframe\">\n",
       "  <thead>\n",
       "    <tr style=\"text-align: right;\">\n",
       "      <th></th>\n",
       "      <th>Variables</th>\n",
       "      <th>VIF</th>\n",
       "    </tr>\n",
       "  </thead>\n",
       "  <tbody>\n",
       "    <tr>\n",
       "      <th>0</th>\n",
       "      <td>RnD</td>\n",
       "      <td>2.468903</td>\n",
       "    </tr>\n",
       "    <tr>\n",
       "      <th>1</th>\n",
       "      <td>Admin</td>\n",
       "      <td>1.175091</td>\n",
       "    </tr>\n",
       "    <tr>\n",
       "      <th>2</th>\n",
       "      <td>Marketing</td>\n",
       "      <td>2.326773</td>\n",
       "    </tr>\n",
       "  </tbody>\n",
       "</table>\n",
       "</div>"
      ],
      "text/plain": [
       "   Variables       VIF\n",
       "0        RnD  2.468903\n",
       "1      Admin  1.175091\n",
       "2  Marketing  2.326773"
      ]
     },
     "execution_count": 20,
     "metadata": {},
     "output_type": "execute_result"
    }
   ],
   "source": [
    "rsq_RnD = smf.ols('RnD~Admin+Marketing',data=start).fit().rsquared  \n",
    "vif_RnD = 1/(1-rsq_RnD)\n",
    "\n",
    "rsq_Admin = smf.ols('Admin~RnD+Marketing',data=start).fit().rsquared  \n",
    "vif_Admin = 1/(1-rsq_Admin)\n",
    "\n",
    "rsq_Marketing = smf.ols('Marketing~RnD+Admin',data=start).fit().rsquared  \n",
    "vif_Marketing = 1/(1-rsq_Marketing)\n",
    "\n",
    "df = {'Variables':[\"RnD\",\"Admin\",\"Marketing\"],'VIF':[vif_RnD,vif_Admin,vif_Marketing]}\n",
    "Vif_frame = pd.DataFrame(df)  \n",
    "Vif_frame"
   ]
  },
  {
   "cell_type": "markdown",
   "id": "b971474a",
   "metadata": {},
   "source": [
    "VIF below 10 is acceptable so there is no collinearity"
   ]
  },
  {
   "cell_type": "markdown",
   "id": "7e6d56d2",
   "metadata": {},
   "source": [
    "### Model Validation Techniques\n",
    "### Residual Analysis\n",
    "#### 1.Test for Normality of Residuals (Q-Q Plot)"
   ]
  },
  {
   "cell_type": "code",
   "execution_count": 21,
   "id": "140f6543",
   "metadata": {},
   "outputs": [
    {
     "data": {
      "image/png": "[encoded data removed]",
      "text/plain": [
       "<Figure size 1440x432 with 1 Axes>"
      ]
     },
     "metadata": {},
     "output_type": "display_data"
    }
   ],
   "source": [
    "#to plot the errors on line ,line=q means to create a ols best line as per quartiles \n",
    "fig, ax = plt.subplots(figsize=(20,6))\n",
    "qqplot=sm.qqplot(model.resid,line='q',ax=ax) \n",
    "plt.title(\"Normal Q-Q plot of residuals\")\n",
    "plt.show();"
   ]
  },
  {
   "cell_type": "code",
   "execution_count": 22,
   "id": "57eaf0e6",
   "metadata": {},
   "outputs": [
    {
     "data": {
      "text/plain": [
       "([array([10, 12, 16, 36, 38, 45], dtype=int64)],\n",
       " [array([14, 15, 48, 49], dtype=int64)])"
      ]
     },
     "execution_count": 22,
     "metadata": {},
     "output_type": "execute_result"
    }
   ],
   "source": [
    "#to check the outlayer value it will return observations\n",
    "list(np.where(model.resid>10000)),list(np.where(model.resid<-10000))"
   ]
  },
  {
   "cell_type": "markdown",
   "id": "5c01c7d2",
   "metadata": {},
   "source": [
    "#### 2.Residual Plot for Homoscedasticity(Fitted Vs Residuals) (Y^ Vs ei)"
   ]
  },
  {
   "cell_type": "code",
   "execution_count": 23,
   "id": "f1b699c6",
   "metadata": {},
   "outputs": [],
   "source": [
    "# to standardize the value for plotting by creating a std function\n",
    "def get_standardized_values( vals ):\n",
    "    return (vals - vals.mean())/vals.std()"
   ]
  },
  {
   "cell_type": "code",
   "execution_count": 24,
   "id": "2d1a457d",
   "metadata": {},
   "outputs": [
    {
     "data": {
      "image/png": "[encoded data removed]",
      "text/plain": [
       "<Figure size 1440x360 with 1 Axes>"
      ]
     },
     "metadata": {},
     "output_type": "display_data"
    }
   ],
   "source": [
    "fig = plt.figure(figsize=(20,5))\n",
    "plt.scatter(get_standardized_values(model.fittedvalues),\n",
    "            get_standardized_values(model.resid))\n",
    "\n",
    "plt.title('Residual Plot')\n",
    "plt.xlabel('Standardized Fitted values')\n",
    "plt.ylabel('Standardized residual values')\n",
    "plt.show();"
   ]
  },
  {
   "cell_type": "markdown",
   "id": "314aa9d0",
   "metadata": {},
   "source": [
    "NO patterns are visible.\n",
    "#### 3.Residual Vs Regressors (xi Vs ei)\n",
    " plotting for each variable"
   ]
  },
  {
   "cell_type": "code",
   "execution_count": 25,
   "id": "a68edaa6",
   "metadata": {},
   "outputs": [
    {
     "name": "stdout",
     "output_type": "stream",
     "text": [
      "eval_env: 1\n"
     ]
    },
    {
     "data": {
      "image/png": "[encoded data removed]",
      "text/plain": [
       "<Figure size 1080x432 with 4 Axes>"
      ]
     },
     "metadata": {},
     "output_type": "display_data"
    }
   ],
   "source": [
    "#for RnD\n",
    "fig_vol = plt.figure(figsize=(15,6))\n",
    "fig = sm.graphics.plot_regress_exog(model,\"RnD\", fig=fig_vol)\n",
    "plt.show();"
   ]
  },
  {
   "cell_type": "code",
   "execution_count": 26,
   "id": "723b0209",
   "metadata": {},
   "outputs": [
    {
     "name": "stdout",
     "output_type": "stream",
     "text": [
      "eval_env: 1\n"
     ]
    },
    {
     "data": {
      "image/png": "[encoded data removed]",
      "text/plain": [
       "<Figure size 1080x432 with 4 Axes>"
      ]
     },
     "metadata": {},
     "output_type": "display_data"
    }
   ],
   "source": [
    "#for Admin\n",
    "fig_vol = plt.figure(figsize=(15,6))\n",
    "fig = sm.graphics.plot_regress_exog(model,\"Admin\", fig=fig_vol)\n",
    "plt.show();"
   ]
  },
  {
   "cell_type": "code",
   "execution_count": 27,
   "id": "e4daba12",
   "metadata": {},
   "outputs": [
    {
     "name": "stdout",
     "output_type": "stream",
     "text": [
      "eval_env: 1\n"
     ]
    },
    {
     "data": {
      "image/png": "[encoded data removed]",
      "text/plain": [
       "<Figure size 1080x432 with 4 Axes>"
      ]
     },
     "metadata": {},
     "output_type": "display_data"
    }
   ],
   "source": [
    "#for Marketing\n",
    "fig_vol = plt.figure(figsize=(15,6))\n",
    "fig = sm.graphics.plot_regress_exog(model,\"Marketing\", fig=fig_vol)\n",
    "plt.show();"
   ]
  },
  {
   "cell_type": "markdown",
   "id": "dbce261c",
   "metadata": {},
   "source": [
    "No patterns are visible so all variables are significant.\n",
    "### Model Deletion Diagnostics\n",
    "Detecting outliers\n",
    "#### 1.Cook's Distance"
   ]
  },
  {
   "cell_type": "code",
   "execution_count": 28,
   "id": "dbc66ac8",
   "metadata": {},
   "outputs": [],
   "source": [
    "model_influence = model.get_influence()\n",
    "(c, _) = model_influence.cooks_distance"
   ]
  },
  {
   "cell_type": "code",
   "execution_count": 29,
   "id": "0ee9f716",
   "metadata": {},
   "outputs": [
    {
     "data": {
      "image/png": "[encoded data removed]",
      "text/plain": [
       "<Figure size 1440x360 with 1 Axes>"
      ]
     },
     "metadata": {},
     "output_type": "display_data"
    }
   ],
   "source": [
    "fig = plt.subplots(figsize=(20, 5))\n",
    "plt.stem(np.arange(len(start)), np.round(c, 3))\n",
    "plt.xlabel('Row index')\n",
    "plt.ylabel('Cooks Distance')\n",
    "plt.show()"
   ]
  },
  {
   "cell_type": "code",
   "execution_count": 30,
   "id": "49fac750",
   "metadata": {},
   "outputs": [
    {
     "data": {
      "text/plain": [
       "(49, 0.28808229275432634)"
      ]
     },
     "execution_count": 30,
     "metadata": {},
     "output_type": "execute_result"
    }
   ],
   "source": [
    "#index and value of influencer where c is max\n",
    "(np.argmax(c),np.max(c))"
   ]
  },
  {
   "cell_type": "markdown",
   "id": "c35e687b",
   "metadata": {},
   "source": [
    "Data point with Cook's Distance above 0.5 is highly influencing."
   ]
  },
  {
   "cell_type": "markdown",
   "id": "d3045385",
   "metadata": {},
   "source": [
    "#### 2.High Influence Points-Hat Points"
   ]
  },
  {
   "cell_type": "code",
   "execution_count": 31,
   "id": "b569996f",
   "metadata": {},
   "outputs": [
    {
     "data": {
      "image/png": "[encoded data removed]",
      "text/plain": [
       "<Figure size 1440x360 with 1 Axes>"
      ]
     },
     "metadata": {},
     "output_type": "display_data"
    }
   ],
   "source": [
    "fig, ax = plt.subplots(figsize=(20,5))\n",
    "influence_plot(model,ax=ax)\n",
    "plt.show();"
   ]
  },
  {
   "cell_type": "code",
   "execution_count": 32,
   "id": "e2262b01",
   "metadata": {},
   "outputs": [
    {
     "data": {
      "text/plain": [
       "0.30000000000000004"
      ]
     },
     "execution_count": 32,
     "metadata": {},
     "output_type": "execute_result"
    }
   ],
   "source": [
    "#to set a leverge \n",
    "k = start.shape[1] # k-columns\n",
    "n = start.shape[0]  # n-obs/rows\n",
    "leverage_cutoff = 3*((k + 1)/n)\n",
    "leverage_cutoff "
   ]
  },
  {
   "cell_type": "markdown",
   "id": "87acbff1",
   "metadata": {},
   "source": [
    "Data point with leverage above 0.05 are influencing.                                             \n",
    "From the above plot, it is evident that data point 19,45,46,48 and 49 are the influencers."
   ]
  },
  {
   "cell_type": "code",
   "execution_count": 33,
   "id": "5152959c",
   "metadata": {},
   "outputs": [
    {
     "data": {
      "text/html": [
       "<div>\n",
       "<style scoped>\n",
       "    .dataframe tbody tr th:only-of-type {\n",
       "        vertical-align: middle;\n",
       "    }\n",
       "\n",
       "    .dataframe tbody tr th {\n",
       "        vertical-align: top;\n",
       "    }\n",
       "\n",
       "    .dataframe thead th {\n",
       "        text-align: right;\n",
       "    }\n",
       "</style>\n",
       "<table border=\"1\" class=\"dataframe\">\n",
       "  <thead>\n",
       "    <tr style=\"text-align: right;\">\n",
       "      <th></th>\n",
       "      <th>RnD</th>\n",
       "      <th>Admin</th>\n",
       "      <th>Marketing</th>\n",
       "      <th>Profit</th>\n",
       "    </tr>\n",
       "  </thead>\n",
       "  <tbody>\n",
       "    <tr>\n",
       "      <th>6</th>\n",
       "      <td>134615.46</td>\n",
       "      <td>147198.87</td>\n",
       "      <td>127716.82</td>\n",
       "      <td>156122.51</td>\n",
       "    </tr>\n",
       "    <tr>\n",
       "      <th>19</th>\n",
       "      <td>86419.70</td>\n",
       "      <td>153514.11</td>\n",
       "      <td>0.00</td>\n",
       "      <td>122776.86</td>\n",
       "    </tr>\n",
       "    <tr>\n",
       "      <th>45</th>\n",
       "      <td>1000.23</td>\n",
       "      <td>124153.04</td>\n",
       "      <td>1903.93</td>\n",
       "      <td>64926.08</td>\n",
       "    </tr>\n",
       "    <tr>\n",
       "      <th>46</th>\n",
       "      <td>1315.46</td>\n",
       "      <td>115816.21</td>\n",
       "      <td>297114.46</td>\n",
       "      <td>49490.75</td>\n",
       "    </tr>\n",
       "    <tr>\n",
       "      <th>48</th>\n",
       "      <td>542.05</td>\n",
       "      <td>51743.15</td>\n",
       "      <td>0.00</td>\n",
       "      <td>35673.41</td>\n",
       "    </tr>\n",
       "    <tr>\n",
       "      <th>49</th>\n",
       "      <td>0.00</td>\n",
       "      <td>116983.80</td>\n",
       "      <td>45173.06</td>\n",
       "      <td>14681.40</td>\n",
       "    </tr>\n",
       "  </tbody>\n",
       "</table>\n",
       "</div>"
      ],
      "text/plain": [
       "          RnD      Admin  Marketing     Profit\n",
       "6   134615.46  147198.87  127716.82  156122.51\n",
       "19   86419.70  153514.11       0.00  122776.86\n",
       "45    1000.23  124153.04    1903.93   64926.08\n",
       "46    1315.46  115816.21  297114.46   49490.75\n",
       "48     542.05   51743.15       0.00   35673.41\n",
       "49       0.00  116983.80   45173.06   14681.40"
      ]
     },
     "execution_count": 33,
     "metadata": {},
     "output_type": "execute_result"
    }
   ],
   "source": [
    "# to actually check the row values of outliers\n",
    "start[start.index.isin([6,19,45,46,48,49])]"
   ]
  },
  {
   "cell_type": "code",
   "execution_count": 34,
   "id": "a6d76a30",
   "metadata": {},
   "outputs": [
    {
     "data": {
      "text/html": [
       "<div>\n",
       "<style scoped>\n",
       "    .dataframe tbody tr th:only-of-type {\n",
       "        vertical-align: middle;\n",
       "    }\n",
       "\n",
       "    .dataframe tbody tr th {\n",
       "        vertical-align: top;\n",
       "    }\n",
       "\n",
       "    .dataframe thead th {\n",
       "        text-align: right;\n",
       "    }\n",
       "</style>\n",
       "<table border=\"1\" class=\"dataframe\">\n",
       "  <thead>\n",
       "    <tr style=\"text-align: right;\">\n",
       "      <th></th>\n",
       "      <th>RnD</th>\n",
       "      <th>Admin</th>\n",
       "      <th>Marketing</th>\n",
       "      <th>Profit</th>\n",
       "    </tr>\n",
       "  </thead>\n",
       "  <tbody>\n",
       "    <tr>\n",
       "      <th>0</th>\n",
       "      <td>165349.20</td>\n",
       "      <td>136897.80</td>\n",
       "      <td>471784.10</td>\n",
       "      <td>192261.83</td>\n",
       "    </tr>\n",
       "    <tr>\n",
       "      <th>1</th>\n",
       "      <td>162597.70</td>\n",
       "      <td>151377.59</td>\n",
       "      <td>443898.53</td>\n",
       "      <td>191792.06</td>\n",
       "    </tr>\n",
       "    <tr>\n",
       "      <th>2</th>\n",
       "      <td>153441.51</td>\n",
       "      <td>101145.55</td>\n",
       "      <td>407934.54</td>\n",
       "      <td>191050.39</td>\n",
       "    </tr>\n",
       "    <tr>\n",
       "      <th>3</th>\n",
       "      <td>144372.41</td>\n",
       "      <td>118671.85</td>\n",
       "      <td>383199.62</td>\n",
       "      <td>182901.99</td>\n",
       "    </tr>\n",
       "    <tr>\n",
       "      <th>4</th>\n",
       "      <td>142107.34</td>\n",
       "      <td>91391.77</td>\n",
       "      <td>366168.42</td>\n",
       "      <td>166187.94</td>\n",
       "    </tr>\n",
       "  </tbody>\n",
       "</table>\n",
       "</div>"
      ],
      "text/plain": [
       "         RnD      Admin  Marketing     Profit\n",
       "0  165349.20  136897.80  471784.10  192261.83\n",
       "1  162597.70  151377.59  443898.53  191792.06\n",
       "2  153441.51  101145.55  407934.54  191050.39\n",
       "3  144372.41  118671.85  383199.62  182901.99\n",
       "4  142107.34   91391.77  366168.42  166187.94"
      ]
     },
     "execution_count": 34,
     "metadata": {},
     "output_type": "execute_result"
    }
   ],
   "source": [
    "#to compare the outlier value with the other values\n",
    "start.head()"
   ]
  },
  {
   "cell_type": "markdown",
   "id": "0eed8e9f",
   "metadata": {},
   "source": [
    "the values can be compared and seen that it varies a lot so we delete the outliers and improve our model by building one.\n",
    "### Improving the model"
   ]
  },
  {
   "cell_type": "code",
   "execution_count": 35,
   "id": "976b7f6a",
   "metadata": {},
   "outputs": [],
   "source": [
    "#Deleting the outlier row[0] and reseting the cloumn index (reset_index())\n",
    "start_new=start.drop(start.index[[6,19,45,46,48,49]],axis=0).reset_index()"
   ]
  },
  {
   "cell_type": "code",
   "execution_count": 36,
   "id": "a58112cd",
   "metadata": {},
   "outputs": [],
   "source": [
    "#Drop the original index\n",
    "start_new=start_new.drop(['index'],axis=1)"
   ]
  },
  {
   "cell_type": "code",
   "execution_count": 37,
   "id": "bac9842c",
   "metadata": {},
   "outputs": [
    {
     "data": {
      "text/plain": [
       "((44, 4), (50, 4))"
      ]
     },
     "execution_count": 37,
     "metadata": {},
     "output_type": "execute_result"
    }
   ],
   "source": [
    "start_new.shape,start.shape"
   ]
  },
  {
   "cell_type": "code",
   "execution_count": 38,
   "id": "5c99a461",
   "metadata": {},
   "outputs": [],
   "source": [
    "#built new model\n",
    "model1=smf.ols(\"Profit~RnD+Admin+Marketing\",data=start_new).fit()"
   ]
  },
  {
   "cell_type": "code",
   "execution_count": 39,
   "id": "329bd457",
   "metadata": {},
   "outputs": [
    {
     "data": {
      "text/plain": [
       "(0.9629384741330514, 0.9601588596930303, 909.4651809080262)"
      ]
     },
     "execution_count": 39,
     "metadata": {},
     "output_type": "execute_result"
    }
   ],
   "source": [
    "#model1 accrucy\n",
    "acc_2=(model1.rsquared,model1.rsquared_adj,model1.aic)\n",
    "acc_2"
   ]
  },
  {
   "cell_type": "code",
   "execution_count": 40,
   "id": "14b8cffc",
   "metadata": {},
   "outputs": [
    {
     "data": {
      "text/plain": [
       "(True, True, True)"
      ]
     },
     "execution_count": 40,
     "metadata": {},
     "output_type": "execute_result"
    }
   ],
   "source": [
    "#to check if model is improved from before model\n",
    "acc_2[0]>acc_1[0],acc_2[1]>acc_1[1],acc_2[2]<acc_1[2]"
   ]
  },
  {
   "cell_type": "markdown",
   "id": "332a8822",
   "metadata": {},
   "source": [
    "**This proves the model is improved.                                                                \n",
    "Try cook's distance once again.**"
   ]
  },
  {
   "cell_type": "code",
   "execution_count": 41,
   "id": "bcb1c17f",
   "metadata": {},
   "outputs": [],
   "source": [
    "model_influence = model1.get_influence()\n",
    "(c, _) = model_influence.cooks_distance"
   ]
  },
  {
   "cell_type": "code",
   "execution_count": 42,
   "id": "d6a5ea4d",
   "metadata": {},
   "outputs": [
    {
     "data": {
      "image/png": "[encoded data removed]",
      "text/plain": [
       "<Figure size 1440x360 with 1 Axes>"
      ]
     },
     "metadata": {},
     "output_type": "display_data"
    }
   ],
   "source": [
    "fig = plt.subplots(figsize=(20, 5))\n",
    "plt.stem(np.arange(len(start_new)), np.round(c, 3))\n",
    "plt.xlabel('Row index')\n",
    "plt.ylabel('Cooks Distance')\n",
    "plt.show()"
   ]
  },
  {
   "cell_type": "code",
   "execution_count": 43,
   "id": "9a4be5db",
   "metadata": {},
   "outputs": [
    {
     "data": {
      "text/plain": [
       "(25, 0.14402390388307265)"
      ]
     },
     "execution_count": 43,
     "metadata": {},
     "output_type": "execute_result"
    }
   ],
   "source": [
    "#index and value of influencer where c is max\n",
    "(np.argmax(c),np.max(c))"
   ]
  },
  {
   "cell_type": "code",
   "execution_count": 44,
   "id": "f3af5b07",
   "metadata": {},
   "outputs": [
    {
     "data": {
      "text/html": [
       "<div>\n",
       "<style scoped>\n",
       "    .dataframe tbody tr th:only-of-type {\n",
       "        vertical-align: middle;\n",
       "    }\n",
       "\n",
       "    .dataframe tbody tr th {\n",
       "        vertical-align: top;\n",
       "    }\n",
       "\n",
       "    .dataframe thead th {\n",
       "        text-align: right;\n",
       "    }\n",
       "</style>\n",
       "<table border=\"1\" class=\"dataframe\">\n",
       "  <thead>\n",
       "    <tr style=\"text-align: right;\">\n",
       "      <th></th>\n",
       "      <th>RnD</th>\n",
       "      <th>Admin</th>\n",
       "      <th>Marketing</th>\n",
       "      <th>Profit</th>\n",
       "    </tr>\n",
       "  </thead>\n",
       "  <tbody>\n",
       "    <tr>\n",
       "      <th>25</th>\n",
       "      <td>72107.6</td>\n",
       "      <td>127864.55</td>\n",
       "      <td>353183.81</td>\n",
       "      <td>105008.31</td>\n",
       "    </tr>\n",
       "  </tbody>\n",
       "</table>\n",
       "</div>"
      ],
      "text/plain": [
       "        RnD      Admin  Marketing     Profit\n",
       "25  72107.6  127864.55  353183.81  105008.31"
      ]
     },
     "execution_count": 44,
     "metadata": {},
     "output_type": "execute_result"
    }
   ],
   "source": [
    "# to actually check the row values of outliers\n",
    "start_new[start_new.index.isin([25])]"
   ]
  },
  {
   "cell_type": "code",
   "execution_count": 45,
   "id": "fa8aa0fb",
   "metadata": {},
   "outputs": [],
   "source": [
    "#Deleting the outlier row[0] and reseting the cloumn index (reset_index())\n",
    "start_new1=start_new.drop(start_new.index[[25]],axis=0).reset_index()"
   ]
  },
  {
   "cell_type": "code",
   "execution_count": 46,
   "id": "3b94366f",
   "metadata": {},
   "outputs": [],
   "source": [
    "#Drop the original index\n",
    "start_new1=start_new1.drop(['index'],axis=1)"
   ]
  },
  {
   "cell_type": "code",
   "execution_count": 47,
   "id": "25bc31fb",
   "metadata": {},
   "outputs": [
    {
     "data": {
      "text/plain": [
       "((43, 4), (44, 4))"
      ]
     },
     "execution_count": 47,
     "metadata": {},
     "output_type": "execute_result"
    }
   ],
   "source": [
    "start_new1.shape,start_new.shape"
   ]
  },
  {
   "cell_type": "code",
   "execution_count": 48,
   "id": "40a90b76",
   "metadata": {},
   "outputs": [],
   "source": [
    "#built new model\n",
    "model2=smf.ols(\"Profit~RnD+Admin+Marketing\",data=start_new1).fit()"
   ]
  },
  {
   "cell_type": "code",
   "execution_count": 49,
   "id": "4e37243b",
   "metadata": {},
   "outputs": [
    {
     "data": {
      "text/plain": [
       "(0.9657544937524853, 0.9631202240411381, 886.4485541831048)"
      ]
     },
     "execution_count": 49,
     "metadata": {},
     "output_type": "execute_result"
    }
   ],
   "source": [
    "#model2 accrucy\n",
    "acc_3=(model2.rsquared,model2.rsquared_adj,model2.aic)\n",
    "acc_3"
   ]
  },
  {
   "cell_type": "code",
   "execution_count": 50,
   "id": "b0b92758",
   "metadata": {},
   "outputs": [
    {
     "data": {
      "text/plain": [
       "(True, True, True)"
      ]
     },
     "execution_count": 50,
     "metadata": {},
     "output_type": "execute_result"
    }
   ],
   "source": [
    "#to check if model is improved from before model\n",
    "acc_3[0]>acc_2[0],acc_3[1]>acc_2[1],acc_3[2]<acc_2[2]"
   ]
  },
  {
   "cell_type": "markdown",
   "id": "73a80d92",
   "metadata": {},
   "source": [
    "**This improves our model and we continue the process till we reach its peak**"
   ]
  },
  {
   "cell_type": "code",
   "execution_count": 51,
   "id": "4015e374",
   "metadata": {},
   "outputs": [],
   "source": [
    "model_influence = model2.get_influence()\n",
    "(c, _) = model_influence.cooks_distance"
   ]
  },
  {
   "cell_type": "code",
   "execution_count": 52,
   "id": "e7deea64",
   "metadata": {
    "scrolled": true
   },
   "outputs": [
    {
     "data": {
      "image/png": "[encoded data removed]",
      "text/plain": [
       "<Figure size 1440x360 with 1 Axes>"
      ]
     },
     "metadata": {},
     "output_type": "display_data"
    }
   ],
   "source": [
    "fig = plt.subplots(figsize=(20, 5))\n",
    "plt.stem(np.arange(len(start_new1)), np.round(c, 3))\n",
    "plt.xlabel('Row index')\n",
    "plt.ylabel('Cooks Distance')\n",
    "plt.show()"
   ]
  },
  {
   "cell_type": "code",
   "execution_count": 53,
   "id": "1c440848",
   "metadata": {},
   "outputs": [
    {
     "data": {
      "text/plain": [
       "(13, 0.1095205900262192)"
      ]
     },
     "execution_count": 53,
     "metadata": {},
     "output_type": "execute_result"
    }
   ],
   "source": [
    "#index and value of influencer where c is max\n",
    "(np.argmax(c),np.max(c))"
   ]
  },
  {
   "cell_type": "code",
   "execution_count": 54,
   "id": "cf227a12",
   "metadata": {},
   "outputs": [
    {
     "data": {
      "text/html": [
       "<div>\n",
       "<style scoped>\n",
       "    .dataframe tbody tr th:only-of-type {\n",
       "        vertical-align: middle;\n",
       "    }\n",
       "\n",
       "    .dataframe tbody tr th {\n",
       "        vertical-align: top;\n",
       "    }\n",
       "\n",
       "    .dataframe thead th {\n",
       "        text-align: right;\n",
       "    }\n",
       "</style>\n",
       "<table border=\"1\" class=\"dataframe\">\n",
       "  <thead>\n",
       "    <tr style=\"text-align: right;\">\n",
       "      <th></th>\n",
       "      <th>RnD</th>\n",
       "      <th>Admin</th>\n",
       "      <th>Marketing</th>\n",
       "      <th>Profit</th>\n",
       "    </tr>\n",
       "  </thead>\n",
       "  <tbody>\n",
       "    <tr>\n",
       "      <th>13</th>\n",
       "      <td>119943.24</td>\n",
       "      <td>156547.42</td>\n",
       "      <td>256512.92</td>\n",
       "      <td>132602.65</td>\n",
       "    </tr>\n",
       "  </tbody>\n",
       "</table>\n",
       "</div>"
      ],
      "text/plain": [
       "          RnD      Admin  Marketing     Profit\n",
       "13  119943.24  156547.42  256512.92  132602.65"
      ]
     },
     "execution_count": 54,
     "metadata": {},
     "output_type": "execute_result"
    }
   ],
   "source": [
    "# to actually check the row values of outliers\n",
    "start_new1[start_new1.index.isin([13])]"
   ]
  },
  {
   "cell_type": "code",
   "execution_count": 55,
   "id": "95acd41d",
   "metadata": {},
   "outputs": [],
   "source": [
    "#Deleting the outlier row[0] and reseting the cloumn index (reset_index())\n",
    "start_new2=start_new1.drop(start_new1.index[[13]],axis=0).reset_index()"
   ]
  },
  {
   "cell_type": "code",
   "execution_count": 56,
   "id": "8d983247",
   "metadata": {},
   "outputs": [],
   "source": [
    "#Drop the original index\n",
    "start_new2=start_new2.drop(['index'],axis=1)"
   ]
  },
  {
   "cell_type": "code",
   "execution_count": 57,
   "id": "627dc3a7",
   "metadata": {},
   "outputs": [
    {
     "data": {
      "text/plain": [
       "((42, 4), (43, 4))"
      ]
     },
     "execution_count": 57,
     "metadata": {},
     "output_type": "execute_result"
    }
   ],
   "source": [
    "start_new2.shape,start_new1.shape"
   ]
  },
  {
   "cell_type": "code",
   "execution_count": 58,
   "id": "7050dc00",
   "metadata": {},
   "outputs": [],
   "source": [
    "#built new model\n",
    "model3=smf.ols(\"Profit~RnD+Admin+Marketing\",data=start_new2).fit()"
   ]
  },
  {
   "cell_type": "code",
   "execution_count": 59,
   "id": "64d9f976",
   "metadata": {},
   "outputs": [
    {
     "data": {
      "text/plain": [
       "(0.9698921294896853, 0.9675151923441341, 861.419779267338)"
      ]
     },
     "execution_count": 59,
     "metadata": {},
     "output_type": "execute_result"
    }
   ],
   "source": [
    "#model2 accrucy\n",
    "acc_4=(model3.rsquared,model3.rsquared_adj,model3.aic)\n",
    "acc_4"
   ]
  },
  {
   "cell_type": "code",
   "execution_count": 60,
   "id": "a1433095",
   "metadata": {},
   "outputs": [
    {
     "data": {
      "text/plain": [
       "(True, True, True)"
      ]
     },
     "execution_count": 60,
     "metadata": {},
     "output_type": "execute_result"
    }
   ],
   "source": [
    "#to check if model is improved from before model\n",
    "acc_4[0]>acc_3[0],acc_4[1]>acc_3[1],acc_4[2]<acc_3[2]"
   ]
  },
  {
   "cell_type": "code",
   "execution_count": 61,
   "id": "0796f165",
   "metadata": {},
   "outputs": [],
   "source": [
    "model_influence = model3.get_influence()\n",
    "(c, _) = model_influence.cooks_distance"
   ]
  },
  {
   "cell_type": "code",
   "execution_count": 62,
   "id": "5c971de0",
   "metadata": {},
   "outputs": [
    {
     "data": {
      "image/png": "[encoded data removed]",
      "text/plain": [
       "<Figure size 1440x360 with 1 Axes>"
      ]
     },
     "metadata": {},
     "output_type": "display_data"
    }
   ],
   "source": [
    "fig = plt.subplots(figsize=(20, 5))\n",
    "plt.stem(np.arange(len(start_new2)), np.round(c, 3))\n",
    "plt.xlabel('Row index')\n",
    "plt.ylabel('Cooks Distance')\n",
    "plt.show()"
   ]
  },
  {
   "cell_type": "code",
   "execution_count": 63,
   "id": "1017cffe",
   "metadata": {},
   "outputs": [
    {
     "data": {
      "text/plain": [
       "(32, 0.1121462319873992)"
      ]
     },
     "execution_count": 63,
     "metadata": {},
     "output_type": "execute_result"
    }
   ],
   "source": [
    "#index and value of influencer where c is max\n",
    "(np.argmax(c),np.max(c))"
   ]
  },
  {
   "cell_type": "code",
   "execution_count": 64,
   "id": "74796d0e",
   "metadata": {},
   "outputs": [
    {
     "data": {
      "text/html": [
       "<div>\n",
       "<style scoped>\n",
       "    .dataframe tbody tr th:only-of-type {\n",
       "        vertical-align: middle;\n",
       "    }\n",
       "\n",
       "    .dataframe tbody tr th {\n",
       "        vertical-align: top;\n",
       "    }\n",
       "\n",
       "    .dataframe thead th {\n",
       "        text-align: right;\n",
       "    }\n",
       "</style>\n",
       "<table border=\"1\" class=\"dataframe\">\n",
       "  <thead>\n",
       "    <tr style=\"text-align: right;\">\n",
       "      <th></th>\n",
       "      <th>RnD</th>\n",
       "      <th>Admin</th>\n",
       "      <th>Marketing</th>\n",
       "      <th>Profit</th>\n",
       "    </tr>\n",
       "  </thead>\n",
       "  <tbody>\n",
       "    <tr>\n",
       "      <th>32</th>\n",
       "      <td>28663.76</td>\n",
       "      <td>127056.21</td>\n",
       "      <td>201126.82</td>\n",
       "      <td>90708.19</td>\n",
       "    </tr>\n",
       "  </tbody>\n",
       "</table>\n",
       "</div>"
      ],
      "text/plain": [
       "         RnD      Admin  Marketing    Profit\n",
       "32  28663.76  127056.21  201126.82  90708.19"
      ]
     },
     "execution_count": 64,
     "metadata": {},
     "output_type": "execute_result"
    }
   ],
   "source": [
    "# to actually check the row values of outliers\n",
    "start_new2[start_new2.index.isin([32])]"
   ]
  },
  {
   "cell_type": "code",
   "execution_count": 65,
   "id": "9590a5b7",
   "metadata": {},
   "outputs": [],
   "source": [
    "#Deleting the outlier row[0] and reseting the cloumn index (reset_index())\n",
    "start_new3=start_new2.drop(start_new2.index[[32]],axis=0).reset_index()"
   ]
  },
  {
   "cell_type": "code",
   "execution_count": 66,
   "id": "f11b5993",
   "metadata": {},
   "outputs": [],
   "source": [
    "#Drop the original index\n",
    "start_new3=start_new3.drop(['index'],axis=1)"
   ]
  },
  {
   "cell_type": "code",
   "execution_count": 67,
   "id": "32bcbc03",
   "metadata": {},
   "outputs": [
    {
     "data": {
      "text/plain": [
       "((41, 4), (42, 4))"
      ]
     },
     "execution_count": 67,
     "metadata": {},
     "output_type": "execute_result"
    }
   ],
   "source": [
    "start_new3.shape,start_new2.shape"
   ]
  },
  {
   "cell_type": "code",
   "execution_count": 68,
   "id": "815461ae",
   "metadata": {},
   "outputs": [],
   "source": [
    "#built new model\n",
    "model4=smf.ols(\"Profit~RnD+Admin+Marketing\",data=start_new3).fit()"
   ]
  },
  {
   "cell_type": "code",
   "execution_count": 69,
   "id": "07fa9ebf",
   "metadata": {},
   "outputs": [
    {
     "data": {
      "text/plain": [
       "(0.9720649947904295, 0.9697999943680319, 838.4761080212162)"
      ]
     },
     "execution_count": 69,
     "metadata": {},
     "output_type": "execute_result"
    }
   ],
   "source": [
    "#model2 accrucy\n",
    "acc_5=(model4.rsquared,model4.rsquared_adj,model4.aic)\n",
    "acc_5"
   ]
  },
  {
   "cell_type": "code",
   "execution_count": 70,
   "id": "c0dce108",
   "metadata": {},
   "outputs": [
    {
     "data": {
      "text/plain": [
       "(True, True, True)"
      ]
     },
     "execution_count": 70,
     "metadata": {},
     "output_type": "execute_result"
    }
   ],
   "source": [
    "#to check if model is improved from before model\n",
    "acc_5[0]>acc_4[0],acc_5[1]>acc_4[1],acc_5[2]<acc_4[2]"
   ]
  },
  {
   "cell_type": "code",
   "execution_count": 71,
   "id": "7022be26",
   "metadata": {},
   "outputs": [],
   "source": [
    "model_influence = model4.get_influence()\n",
    "(c, _) = model_influence.cooks_distance"
   ]
  },
  {
   "cell_type": "code",
   "execution_count": 72,
   "id": "55331c8e",
   "metadata": {},
   "outputs": [
    {
     "data": {
      "image/png": "[encoded data removed]",
      "text/plain": [
       "<Figure size 1440x360 with 1 Axes>"
      ]
     },
     "metadata": {},
     "output_type": "display_data"
    }
   ],
   "source": [
    "fig = plt.subplots(figsize=(20, 5))\n",
    "plt.stem(np.arange(len(start_new3)), np.round(c, 3))\n",
    "plt.xlabel('Row index')\n",
    "plt.ylabel('Cooks Distance')\n",
    "plt.show()"
   ]
  },
  {
   "cell_type": "code",
   "execution_count": 73,
   "id": "5d126128",
   "metadata": {},
   "outputs": [
    {
     "data": {
      "text/plain": [
       "(13, 0.10535376498955795)"
      ]
     },
     "execution_count": 73,
     "metadata": {},
     "output_type": "execute_result"
    }
   ],
   "source": [
    "#index and value of influencer where c is max\n",
    "(np.argmax(c),np.max(c))"
   ]
  },
  {
   "cell_type": "code",
   "execution_count": 74,
   "id": "974648fe",
   "metadata": {},
   "outputs": [
    {
     "data": {
      "text/html": [
       "<div>\n",
       "<style scoped>\n",
       "    .dataframe tbody tr th:only-of-type {\n",
       "        vertical-align: middle;\n",
       "    }\n",
       "\n",
       "    .dataframe tbody tr th {\n",
       "        vertical-align: top;\n",
       "    }\n",
       "\n",
       "    .dataframe thead th {\n",
       "        text-align: right;\n",
       "    }\n",
       "</style>\n",
       "<table border=\"1\" class=\"dataframe\">\n",
       "  <thead>\n",
       "    <tr style=\"text-align: right;\">\n",
       "      <th></th>\n",
       "      <th>RnD</th>\n",
       "      <th>Admin</th>\n",
       "      <th>Marketing</th>\n",
       "      <th>Profit</th>\n",
       "    </tr>\n",
       "  </thead>\n",
       "  <tbody>\n",
       "    <tr>\n",
       "      <th>13</th>\n",
       "      <td>114523.61</td>\n",
       "      <td>122616.84</td>\n",
       "      <td>261776.23</td>\n",
       "      <td>129917.04</td>\n",
       "    </tr>\n",
       "  </tbody>\n",
       "</table>\n",
       "</div>"
      ],
      "text/plain": [
       "          RnD      Admin  Marketing     Profit\n",
       "13  114523.61  122616.84  261776.23  129917.04"
      ]
     },
     "execution_count": 74,
     "metadata": {},
     "output_type": "execute_result"
    }
   ],
   "source": [
    "# to actually check the row values of outliers\n",
    "start_new3[start_new3.index.isin([13])]"
   ]
  },
  {
   "cell_type": "code",
   "execution_count": 75,
   "id": "e0f53261",
   "metadata": {},
   "outputs": [],
   "source": [
    "#Deleting the outlier row[0] and reseting the cloumn index (reset_index())\n",
    "start_new4=start_new3.drop(start_new3.index[[13]],axis=0).reset_index()"
   ]
  },
  {
   "cell_type": "code",
   "execution_count": 76,
   "id": "7ed46c56",
   "metadata": {},
   "outputs": [],
   "source": [
    "#Drop the original index\n",
    "start_new4=start_new4.drop(['index'],axis=1)"
   ]
  },
  {
   "cell_type": "code",
   "execution_count": 77,
   "id": "288ca6ee",
   "metadata": {},
   "outputs": [
    {
     "data": {
      "text/plain": [
       "((40, 4), (41, 4))"
      ]
     },
     "execution_count": 77,
     "metadata": {},
     "output_type": "execute_result"
    }
   ],
   "source": [
    "start_new4.shape,start_new3.shape"
   ]
  },
  {
   "cell_type": "code",
   "execution_count": 78,
   "id": "6a552755",
   "metadata": {},
   "outputs": [],
   "source": [
    "#built new model\n",
    "model5=smf.ols(\"Profit~RnD+Admin+Marketing\",data=start_new4).fit()"
   ]
  },
  {
   "cell_type": "code",
   "execution_count": 79,
   "id": "323820c0",
   "metadata": {},
   "outputs": [
    {
     "data": {
      "text/plain": [
       "(0.977167933293994, 0.9752652610684935, 811.0272042142763)"
      ]
     },
     "execution_count": 79,
     "metadata": {},
     "output_type": "execute_result"
    }
   ],
   "source": [
    "#model2 accrucy\n",
    "acc_6=(model5.rsquared,model5.rsquared_adj,model5.aic)\n",
    "acc_6"
   ]
  },
  {
   "cell_type": "code",
   "execution_count": 80,
   "id": "bf57a78c",
   "metadata": {},
   "outputs": [
    {
     "data": {
      "text/plain": [
       "(True, True, True)"
      ]
     },
     "execution_count": 80,
     "metadata": {},
     "output_type": "execute_result"
    }
   ],
   "source": [
    "#to check if model is improved from before model\n",
    "acc_6[0]>acc_5[0],acc_6[1]>acc_5[1],acc_6[2]<acc_5[2]"
   ]
  },
  {
   "cell_type": "code",
   "execution_count": 81,
   "id": "98f538f9",
   "metadata": {},
   "outputs": [],
   "source": [
    "model_influence = model5.get_influence()\n",
    "(c, _) = model_influence.cooks_distance"
   ]
  },
  {
   "cell_type": "code",
   "execution_count": 82,
   "id": "067cabe4",
   "metadata": {},
   "outputs": [
    {
     "data": {
      "image/png": "[encoded data removed]",
      "text/plain": [
       "<Figure size 1440x360 with 1 Axes>"
      ]
     },
     "metadata": {},
     "output_type": "display_data"
    }
   ],
   "source": [
    "fig = plt.subplots(figsize=(20, 5))\n",
    "plt.stem(np.arange(len(start_new4)), np.round(c, 3))\n",
    "plt.xlabel('Row index')\n",
    "plt.ylabel('Cooks Distance')\n",
    "plt.show()"
   ]
  },
  {
   "cell_type": "code",
   "execution_count": 83,
   "id": "4117a454",
   "metadata": {},
   "outputs": [
    {
     "data": {
      "text/plain": [
       "(32, 0.12159316387903846)"
      ]
     },
     "execution_count": 83,
     "metadata": {},
     "output_type": "execute_result"
    }
   ],
   "source": [
    "#index and value of influencer where c is max\n",
    "(np.argmax(c),np.max(c))"
   ]
  },
  {
   "cell_type": "code",
   "execution_count": 84,
   "id": "e1717faf",
   "metadata": {},
   "outputs": [
    {
     "data": {
      "text/html": [
       "<div>\n",
       "<style scoped>\n",
       "    .dataframe tbody tr th:only-of-type {\n",
       "        vertical-align: middle;\n",
       "    }\n",
       "\n",
       "    .dataframe tbody tr th {\n",
       "        vertical-align: top;\n",
       "    }\n",
       "\n",
       "    .dataframe thead th {\n",
       "        text-align: right;\n",
       "    }\n",
       "</style>\n",
       "<table border=\"1\" class=\"dataframe\">\n",
       "  <thead>\n",
       "    <tr style=\"text-align: right;\">\n",
       "      <th></th>\n",
       "      <th>RnD</th>\n",
       "      <th>Admin</th>\n",
       "      <th>Marketing</th>\n",
       "      <th>Profit</th>\n",
       "    </tr>\n",
       "  </thead>\n",
       "  <tbody>\n",
       "    <tr>\n",
       "      <th>32</th>\n",
       "      <td>20229.59</td>\n",
       "      <td>65947.93</td>\n",
       "      <td>185265.1</td>\n",
       "      <td>81229.06</td>\n",
       "    </tr>\n",
       "  </tbody>\n",
       "</table>\n",
       "</div>"
      ],
      "text/plain": [
       "         RnD     Admin  Marketing    Profit\n",
       "32  20229.59  65947.93   185265.1  81229.06"
      ]
     },
     "execution_count": 84,
     "metadata": {},
     "output_type": "execute_result"
    }
   ],
   "source": [
    "# to actually check the row values of outliers\n",
    "start_new4[start_new4.index.isin([32])]"
   ]
  },
  {
   "cell_type": "code",
   "execution_count": 85,
   "id": "e32788ab",
   "metadata": {},
   "outputs": [],
   "source": [
    "#Deleting the outlier row[0] and reseting the cloumn index (reset_index())\n",
    "start_new5=start_new4.drop(start_new4.index[[32]],axis=0).reset_index()"
   ]
  },
  {
   "cell_type": "code",
   "execution_count": 86,
   "id": "8dbaf813",
   "metadata": {},
   "outputs": [],
   "source": [
    "#Drop the original index\n",
    "start_new5=start_new5.drop(['index'],axis=1)"
   ]
  },
  {
   "cell_type": "code",
   "execution_count": 87,
   "id": "ed49d990",
   "metadata": {},
   "outputs": [
    {
     "data": {
      "text/plain": [
       "((39, 4), (40, 4))"
      ]
     },
     "execution_count": 87,
     "metadata": {},
     "output_type": "execute_result"
    }
   ],
   "source": [
    "start_new5.shape,start_new4.shape"
   ]
  },
  {
   "cell_type": "code",
   "execution_count": 88,
   "id": "fcc97124",
   "metadata": {},
   "outputs": [],
   "source": [
    "#built new model\n",
    "model6=smf.ols(\"Profit~RnD+Admin+Marketing\",data=start_new5).fit()"
   ]
  },
  {
   "cell_type": "code",
   "execution_count": 89,
   "id": "60083692",
   "metadata": {},
   "outputs": [
    {
     "data": {
      "text/plain": [
       "(0.9781096849234914, 0.9762333722026478, 789.3050605630741)"
      ]
     },
     "execution_count": 89,
     "metadata": {},
     "output_type": "execute_result"
    }
   ],
   "source": [
    "#model2 accrucy\n",
    "acc_7=(model6.rsquared,model6.rsquared_adj,model6.aic)\n",
    "acc_7"
   ]
  },
  {
   "cell_type": "code",
   "execution_count": 90,
   "id": "6f9f0e82",
   "metadata": {},
   "outputs": [
    {
     "data": {
      "text/plain": [
       "(True, True, True)"
      ]
     },
     "execution_count": 90,
     "metadata": {},
     "output_type": "execute_result"
    }
   ],
   "source": [
    "#to check if model is improved from before model\n",
    "acc_7[0]>acc_6[0],acc_7[1]>acc_6[1],acc_7[2]<acc_6[2]"
   ]
  },
  {
   "cell_type": "markdown",
   "id": "9c483fe4",
   "metadata": {},
   "source": [
    "**The model is improved enough to predict more could lead to less data points.                                               \n",
    "So we stick to Model6 and work with future predictions**"
   ]
  },
  {
   "cell_type": "markdown",
   "id": "e7021d4c",
   "metadata": {},
   "source": [
    "### Final Model"
   ]
  },
  {
   "cell_type": "code",
   "execution_count": 91,
   "id": "34189d7f",
   "metadata": {},
   "outputs": [],
   "source": [
    "#final model\n",
    "final_model=smf.ols(\"Profit~RnD+Admin+Marketing\",data=start_new5).fit()"
   ]
  },
  {
   "cell_type": "code",
   "execution_count": 92,
   "id": "3d934d2f",
   "metadata": {},
   "outputs": [
    {
     "data": {
      "text/plain": [
       "(0.9781096849234914, 0.9762333722026478, 789.3050605630741)"
      ]
     },
     "execution_count": 92,
     "metadata": {},
     "output_type": "execute_result"
    }
   ],
   "source": [
    "#model accrucy\n",
    "final_acc=(final_model.rsquared,final_model.rsquared_adj,final_model.aic)\n",
    "final_acc"
   ]
  },
  {
   "cell_type": "code",
   "execution_count": 93,
   "id": "dba12053",
   "metadata": {},
   "outputs": [
    {
     "data": {
      "text/plain": [
       "(True, True, True)"
      ]
     },
     "execution_count": 93,
     "metadata": {},
     "output_type": "execute_result"
    }
   ],
   "source": [
    "#to check if accuracy is same\n",
    "final_acc[0]==acc_7[0],final_acc[1]==acc_7[1],final_acc[2]==acc_7[2]"
   ]
  },
  {
   "cell_type": "code",
   "execution_count": 94,
   "id": "c2606ddc",
   "metadata": {},
   "outputs": [
    {
     "data": {
      "text/html": [
       "<div>\n",
       "<style scoped>\n",
       "    .dataframe tbody tr th:only-of-type {\n",
       "        vertical-align: middle;\n",
       "    }\n",
       "\n",
       "    .dataframe tbody tr th {\n",
       "        vertical-align: top;\n",
       "    }\n",
       "\n",
       "    .dataframe thead th {\n",
       "        text-align: right;\n",
       "    }\n",
       "</style>\n",
       "<table border=\"1\" class=\"dataframe\">\n",
       "  <thead>\n",
       "    <tr style=\"text-align: right;\">\n",
       "      <th></th>\n",
       "      <th>Model</th>\n",
       "      <th>R_Square</th>\n",
       "    </tr>\n",
       "  </thead>\n",
       "  <tbody>\n",
       "    <tr>\n",
       "      <th>0</th>\n",
       "      <td>First</td>\n",
       "      <td>0.950746</td>\n",
       "    </tr>\n",
       "    <tr>\n",
       "      <th>1</th>\n",
       "      <td>Second</td>\n",
       "      <td>0.962938</td>\n",
       "    </tr>\n",
       "    <tr>\n",
       "      <th>2</th>\n",
       "      <td>Third</td>\n",
       "      <td>0.965754</td>\n",
       "    </tr>\n",
       "    <tr>\n",
       "      <th>3</th>\n",
       "      <td>Fourth</td>\n",
       "      <td>0.969892</td>\n",
       "    </tr>\n",
       "    <tr>\n",
       "      <th>4</th>\n",
       "      <td>Fifth</td>\n",
       "      <td>0.972065</td>\n",
       "    </tr>\n",
       "    <tr>\n",
       "      <th>5</th>\n",
       "      <td>Sixth</td>\n",
       "      <td>0.977168</td>\n",
       "    </tr>\n",
       "    <tr>\n",
       "      <th>6</th>\n",
       "      <td>Seventh</td>\n",
       "      <td>0.978110</td>\n",
       "    </tr>\n",
       "    <tr>\n",
       "      <th>7</th>\n",
       "      <td>Final</td>\n",
       "      <td>0.978110</td>\n",
       "    </tr>\n",
       "  </tbody>\n",
       "</table>\n",
       "</div>"
      ],
      "text/plain": [
       "     Model  R_Square\n",
       "0    First  0.950746\n",
       "1   Second  0.962938\n",
       "2    Third  0.965754\n",
       "3   Fourth  0.969892\n",
       "4    Fifth  0.972065\n",
       "5    Sixth  0.977168\n",
       "6  Seventh  0.978110\n",
       "7    Final  0.978110"
      ]
     },
     "execution_count": 94,
     "metadata": {},
     "output_type": "execute_result"
    }
   ],
   "source": [
    "r2 = {\"Model\":[\"First\",\"Second\",\"Third\",\"Fourth\",\"Fifth\",\"Sixth\",\"Seventh\",\"Final\"],\n",
    "             \"R_Square\":[acc_1[0],acc_2[0],acc_3[0],acc_4[0],acc_5[0],acc_6[0],acc_7[0],final_acc[0]]}\n",
    "rsquared = pd.DataFrame(r2)\n",
    "rsquared"
   ]
  },
  {
   "cell_type": "markdown",
   "id": "ce88f4f9",
   "metadata": {},
   "source": [
    "### Prediction"
   ]
  },
  {
   "cell_type": "code",
   "execution_count": 95,
   "id": "a108ffac",
   "metadata": {},
   "outputs": [
    {
     "data": {
      "text/html": [
       "<div>\n",
       "<style scoped>\n",
       "    .dataframe tbody tr th:only-of-type {\n",
       "        vertical-align: middle;\n",
       "    }\n",
       "\n",
       "    .dataframe tbody tr th {\n",
       "        vertical-align: top;\n",
       "    }\n",
       "\n",
       "    .dataframe thead th {\n",
       "        text-align: right;\n",
       "    }\n",
       "</style>\n",
       "<table border=\"1\" class=\"dataframe\">\n",
       "  <thead>\n",
       "    <tr style=\"text-align: right;\">\n",
       "      <th></th>\n",
       "      <th>RnD</th>\n",
       "      <th>Admin</th>\n",
       "      <th>Marketing</th>\n",
       "      <th>Profit</th>\n",
       "    </tr>\n",
       "  </thead>\n",
       "  <tbody>\n",
       "    <tr>\n",
       "      <th>0</th>\n",
       "      <td>165349.20</td>\n",
       "      <td>136897.80</td>\n",
       "      <td>471784.10</td>\n",
       "      <td>192261.83</td>\n",
       "    </tr>\n",
       "    <tr>\n",
       "      <th>1</th>\n",
       "      <td>162597.70</td>\n",
       "      <td>151377.59</td>\n",
       "      <td>443898.53</td>\n",
       "      <td>191792.06</td>\n",
       "    </tr>\n",
       "    <tr>\n",
       "      <th>2</th>\n",
       "      <td>153441.51</td>\n",
       "      <td>101145.55</td>\n",
       "      <td>407934.54</td>\n",
       "      <td>191050.39</td>\n",
       "    </tr>\n",
       "    <tr>\n",
       "      <th>3</th>\n",
       "      <td>144372.41</td>\n",
       "      <td>118671.85</td>\n",
       "      <td>383199.62</td>\n",
       "      <td>182901.99</td>\n",
       "    </tr>\n",
       "    <tr>\n",
       "      <th>4</th>\n",
       "      <td>142107.34</td>\n",
       "      <td>91391.77</td>\n",
       "      <td>366168.42</td>\n",
       "      <td>166187.94</td>\n",
       "    </tr>\n",
       "  </tbody>\n",
       "</table>\n",
       "</div>"
      ],
      "text/plain": [
       "         RnD      Admin  Marketing     Profit\n",
       "0  165349.20  136897.80  471784.10  192261.83\n",
       "1  162597.70  151377.59  443898.53  191792.06\n",
       "2  153441.51  101145.55  407934.54  191050.39\n",
       "3  144372.41  118671.85  383199.62  182901.99\n",
       "4  142107.34   91391.77  366168.42  166187.94"
      ]
     },
     "execution_count": 95,
     "metadata": {},
     "output_type": "execute_result"
    }
   ],
   "source": [
    "start_new5.head()"
   ]
  },
  {
   "cell_type": "code",
   "execution_count": 96,
   "id": "e8e8cbd5",
   "metadata": {},
   "outputs": [
    {
     "data": {
      "text/html": [
       "<div>\n",
       "<style scoped>\n",
       "    .dataframe tbody tr th:only-of-type {\n",
       "        vertical-align: middle;\n",
       "    }\n",
       "\n",
       "    .dataframe tbody tr th {\n",
       "        vertical-align: top;\n",
       "    }\n",
       "\n",
       "    .dataframe thead th {\n",
       "        text-align: right;\n",
       "    }\n",
       "</style>\n",
       "<table border=\"1\" class=\"dataframe\">\n",
       "  <thead>\n",
       "    <tr style=\"text-align: right;\">\n",
       "      <th></th>\n",
       "      <th>RnD</th>\n",
       "      <th>Admin</th>\n",
       "      <th>Marketing</th>\n",
       "    </tr>\n",
       "  </thead>\n",
       "  <tbody>\n",
       "    <tr>\n",
       "      <th>1</th>\n",
       "      <td>152769.84</td>\n",
       "      <td>127538.49</td>\n",
       "      <td>794613.02</td>\n",
       "    </tr>\n",
       "  </tbody>\n",
       "</table>\n",
       "</div>"
      ],
      "text/plain": [
       "         RnD      Admin  Marketing\n",
       "1  152769.84  127538.49  794613.02"
      ]
     },
     "execution_count": 96,
     "metadata": {},
     "output_type": "execute_result"
    }
   ],
   "source": [
    "# predicting by creating new df and dictionary for values\n",
    "new_data=pd.DataFrame({\"RnD\":152769.84,\"Admin\":127538.49,\"Marketing\":794613.02},index=[1])\n",
    "new_data"
   ]
  },
  {
   "cell_type": "code",
   "execution_count": 97,
   "id": "f8163940",
   "metadata": {},
   "outputs": [
    {
     "data": {
      "text/plain": [
       "1    192812.170204\n",
       "dtype: float64"
      ]
     },
     "execution_count": 97,
     "metadata": {},
     "output_type": "execute_result"
    }
   ],
   "source": [
    "#Predicting\n",
    "final_model.predict(new_data)"
   ]
  },
  {
   "cell_type": "code",
   "execution_count": 98,
   "id": "95f3b308",
   "metadata": {},
   "outputs": [
    {
     "data": {
      "text/plain": [
       "Intercept    52029.289921\n",
       "RnD              0.800763\n",
       "Admin           -0.031187\n",
       "Marketing        0.028225\n",
       "dtype: float64"
      ]
     },
     "execution_count": 98,
     "metadata": {},
     "output_type": "execute_result"
    }
   ],
   "source": [
    "final_model.params"
   ]
  },
  {
   "cell_type": "code",
   "execution_count": 99,
   "id": "c2da6ae9",
   "metadata": {},
   "outputs": [
    {
     "data": {
      "text/plain": [
       "192812.13491079"
      ]
     },
     "execution_count": 99,
     "metadata": {},
     "output_type": "execute_result"
    }
   ],
   "source": [
    "#to check the correct value manually\n",
    "# y^= ß0+ß1x1+ß2x2+ß3x3+ß4x4+ß5x5+ß6x6\n",
    "# y^= 52029.289921+(0.800763*x1)+(-0.031187*x2)+( 0.028225*x3)\n",
    "pred= 52029.289921+(0.800763*152769.84)+(-0.031187*127538.49)+( 0.028225*794613.02)\n",
    "pred"
   ]
  },
  {
   "cell_type": "markdown",
   "id": "efa430fc",
   "metadata": {},
   "source": [
    "**The answers approximately match which shows the model can predict correctly.**"
   ]
  }
 ],
 "metadata": {
  "kernelspec": {
   "display_name": "Python 3 (ipykernel)",
   "language": "python",
   "name": "python3"
  },
  "language_info": {
   "codemirror_mode": {
    "name": "ipython",
    "version": 3
   },
   "file_extension": ".py",
   "mimetype": "text/x-python",
   "name": "python",
   "nbconvert_exporter": "python",
   "pygments_lexer": "ipython3",
   "version": "3.9.12"
  }
 },
 "nbformat": 4,
 "nbformat_minor": 5
}
