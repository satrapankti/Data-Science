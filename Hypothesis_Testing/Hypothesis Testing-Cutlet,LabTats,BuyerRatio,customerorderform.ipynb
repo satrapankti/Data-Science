{
 "cells": [
  {
   "cell_type": "markdown",
   "id": "2521818c",
   "metadata": {},
   "source": [
    "# HYPOTHESIS TESTING"
   ]
  },
  {
   "cell_type": "code",
   "execution_count": 1,
   "id": "b0f8d250",
   "metadata": {},
   "outputs": [],
   "source": [
    "import pandas as pd\n",
    "import numpy as np\n",
    "import scipy\n",
    "from scipy import stats\n",
    "import statsmodels.api as sm\n",
    "from scipy.stats import chi2\n",
    "from scipy.stats import chi2_contingency"
   ]
  },
  {
   "cell_type": "markdown",
   "id": "2429b21e",
   "metadata": {},
   "source": [
    "### Q1"
   ]
  },
  {
   "cell_type": "code",
   "execution_count": 2,
   "id": "f7002cc0",
   "metadata": {},
   "outputs": [
    {
     "data": {
      "text/html": [
       "<div>\n",
       "<style scoped>\n",
       "    .dataframe tbody tr th:only-of-type {\n",
       "        vertical-align: middle;\n",
       "    }\n",
       "\n",
       "    .dataframe tbody tr th {\n",
       "        vertical-align: top;\n",
       "    }\n",
       "\n",
       "    .dataframe thead th {\n",
       "        text-align: right;\n",
       "    }\n",
       "</style>\n",
       "<table border=\"1\" class=\"dataframe\">\n",
       "  <thead>\n",
       "    <tr style=\"text-align: right;\">\n",
       "      <th></th>\n",
       "      <th>Unit A</th>\n",
       "      <th>Unit B</th>\n",
       "    </tr>\n",
       "  </thead>\n",
       "  <tbody>\n",
       "    <tr>\n",
       "      <th>0</th>\n",
       "      <td>6.8090</td>\n",
       "      <td>6.7703</td>\n",
       "    </tr>\n",
       "    <tr>\n",
       "      <th>1</th>\n",
       "      <td>6.4376</td>\n",
       "      <td>7.5093</td>\n",
       "    </tr>\n",
       "    <tr>\n",
       "      <th>2</th>\n",
       "      <td>6.9157</td>\n",
       "      <td>6.7300</td>\n",
       "    </tr>\n",
       "    <tr>\n",
       "      <th>3</th>\n",
       "      <td>7.3012</td>\n",
       "      <td>6.7878</td>\n",
       "    </tr>\n",
       "    <tr>\n",
       "      <th>4</th>\n",
       "      <td>7.4488</td>\n",
       "      <td>7.1522</td>\n",
       "    </tr>\n",
       "  </tbody>\n",
       "</table>\n",
       "</div>"
      ],
      "text/plain": [
       "   Unit A  Unit B\n",
       "0  6.8090  6.7703\n",
       "1  6.4376  7.5093\n",
       "2  6.9157  6.7300\n",
       "3  7.3012  6.7878\n",
       "4  7.4488  7.1522"
      ]
     },
     "execution_count": 2,
     "metadata": {},
     "output_type": "execute_result"
    }
   ],
   "source": [
    "cutlet=pd.read_csv(\"/Cutlets.csv\")\n",
    "cutlet.head()"
   ]
  },
  {
   "cell_type": "code",
   "execution_count": 3,
   "id": "b1c2896c",
   "metadata": {},
   "outputs": [
    {
     "data": {
      "text/plain": [
       "0.4722394724599501"
      ]
     },
     "execution_count": 3,
     "metadata": {},
     "output_type": "execute_result"
    }
   ],
   "source": [
    "p=stats.ttest_ind(cutlet[\"Unit A\"],cutlet[\"Unit B\"])\n",
    "p[1]"
   ]
  },
  {
   "cell_type": "markdown",
   "id": "da92bcb3",
   "metadata": {},
   "source": [
    "**Assumptions & Test**                       \n",
    "**µa**= Mean of Unit A                                                              \n",
    "**µb**= Mean of Unit B                                                              \n",
    "since the significance level is 5%                                 \n",
    "∴ **α** = 5/100=0.05                                                          \n",
    "Null Hypothesis(**h0**)  -> **µa = µb**                                              \n",
    "Alternate Hypothesis(**h1**) -> **µa ≠ µtb**                                           \n",
    "using **t-test** it is **2 sample 2 tail**                                        \n",
    "Here **p=0.472 & α=0.05** i.e **p>α**             \n",
    "**∴ We Fail to reject the Null Hypothesis(h0) and we reject the Alternate Hypothesis(h1)**   \n",
    "**∴ There is no significant difference in the diameter of the cutlet between two units A and B.**"
   ]
  },
  {
   "cell_type": "markdown",
   "id": "8fdcb092",
   "metadata": {},
   "source": [
    "### Q2"
   ]
  },
  {
   "cell_type": "code",
   "execution_count": 4,
   "id": "992822e2",
   "metadata": {},
   "outputs": [
    {
     "data": {
      "text/html": [
       "<div>\n",
       "<style scoped>\n",
       "    .dataframe tbody tr th:only-of-type {\n",
       "        vertical-align: middle;\n",
       "    }\n",
       "\n",
       "    .dataframe tbody tr th {\n",
       "        vertical-align: top;\n",
       "    }\n",
       "\n",
       "    .dataframe thead th {\n",
       "        text-align: right;\n",
       "    }\n",
       "</style>\n",
       "<table border=\"1\" class=\"dataframe\">\n",
       "  <thead>\n",
       "    <tr style=\"text-align: right;\">\n",
       "      <th></th>\n",
       "      <th>Laboratory 1</th>\n",
       "      <th>Laboratory 2</th>\n",
       "      <th>Laboratory 3</th>\n",
       "      <th>Laboratory 4</th>\n",
       "    </tr>\n",
       "  </thead>\n",
       "  <tbody>\n",
       "    <tr>\n",
       "      <th>0</th>\n",
       "      <td>185.35</td>\n",
       "      <td>165.53</td>\n",
       "      <td>176.70</td>\n",
       "      <td>166.13</td>\n",
       "    </tr>\n",
       "    <tr>\n",
       "      <th>1</th>\n",
       "      <td>170.49</td>\n",
       "      <td>185.91</td>\n",
       "      <td>198.45</td>\n",
       "      <td>160.79</td>\n",
       "    </tr>\n",
       "    <tr>\n",
       "      <th>2</th>\n",
       "      <td>192.77</td>\n",
       "      <td>194.92</td>\n",
       "      <td>201.23</td>\n",
       "      <td>185.18</td>\n",
       "    </tr>\n",
       "    <tr>\n",
       "      <th>3</th>\n",
       "      <td>177.33</td>\n",
       "      <td>183.00</td>\n",
       "      <td>199.61</td>\n",
       "      <td>176.42</td>\n",
       "    </tr>\n",
       "    <tr>\n",
       "      <th>4</th>\n",
       "      <td>193.41</td>\n",
       "      <td>169.57</td>\n",
       "      <td>204.63</td>\n",
       "      <td>152.60</td>\n",
       "    </tr>\n",
       "  </tbody>\n",
       "</table>\n",
       "</div>"
      ],
      "text/plain": [
       "   Laboratory 1  Laboratory 2  Laboratory 3  Laboratory 4\n",
       "0        185.35        165.53        176.70        166.13\n",
       "1        170.49        185.91        198.45        160.79\n",
       "2        192.77        194.92        201.23        185.18\n",
       "3        177.33        183.00        199.61        176.42\n",
       "4        193.41        169.57        204.63        152.60"
      ]
     },
     "execution_count": 4,
     "metadata": {},
     "output_type": "execute_result"
    }
   ],
   "source": [
    "labtat=pd.read_csv(\"/LabTat.csv\")\n",
    "labtat.head()"
   ]
  },
  {
   "cell_type": "code",
   "execution_count": 5,
   "id": "06c55629",
   "metadata": {},
   "outputs": [
    {
     "data": {
      "text/plain": [
       "2.1156708949992414e-57"
      ]
     },
     "execution_count": 5,
     "metadata": {},
     "output_type": "execute_result"
    }
   ],
   "source": [
    "p=stats.f_oneway(labtat.iloc[:,0], labtat.iloc[:,1],labtat.iloc[:,2],labtat.iloc[:,3])\n",
    "p[1]"
   ]
  },
  {
   "cell_type": "markdown",
   "id": "abf2f028",
   "metadata": {},
   "source": [
    "**Assumptions & Test**                       \n",
    "**µ1**= Mean of Laboratory 1                                                              \n",
    "**µ2**= Mean of Laboratory 2             \n",
    "**µ3**= Mean of Laboratory 3                \n",
    "**µ4**= Mean of Laboratory 4                                 \n",
    "since the significance level is 5%                                 \n",
    "∴ **α** = 5/100=0.05                                                          \n",
    "Null Hypothesis(**h0**)  -> **µ1 = µ2 = µ3 = µ4**                                                                               \n",
    "Alternate Hypothesis(**h1**) -> **µ1 ≠ µ2 = µ3 = µ4 (Atleast one Mean µ is different ≠)**                                       \n",
    "using **ANOVA Test**                                                                                         \n",
    "Here **p=0.000 & α=0.05** i.e **p<α**             \n",
    "**∴ We reject the Null Hypothesis(h0) and we accept the Alternate Hypothesis(h1)**   \n",
    "**∴ there is difference in the average Turn Around Time (TAT) of reports of the laboratories on their preferred list.**"
   ]
  },
  {
   "cell_type": "markdown",
   "id": "d22edbc1",
   "metadata": {},
   "source": [
    "### Q3"
   ]
  },
  {
   "cell_type": "code",
   "execution_count": 6,
   "id": "00b0c8a0",
   "metadata": {},
   "outputs": [
    {
     "data": {
      "text/html": [
       "<div>\n",
       "<style scoped>\n",
       "    .dataframe tbody tr th:only-of-type {\n",
       "        vertical-align: middle;\n",
       "    }\n",
       "\n",
       "    .dataframe tbody tr th {\n",
       "        vertical-align: top;\n",
       "    }\n",
       "\n",
       "    .dataframe thead th {\n",
       "        text-align: right;\n",
       "    }\n",
       "</style>\n",
       "<table border=\"1\" class=\"dataframe\">\n",
       "  <thead>\n",
       "    <tr style=\"text-align: right;\">\n",
       "      <th></th>\n",
       "      <th>Observed Values</th>\n",
       "      <th>East</th>\n",
       "      <th>West</th>\n",
       "      <th>North</th>\n",
       "      <th>South</th>\n",
       "    </tr>\n",
       "  </thead>\n",
       "  <tbody>\n",
       "    <tr>\n",
       "      <th>0</th>\n",
       "      <td>Males</td>\n",
       "      <td>50</td>\n",
       "      <td>142</td>\n",
       "      <td>131</td>\n",
       "      <td>70</td>\n",
       "    </tr>\n",
       "    <tr>\n",
       "      <th>1</th>\n",
       "      <td>Females</td>\n",
       "      <td>435</td>\n",
       "      <td>1523</td>\n",
       "      <td>1356</td>\n",
       "      <td>750</td>\n",
       "    </tr>\n",
       "  </tbody>\n",
       "</table>\n",
       "</div>"
      ],
      "text/plain": [
       "  Observed Values  East  West  North  South\n",
       "0           Males    50   142    131     70\n",
       "1         Females   435  1523   1356    750"
      ]
     },
     "execution_count": 6,
     "metadata": {},
     "output_type": "execute_result"
    }
   ],
   "source": [
    "buyerratio=pd.read_csv(\"/BuyerRatio.csv\")\n",
    "buyerratio"
   ]
  },
  {
   "cell_type": "code",
   "execution_count": 7,
   "id": "2d2cf7fb",
   "metadata": {},
   "outputs": [
    {
     "data": {
      "text/plain": [
       "0.6603094907091882"
      ]
     },
     "execution_count": 7,
     "metadata": {},
     "output_type": "execute_result"
    }
   ],
   "source": [
    "p=stats.chi2_contingency([buyerratio[\"East\"],buyerratio[\"West\"],buyerratio[\"North\"],buyerratio[\"South\"]])\n",
    "p[1]"
   ]
  },
  {
   "cell_type": "code",
   "execution_count": 8,
   "id": "704a054c",
   "metadata": {},
   "outputs": [
    {
     "data": {
      "text/plain": [
       "7.814727903251179"
      ]
     },
     "execution_count": 8,
     "metadata": {},
     "output_type": "execute_result"
    }
   ],
   "source": [
    "# critical value(x2c)\n",
    "c=chi2.ppf(0.95,3)\n",
    "c"
   ]
  },
  {
   "cell_type": "code",
   "execution_count": 9,
   "id": "f015f67e",
   "metadata": {},
   "outputs": [
    {
     "data": {
      "text/plain": [
       "1.5959455386610577"
      ]
     },
     "execution_count": 9,
     "metadata": {},
     "output_type": "execute_result"
    }
   ],
   "source": [
    "#chi square (x2) fail to reject ho\n",
    "p[0]"
   ]
  },
  {
   "cell_type": "markdown",
   "id": "a93c9d8d",
   "metadata": {},
   "source": [
    "**Assumptions & Test**                       \n",
    "**p[0]** = chi square (x2)                                                              \n",
    "**p[1]** = p value\n",
    "**c**    = critical value\n",
    "since the significance level is 5%                                 \n",
    "∴ **α** = 5/100=0.05                                                          \n",
    "Null Hypothesis(**h0**)  -> **All proportions are equal i.e all variables are Independent**                               \n",
    "Alternate Hypothesis(**h1**) -> **Not all proportions are equal i.e all variables are Dependent**                              \n",
    "using **Chi Square Test**                                       \n",
    "Here **p=0.6603 & α=0.05** i.e **p>α**  and **x2=1.596 & χ2c=7.815** i.e **x2<χ2c**      \n",
    "**∴ We fail to reject the Null Hypothesis(h0) and we reject the Alternate Hypothesis(h1)**   \n",
    "**∴ Male female buyer rations for sale of products are similar across regions and all proportions are equal.**"
   ]
  },
  {
   "cell_type": "markdown",
   "id": "db64541e",
   "metadata": {},
   "source": [
    "### Q4"
   ]
  },
  {
   "cell_type": "code",
   "execution_count": 10,
   "id": "3105affe",
   "metadata": {},
   "outputs": [
    {
     "data": {
      "text/html": [
       "<div>\n",
       "<style scoped>\n",
       "    .dataframe tbody tr th:only-of-type {\n",
       "        vertical-align: middle;\n",
       "    }\n",
       "\n",
       "    .dataframe tbody tr th {\n",
       "        vertical-align: top;\n",
       "    }\n",
       "\n",
       "    .dataframe thead th {\n",
       "        text-align: right;\n",
       "    }\n",
       "</style>\n",
       "<table border=\"1\" class=\"dataframe\">\n",
       "  <thead>\n",
       "    <tr style=\"text-align: right;\">\n",
       "      <th></th>\n",
       "      <th>Phillippines</th>\n",
       "      <th>Indonesia</th>\n",
       "      <th>Malta</th>\n",
       "      <th>India</th>\n",
       "    </tr>\n",
       "  </thead>\n",
       "  <tbody>\n",
       "    <tr>\n",
       "      <th>0</th>\n",
       "      <td>Error Free</td>\n",
       "      <td>Error Free</td>\n",
       "      <td>Defective</td>\n",
       "      <td>Error Free</td>\n",
       "    </tr>\n",
       "    <tr>\n",
       "      <th>1</th>\n",
       "      <td>Error Free</td>\n",
       "      <td>Error Free</td>\n",
       "      <td>Error Free</td>\n",
       "      <td>Defective</td>\n",
       "    </tr>\n",
       "    <tr>\n",
       "      <th>2</th>\n",
       "      <td>Error Free</td>\n",
       "      <td>Defective</td>\n",
       "      <td>Defective</td>\n",
       "      <td>Error Free</td>\n",
       "    </tr>\n",
       "    <tr>\n",
       "      <th>3</th>\n",
       "      <td>Error Free</td>\n",
       "      <td>Error Free</td>\n",
       "      <td>Error Free</td>\n",
       "      <td>Error Free</td>\n",
       "    </tr>\n",
       "    <tr>\n",
       "      <th>4</th>\n",
       "      <td>Error Free</td>\n",
       "      <td>Error Free</td>\n",
       "      <td>Defective</td>\n",
       "      <td>Error Free</td>\n",
       "    </tr>\n",
       "  </tbody>\n",
       "</table>\n",
       "</div>"
      ],
      "text/plain": [
       "  Phillippines   Indonesia       Malta       India\n",
       "0   Error Free  Error Free   Defective  Error Free\n",
       "1   Error Free  Error Free  Error Free   Defective\n",
       "2   Error Free   Defective   Defective  Error Free\n",
       "3   Error Free  Error Free  Error Free  Error Free\n",
       "4   Error Free  Error Free   Defective  Error Free"
      ]
     },
     "execution_count": 10,
     "metadata": {},
     "output_type": "execute_result"
    }
   ],
   "source": [
    "cof=pd.read_csv(\"/customerorderform.csv\")\n",
    "cof.head()"
   ]
  },
  {
   "cell_type": "code",
   "execution_count": 11,
   "id": "9e4a0c92",
   "metadata": {},
   "outputs": [
    {
     "data": {
      "text/plain": [
       "0.2771020991233144"
      ]
     },
     "execution_count": 11,
     "metadata": {},
     "output_type": "execute_result"
    }
   ],
   "source": [
    "p=stats.chi2_contingency([cof[\"Phillippines\"].value_counts(),cof[\"Indonesia\"].value_counts(),\n",
    "                          cof[\"Malta\"].value_counts(),cof[\"India\"].value_counts()])\n",
    "p[1]"
   ]
  },
  {
   "cell_type": "code",
   "execution_count": 12,
   "id": "ca87ce78",
   "metadata": {},
   "outputs": [
    {
     "data": {
      "text/plain": [
       "3.8589606858203545"
      ]
     },
     "execution_count": 12,
     "metadata": {},
     "output_type": "execute_result"
    }
   ],
   "source": [
    "#chi square (x2) fail to reject ho\n",
    "p[0]"
   ]
  },
  {
   "cell_type": "markdown",
   "id": "71f8386b",
   "metadata": {},
   "source": [
    "**Assumptions & Test**                       \n",
    "**p[0]** = chi square (x2)                                                              \n",
    "**p[1]** = p value\n",
    "**c**    = critical value\n",
    "since the significance level is 5%                                 \n",
    "∴ **α** = 5/100=0.05                                                          \n",
    "Null Hypothesis(**h0**)  -> **The defective varies by centre i.e all variables are Independent**                               \n",
    "Alternate Hypothesis(**h1**) -> **The defective doesn't varies by centre  i.e all variables are Dependent**              \n",
    "using **Chi Square Test**                                       \n",
    "Here **p=0.277 & α=0.05** i.e **p>α**  and **x2=3.859 & χ2c=7.815** i.e **x2<χ2c**      \n",
    "**∴ We fail to reject the Null Hypothesis(h0) and we reject the Alternate Hypothesis(h1)**   \n",
    "**∴The defective varies by centre**"
   ]
  }
 ],
 "metadata": {
  "kernelspec": {
   "display_name": "Python 3",
   "language": "python",
   "name": "python3"
  },
  "language_info": {
   "codemirror_mode": {
    "name": "ipython",
    "version": 3
   },
   "file_extension": ".py",
   "mimetype": "text/x-python",
   "name": "python",
   "nbconvert_exporter": "python",
   "pygments_lexer": "ipython3",
   "version": "3.8.8"
  }
 },
 "nbformat": 4,
 "nbformat_minor": 5
}
