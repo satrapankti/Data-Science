{
 "cells": [
  {
   "cell_type": "code",
   "execution_count": 2,
   "id": "47f0418a",
   "metadata": {},
   "outputs": [],
   "source": [
    "from scipy import stats\n",
    "import pandas as pd\n",
    "import numpy as np"
   ]
  },
  {
   "cell_type": "markdown",
   "id": "9b5e727d",
   "metadata": {},
   "source": [
    "# Confidence Interval"
   ]
  },
  {
   "cell_type": "markdown",
   "id": "231e465c",
   "metadata": {},
   "source": [
    "### Credit Card Example"
   ]
  },
  {
   "cell_type": "markdown",
   "id": "fd75781e",
   "metadata": {},
   "source": [
    "Interval Estimate =x̄ ± [Z(1-α) * σ / √n]"
   ]
  },
  {
   "cell_type": "code",
   "execution_count": 21,
   "id": "7574486f",
   "metadata": {},
   "outputs": [],
   "source": [
    "#at 80%"
   ]
  },
  {
   "cell_type": "code",
   "execution_count": 22,
   "id": "cb1c8557",
   "metadata": {
    "scrolled": true
   },
   "outputs": [
    {
     "data": {
      "text/plain": [
       "1719.2228104314975"
      ]
     },
     "execution_count": 22,
     "metadata": {},
     "output_type": "execute_result"
    }
   ],
   "source": [
    "1990-stats.norm.ppf(.9)*(2500/np.sqrt(140))"
   ]
  },
  {
   "cell_type": "code",
   "execution_count": 23,
   "id": "03af9603",
   "metadata": {},
   "outputs": [
    {
     "data": {
      "text/plain": [
       "2260.7771895685028"
      ]
     },
     "execution_count": 23,
     "metadata": {},
     "output_type": "execute_result"
    }
   ],
   "source": [
    "1990+stats.norm.ppf(.9)*(2500/np.sqrt(140))"
   ]
  },
  {
   "cell_type": "code",
   "execution_count": 9,
   "id": "551eb6b7",
   "metadata": {},
   "outputs": [],
   "source": [
    "#at 90%"
   ]
  },
  {
   "cell_type": "code",
   "execution_count": 12,
   "id": "625e19a3",
   "metadata": {},
   "outputs": [
    {
     "data": {
      "text/plain": [
       "1642.461239694083"
      ]
     },
     "execution_count": 12,
     "metadata": {},
     "output_type": "execute_result"
    }
   ],
   "source": [
    "1990-stats.norm.ppf(.95)*(2500/np.sqrt(140))"
   ]
  },
  {
   "cell_type": "code",
   "execution_count": 10,
   "id": "053dc024",
   "metadata": {},
   "outputs": [
    {
     "data": {
      "text/plain": [
       "2337.538760305917"
      ]
     },
     "execution_count": 10,
     "metadata": {},
     "output_type": "execute_result"
    }
   ],
   "source": [
    "1990+stats.norm.ppf(.95)*(2500/np.sqrt(140))"
   ]
  },
  {
   "cell_type": "code",
   "execution_count": 6,
   "id": "cf68af18",
   "metadata": {},
   "outputs": [],
   "source": [
    "# at 95%"
   ]
  },
  {
   "cell_type": "code",
   "execution_count": 7,
   "id": "26d4b94f",
   "metadata": {},
   "outputs": [
    {
     "data": {
      "text/plain": [
       "1575.8820248378292"
      ]
     },
     "execution_count": 7,
     "metadata": {},
     "output_type": "execute_result"
    }
   ],
   "source": [
    "1990-stats.norm.ppf(.975)*(2500/np.sqrt(140))"
   ]
  },
  {
   "cell_type": "code",
   "execution_count": 8,
   "id": "1b110c84",
   "metadata": {},
   "outputs": [
    {
     "data": {
      "text/plain": [
       "2404.1179751621708"
      ]
     },
     "execution_count": 8,
     "metadata": {},
     "output_type": "execute_result"
    }
   ],
   "source": [
    "1990+stats.norm.ppf(.975)*(2500/np.sqrt(140))"
   ]
  },
  {
   "cell_type": "code",
   "execution_count": 13,
   "id": "52815f43",
   "metadata": {},
   "outputs": [],
   "source": [
    "#at 99%"
   ]
  },
  {
   "cell_type": "code",
   "execution_count": 14,
   "id": "b42c07ac",
   "metadata": {},
   "outputs": [
    {
     "data": {
      "text/plain": [
       "1445.7567261628137"
      ]
     },
     "execution_count": 14,
     "metadata": {},
     "output_type": "execute_result"
    }
   ],
   "source": [
    "1990-stats.norm.ppf(.995)*(2500/np.sqrt(140))"
   ]
  },
  {
   "cell_type": "code",
   "execution_count": 15,
   "id": "52c71b17",
   "metadata": {},
   "outputs": [
    {
     "data": {
      "text/plain": [
       "2534.2432738371863"
      ]
     },
     "execution_count": 15,
     "metadata": {},
     "output_type": "execute_result"
    }
   ],
   "source": [
    "1990+stats.norm.ppf(.995)*(2500/np.sqrt(140))"
   ]
  },
  {
   "cell_type": "markdown",
   "id": "ffce2e29",
   "metadata": {},
   "source": [
    "### T-Distribution"
   ]
  },
  {
   "cell_type": "markdown",
   "id": "01d5e77b",
   "metadata": {},
   "source": [
    "Interval Estimate =x̄ ± [ t (1-α,n-1) * s / √n]"
   ]
  },
  {
   "cell_type": "code",
   "execution_count": 24,
   "id": "56b3da5a",
   "metadata": {},
   "outputs": [],
   "source": [
    "#at 80%"
   ]
  },
  {
   "cell_type": "code",
   "execution_count": 25,
   "id": "fa541b71",
   "metadata": {},
   "outputs": [
    {
     "data": {
      "text/plain": [
       "1681.689920144419"
      ]
     },
     "execution_count": 25,
     "metadata": {},
     "output_type": "execute_result"
    }
   ],
   "source": [
    "1990-stats.t.ppf(.9,139)*(2833/np.sqrt(140))"
   ]
  },
  {
   "cell_type": "code",
   "execution_count": 26,
   "id": "3cd5fa4c",
   "metadata": {},
   "outputs": [
    {
     "data": {
      "text/plain": [
       "2298.310079855581"
      ]
     },
     "execution_count": 26,
     "metadata": {},
     "output_type": "execute_result"
    }
   ],
   "source": [
    "1990+stats.t.ppf(.9,139)*(2833/np.sqrt(140))"
   ]
  },
  {
   "cell_type": "code",
   "execution_count": 27,
   "id": "30713282",
   "metadata": {},
   "outputs": [],
   "source": [
    "#at 90%"
   ]
  },
  {
   "cell_type": "code",
   "execution_count": 28,
   "id": "b4c8a0ef",
   "metadata": {},
   "outputs": [
    {
     "data": {
      "text/plain": [
       "1593.5266453977795"
      ]
     },
     "execution_count": 28,
     "metadata": {},
     "output_type": "execute_result"
    }
   ],
   "source": [
    "1990-stats.t.ppf(.95,139)*(2833/np.sqrt(140))"
   ]
  },
  {
   "cell_type": "code",
   "execution_count": 29,
   "id": "4a591b13",
   "metadata": {},
   "outputs": [
    {
     "data": {
      "text/plain": [
       "2386.4733546022203"
      ]
     },
     "execution_count": 29,
     "metadata": {},
     "output_type": "execute_result"
    }
   ],
   "source": [
    "1990+stats.t.ppf(.95,139)*(2833/np.sqrt(140))"
   ]
  },
  {
   "cell_type": "code",
   "execution_count": 20,
   "id": "118a17b3",
   "metadata": {},
   "outputs": [],
   "source": [
    "#at 95%"
   ]
  },
  {
   "cell_type": "code",
   "execution_count": 18,
   "id": "2c7f6416",
   "metadata": {},
   "outputs": [
    {
     "data": {
      "text/plain": [
       "1516.5999869168315"
      ]
     },
     "execution_count": 18,
     "metadata": {},
     "output_type": "execute_result"
    }
   ],
   "source": [
    "1990-stats.t.ppf(.975,139)*(2833/np.sqrt(140))"
   ]
  },
  {
   "cell_type": "code",
   "execution_count": 19,
   "id": "39f3f630",
   "metadata": {},
   "outputs": [
    {
     "data": {
      "text/plain": [
       "2463.4000130831682"
      ]
     },
     "execution_count": 19,
     "metadata": {},
     "output_type": "execute_result"
    }
   ],
   "source": [
    "1990+stats.t.ppf(.975,139)*(2833/np.sqrt(140))"
   ]
  },
  {
   "cell_type": "code",
   "execution_count": 30,
   "id": "b0012254",
   "metadata": {},
   "outputs": [],
   "source": [
    "#at 99%"
   ]
  },
  {
   "cell_type": "code",
   "execution_count": 31,
   "id": "97b1d6e8",
   "metadata": {},
   "outputs": [
    {
     "data": {
      "text/plain": [
       "1364.68402887186"
      ]
     },
     "execution_count": 31,
     "metadata": {},
     "output_type": "execute_result"
    }
   ],
   "source": [
    "1990-stats.t.ppf(.995,139)*(2833/np.sqrt(140))"
   ]
  },
  {
   "cell_type": "code",
   "execution_count": 32,
   "id": "8ddb7dc7",
   "metadata": {},
   "outputs": [
    {
     "data": {
      "text/plain": [
       "2615.31597112814"
      ]
     },
     "execution_count": 32,
     "metadata": {},
     "output_type": "execute_result"
    }
   ],
   "source": [
    "1990+stats.t.ppf(.995,139)*(2833/np.sqrt(140))"
   ]
  },
  {
   "cell_type": "code",
   "execution_count": 35,
   "id": "49d1e96a",
   "metadata": {},
   "outputs": [],
   "source": [
    "# t-distribution is more wider than z-distribution coz of the absence of σ population SD being dependent on sample data"
   ]
  },
  {
   "cell_type": "markdown",
   "id": "3d171706",
   "metadata": {},
   "source": [
    "# Confidence Interval for Glaxo & BEML"
   ]
  },
  {
   "cell_type": "code",
   "execution_count": 36,
   "id": "bf044b8a",
   "metadata": {},
   "outputs": [],
   "source": [
    "glaxo=pd.read_csv('/5.glaxo_df.csv')"
   ]
  },
  {
   "cell_type": "code",
   "execution_count": 67,
   "id": "276a5b9e",
   "metadata": {},
   "outputs": [],
   "source": [
    "beml=pd.read_csv('/5.beml_df.csv')"
   ]
  },
  {
   "cell_type": "code",
   "execution_count": 68,
   "id": "d9290fb4",
   "metadata": {},
   "outputs": [],
   "source": [
    "glaxo = glaxo.set_index(pd.DatetimeIndex(glaxo['Date']))\n",
    "beml = beml.set_index(pd.DatetimeIndex(beml['Date'])) "
   ]
  },
  {
   "cell_type": "code",
   "execution_count": 70,
   "id": "f5efde88",
   "metadata": {},
   "outputs": [
    {
     "data": {
      "text/html": [
       "<div>\n",
       "<style scoped>\n",
       "    .dataframe tbody tr th:only-of-type {\n",
       "        vertical-align: middle;\n",
       "    }\n",
       "\n",
       "    .dataframe tbody tr th {\n",
       "        vertical-align: top;\n",
       "    }\n",
       "\n",
       "    .dataframe thead th {\n",
       "        text-align: right;\n",
       "    }\n",
       "</style>\n",
       "<table border=\"1\" class=\"dataframe\">\n",
       "  <thead>\n",
       "    <tr style=\"text-align: right;\">\n",
       "      <th></th>\n",
       "      <th>Date</th>\n",
       "      <th>Date.1</th>\n",
       "      <th>Close</th>\n",
       "      <th>gain</th>\n",
       "    </tr>\n",
       "    <tr>\n",
       "      <th>Date</th>\n",
       "      <th></th>\n",
       "      <th></th>\n",
       "      <th></th>\n",
       "      <th></th>\n",
       "    </tr>\n",
       "  </thead>\n",
       "  <tbody>\n",
       "    <tr>\n",
       "      <th>2010-01-07</th>\n",
       "      <td>2010-01-07</td>\n",
       "      <td>2010-01-07</td>\n",
       "      <td>1144.15</td>\n",
       "      <td>0.003993</td>\n",
       "    </tr>\n",
       "    <tr>\n",
       "      <th>2010-01-08</th>\n",
       "      <td>2010-01-08</td>\n",
       "      <td>2010-01-08</td>\n",
       "      <td>1144.05</td>\n",
       "      <td>-0.000087</td>\n",
       "    </tr>\n",
       "    <tr>\n",
       "      <th>2010-01-11</th>\n",
       "      <td>2010-01-11</td>\n",
       "      <td>2010-01-11</td>\n",
       "      <td>1137.00</td>\n",
       "      <td>-0.006162</td>\n",
       "    </tr>\n",
       "    <tr>\n",
       "      <th>2010-01-12</th>\n",
       "      <td>2010-01-12</td>\n",
       "      <td>2010-01-12</td>\n",
       "      <td>1143.65</td>\n",
       "      <td>0.005849</td>\n",
       "    </tr>\n",
       "    <tr>\n",
       "      <th>2010-01-13</th>\n",
       "      <td>2010-01-13</td>\n",
       "      <td>2010-01-13</td>\n",
       "      <td>1142.25</td>\n",
       "      <td>-0.001224</td>\n",
       "    </tr>\n",
       "  </tbody>\n",
       "</table>\n",
       "</div>"
      ],
      "text/plain": [
       "                  Date      Date.1    Close      gain\n",
       "Date                                                 \n",
       "2010-01-07  2010-01-07  2010-01-07  1144.15  0.003993\n",
       "2010-01-08  2010-01-08  2010-01-08  1144.05 -0.000087\n",
       "2010-01-11  2010-01-11  2010-01-11  1137.00 -0.006162\n",
       "2010-01-12  2010-01-12  2010-01-12  1143.65  0.005849\n",
       "2010-01-13  2010-01-13  2010-01-13  1142.25 -0.001224"
      ]
     },
     "execution_count": 70,
     "metadata": {},
     "output_type": "execute_result"
    }
   ],
   "source": [
    "glaxo['gain'] = glaxo.Close.pct_change(periods = 1)\n",
    "beml['gain'] = beml.Close.pct_change(periods = 1)\n",
    "glaxo=glaxo.dropna()\n",
    "beml=beml.dropna()\n",
    "beml.head()"
   ]
  },
  {
   "cell_type": "code",
   "execution_count": 44,
   "id": "fc356c27",
   "metadata": {},
   "outputs": [],
   "source": [
    "# at 80%"
   ]
  },
  {
   "cell_type": "code",
   "execution_count": 53,
   "id": "9b9e56f7",
   "metadata": {},
   "outputs": [
    {
     "data": {
      "text/plain": [
       "(-0.02160816296124288, 0.022365208031377162)"
      ]
     },
     "execution_count": 53,
     "metadata": {},
     "output_type": "execute_result"
    }
   ],
   "source": [
    "stats.norm.interval(.9,glaxo.gain.mean(),glaxo.gain.std())"
   ]
  },
  {
   "cell_type": "code",
   "execution_count": 61,
   "id": "f3eace0a",
   "metadata": {},
   "outputs": [
    {
     "data": {
      "text/plain": [
       "(-0.04324497884940504, 0.04377874401914765)"
      ]
     },
     "execution_count": 61,
     "metadata": {},
     "output_type": "execute_result"
    }
   ],
   "source": [
    "stats.norm.interval(.9,beml.gain.mean(),beml.gain.std())"
   ]
  },
  {
   "cell_type": "code",
   "execution_count": 55,
   "id": "1f7732fb",
   "metadata": {},
   "outputs": [],
   "source": [
    "#at 90%"
   ]
  },
  {
   "cell_type": "code",
   "execution_count": 58,
   "id": "4caadf5f",
   "metadata": {},
   "outputs": [
    {
     "data": {
      "text/plain": [
       "(-0.02582022913868781, 0.026577274208822103)"
      ]
     },
     "execution_count": 58,
     "metadata": {},
     "output_type": "execute_result"
    }
   ],
   "source": [
    "stats.norm.interval(.95,glaxo.gain.mean(),glaxo.gain.std())"
   ]
  },
  {
   "cell_type": "code",
   "execution_count": 75,
   "id": "e88c6e40",
   "metadata": {},
   "outputs": [
    {
     "data": {
      "text/plain": [
       "(-0.05156390452322121, 0.05210196202753499)"
      ]
     },
     "execution_count": 75,
     "metadata": {},
     "output_type": "execute_result"
    }
   ],
   "source": [
    "stats.norm.interval(.95,beml.gain.mean(),beml.gain.std())"
   ]
  },
  {
   "cell_type": "code",
   "execution_count": 56,
   "id": "c7240b86",
   "metadata": {},
   "outputs": [],
   "source": [
    "#at 95%"
   ]
  },
  {
   "cell_type": "code",
   "execution_count": 63,
   "id": "feacf3d0",
   "metadata": {},
   "outputs": [
    {
     "data": {
      "text/plain": [
       "(-0.029582208337841878, 0.030339253407976195)"
      ]
     },
     "execution_count": 63,
     "metadata": {},
     "output_type": "execute_result"
    }
   ],
   "source": [
    "stats.norm.interval(.975,glaxo.gain.mean(),glaxo.gain.std())"
   ]
  },
  {
   "cell_type": "code",
   "execution_count": 64,
   "id": "5b8e2795",
   "metadata": {},
   "outputs": [
    {
     "data": {
      "text/plain": [
       "(-0.05902569111526422, 0.05955945628500689)"
      ]
     },
     "execution_count": 64,
     "metadata": {},
     "output_type": "execute_result"
    }
   ],
   "source": [
    "stats.norm.interval(.975,beml.gain.mean(),beml.gain.std())"
   ]
  },
  {
   "cell_type": "code",
   "execution_count": 57,
   "id": "2e7553bb",
   "metadata": {},
   "outputs": [],
   "source": [
    "#at 99%"
   ]
  },
  {
   "cell_type": "code",
   "execution_count": 65,
   "id": "99539550",
   "metadata": {},
   "outputs": [
    {
     "data": {
      "text/plain": [
       "(-0.037142973378513015, 0.0379000184486474)"
      ]
     },
     "execution_count": 65,
     "metadata": {},
     "output_type": "execute_result"
    }
   ],
   "source": [
    "stats.norm.interval(.995,glaxo.gain.mean(),glaxo.gain.std())"
   ]
  },
  {
   "cell_type": "code",
   "execution_count": 66,
   "id": "d53c5897",
   "metadata": {},
   "outputs": [
    {
     "data": {
      "text/plain": [
       "(-0.0739885176332501, 0.0745222828029929)"
      ]
     },
     "execution_count": 66,
     "metadata": {},
     "output_type": "execute_result"
    }
   ],
   "source": [
    "stats.norm.interval(.995,beml.gain.mean(),beml.gain.std())"
   ]
  }
 ],
 "metadata": {
  "kernelspec": {
   "display_name": "Python 3",
   "language": "python",
   "name": "python3"
  },
  "language_info": {
   "codemirror_mode": {
    "name": "ipython",
    "version": 3
   },
   "file_extension": ".py",
   "mimetype": "text/x-python",
   "name": "python",
   "nbconvert_exporter": "python",
   "pygments_lexer": "ipython3",
   "version": "3.8.8"
  }
 },
 "nbformat": 4,
 "nbformat_minor": 5
}
